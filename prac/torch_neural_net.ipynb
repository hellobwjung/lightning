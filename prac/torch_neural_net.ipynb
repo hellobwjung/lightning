{
 "cells": [
  {
   "cell_type": "code",
   "execution_count": 2,
   "id": "5c23828b-b1a5-48f4-8918-a0cc7e5eaeea",
   "metadata": {},
   "outputs": [],
   "source": [
    "import os\n",
    "import torch\n",
    "from torch import nn\n",
    "from torch.utils.data import DataLoader\n",
    "from torchvision import datasets, transforms\n"
   ]
  },
  {
   "cell_type": "code",
   "execution_count": 4,
   "id": "9a83febb-5703-4bc5-b0b9-897035f8e7dd",
   "metadata": {},
   "outputs": [
    {
     "name": "stdout",
     "output_type": "stream",
     "text": [
      "Using mps device\n"
     ]
    }
   ],
   "source": [
    "device = (\n",
    "    \"cuda\" if torch.cuda.is_available()\n",
    "    else \"mps\" if torch.backends.mps.is_available()\n",
    "    else \"cpu\"\n",
    ")\n",
    "\n",
    "print(f\"Using {device} device\")"
   ]
  },
  {
   "cell_type": "markdown",
   "id": "246d3e51-4128-46b4-9a08-5b884057f69f",
   "metadata": {},
   "source": [
    "# 클래스 정의하기"
   ]
  },
  {
   "cell_type": "code",
   "execution_count": 11,
   "id": "a7a66c8d-9308-48bd-bd72-f45f2a50723e",
   "metadata": {},
   "outputs": [],
   "source": [
    "class NeuralNetwork(nn.Module):\n",
    "    def __init__(self):\n",
    "        super().__init__()\n",
    "        self.flatten = nn.Flatten()\n",
    "        self.linear_relu_stack = nn.Sequential(\n",
    "            nn.Linear(28*28, 512),\n",
    "            nn.ReLU(),\n",
    "            nn.Linear(512, 512),\n",
    "            nn.ReLU(),\n",
    "            nn.Linear(512, 10)\n",
    "        )\n",
    "    def forward(self, x):\n",
    "        x = self.flatten(x)\n",
    "        logits = self.linear_relu_stack(x)\n",
    "        return logits"
   ]
  },
  {
   "cell_type": "code",
   "execution_count": 12,
   "id": "13efedbd-d45c-4ea4-93cc-6a2d16723768",
   "metadata": {},
   "outputs": [
    {
     "name": "stdout",
     "output_type": "stream",
     "text": [
      "NeuralNetwork(\n",
      "  (flatten): Flatten(start_dim=1, end_dim=-1)\n",
      "  (linear_relu_stack): Sequential(\n",
      "    (0): Linear(in_features=784, out_features=512, bias=True)\n",
      "    (1): ReLU()\n",
      "    (2): Linear(in_features=512, out_features=512, bias=True)\n",
      "    (3): ReLU()\n",
      "    (4): Linear(in_features=512, out_features=10, bias=True)\n",
      "  )\n",
      ")\n"
     ]
    }
   ],
   "source": [
    "model = NeuralNetwork().to(device)\n",
    "print(model)"
   ]
  },
  {
   "cell_type": "code",
   "execution_count": 14,
   "id": "cbc65bd4-2b7a-4871-a7ac-5c6910ed80bd",
   "metadata": {},
   "outputs": [
    {
     "name": "stdout",
     "output_type": "stream",
     "text": [
      "Predicted class: tensor([1], device='mps:0')\n"
     ]
    }
   ],
   "source": [
    "X = torch.rand(1, 28, 28, device=device)\n",
    "logits = model(X)\n",
    "pred_probab = nn.Softmax(dim=1)(logits)\n",
    "y_pred = pred_probab.argmax(1)\n",
    "print(f\"Predicted class: {y_pred}\")"
   ]
  },
  {
   "cell_type": "markdown",
   "id": "62b37a68-8d10-4ee1-b018-1054a37c33fc",
   "metadata": {},
   "source": [
    "# 모델 계층 (Layer)"
   ]
  },
  {
   "cell_type": "code",
   "execution_count": 15,
   "id": "2de75eb0-e510-41d9-923c-d0b42540f992",
   "metadata": {},
   "outputs": [
    {
     "name": "stdout",
     "output_type": "stream",
     "text": [
      "torch.Size([3, 28, 28])\n"
     ]
    }
   ],
   "source": [
    "input_image = torch.rand(3,28,28)\n",
    "print(input_image.size())"
   ]
  },
  {
   "cell_type": "markdown",
   "id": "84bf836f-da7a-4b4f-8fff-0fb5f1d5fc47",
   "metadata": {},
   "source": [
    "## nn.Flatten()"
   ]
  },
  {
   "cell_type": "code",
   "execution_count": 16,
   "id": "edbe8c3e-894d-4a98-b39e-59ea14899467",
   "metadata": {},
   "outputs": [
    {
     "name": "stdout",
     "output_type": "stream",
     "text": [
      "torch.Size([3, 784])\n"
     ]
    }
   ],
   "source": [
    "flatten = nn.Flatten()\n",
    "flat_image = flatten(input_image)\n",
    "print(flat_image.size())"
   ]
  },
  {
   "cell_type": "markdown",
   "id": "2b56d5c1-de9f-4f95-8019-05cfad773a79",
   "metadata": {},
   "source": [
    "## nn.Linear()"
   ]
  },
  {
   "cell_type": "code",
   "execution_count": 21,
   "id": "3a37dd72-daf1-4a69-8aef-96db0e27a95a",
   "metadata": {},
   "outputs": [
    {
     "name": "stdout",
     "output_type": "stream",
     "text": [
      "torch.Size([3, 20])\n"
     ]
    }
   ],
   "source": [
    "layer1 = nn.Linear(in_features=28*28, out_features=20)\n",
    "hidden1 = layer1(flat_image)\n",
    "print(hidden1.size())"
   ]
  },
  {
   "cell_type": "markdown",
   "id": "1a818cfe-86e1-4e1a-8e8e-8fbe7c496f2b",
   "metadata": {},
   "source": [
    "## nn.ReLU()"
   ]
  },
  {
   "cell_type": "code",
   "execution_count": 22,
   "id": "60f0b629-06e2-4a73-8e8a-836bd383f474",
   "metadata": {},
   "outputs": [
    {
     "name": "stdout",
     "output_type": "stream",
     "text": [
      "Before ReLU: tensor([[-0.2088,  0.0294, -0.1441,  0.1399,  0.2695,  0.0350,  0.2805, -0.0767,\n",
      "         -0.1105, -0.2123, -0.1893, -0.3991,  0.0500, -0.5587,  0.0988,  0.2145,\n",
      "         -0.1087, -0.3886, -0.1992,  0.5461],\n",
      "        [-0.0283,  0.3177,  0.1485,  0.2202,  0.2693,  0.0112,  0.1871, -0.1125,\n",
      "         -0.1716,  0.1197, -0.0430,  0.0354, -0.5281, -0.8030,  0.0162,  0.1827,\n",
      "         -0.1875, -0.2549, -0.2252,  0.6758],\n",
      "        [ 0.1303,  0.0956,  0.2360, -0.0101,  0.5512, -0.0811, -0.1824, -0.0437,\n",
      "         -0.0920, -0.1291, -0.1328, -0.2062, -0.2836, -0.7369, -0.1921,  0.1203,\n",
      "         -0.0592, -0.2174, -0.1172,  0.2859]], grad_fn=<AddmmBackward0>)\n",
      "\n",
      "\n",
      "After ReLU: tensor([[0.0000, 0.0294, 0.0000, 0.1399, 0.2695, 0.0350, 0.2805, 0.0000, 0.0000,\n",
      "         0.0000, 0.0000, 0.0000, 0.0500, 0.0000, 0.0988, 0.2145, 0.0000, 0.0000,\n",
      "         0.0000, 0.5461],\n",
      "        [0.0000, 0.3177, 0.1485, 0.2202, 0.2693, 0.0112, 0.1871, 0.0000, 0.0000,\n",
      "         0.1197, 0.0000, 0.0354, 0.0000, 0.0000, 0.0162, 0.1827, 0.0000, 0.0000,\n",
      "         0.0000, 0.6758],\n",
      "        [0.1303, 0.0956, 0.2360, 0.0000, 0.5512, 0.0000, 0.0000, 0.0000, 0.0000,\n",
      "         0.0000, 0.0000, 0.0000, 0.0000, 0.0000, 0.0000, 0.1203, 0.0000, 0.0000,\n",
      "         0.0000, 0.2859]], grad_fn=<ReluBackward0>)\n"
     ]
    }
   ],
   "source": [
    "print(f\"Before ReLU: {hidden1}\\n\\n\")\n",
    "hidden1 = nn.ReLU()(hidden1)\n",
    "print(f\"After ReLU: {hidden1}\")"
   ]
  },
  {
   "cell_type": "markdown",
   "id": "2a16ced3-67ed-4dde-a21d-8970eb1abd54",
   "metadata": {},
   "source": [
    "## nn.Softmax()"
   ]
  },
  {
   "cell_type": "code",
   "execution_count": 23,
   "id": "b40a9926-83fa-40b3-83a9-c159a5d3f18a",
   "metadata": {},
   "outputs": [],
   "source": [
    "softmax = nn.Softmax(dim=1)\n",
    "pred_softmax = softmax(logits)"
   ]
  },
  {
   "cell_type": "markdown",
   "id": "48df430a-39d8-429a-9470-c07250d31c70",
   "metadata": {},
   "source": [
    "## 모델 매개변수"
   ]
  },
  {
   "cell_type": "code",
   "execution_count": 24,
   "id": "b91f7d11-f5f3-44bf-8da3-a1ded7b021c4",
   "metadata": {},
   "outputs": [
    {
     "name": "stdout",
     "output_type": "stream",
     "text": [
      "Model structure: NeuralNetwork(\n",
      "  (flatten): Flatten(start_dim=1, end_dim=-1)\n",
      "  (linear_relu_stack): Sequential(\n",
      "    (0): Linear(in_features=784, out_features=512, bias=True)\n",
      "    (1): ReLU()\n",
      "    (2): Linear(in_features=512, out_features=512, bias=True)\n",
      "    (3): ReLU()\n",
      "    (4): Linear(in_features=512, out_features=10, bias=True)\n",
      "  )\n",
      ")\n",
      "\n",
      "\n",
      "Layer: linear_relu_stack.0.weight | Size: torch.Size([512, 784]) | Values : tensor([[-0.0253,  0.0333, -0.0051,  ..., -0.0140, -0.0039,  0.0117],\n",
      "        [-0.0323,  0.0240, -0.0100,  ...,  0.0330,  0.0103, -0.0333]],\n",
      "       device='mps:0', grad_fn=<SliceBackward0>) \n",
      "\n",
      "Layer: linear_relu_stack.0.bias | Size: torch.Size([512]) | Values : tensor([0.0300, 0.0160], device='mps:0', grad_fn=<SliceBackward0>) \n",
      "\n",
      "Layer: linear_relu_stack.2.weight | Size: torch.Size([512, 512]) | Values : tensor([[-0.0400,  0.0086, -0.0344,  ..., -0.0204, -0.0284,  0.0365],\n",
      "        [ 0.0134, -0.0102,  0.0300,  ..., -0.0244, -0.0274, -0.0138]],\n",
      "       device='mps:0', grad_fn=<SliceBackward0>) \n",
      "\n",
      "Layer: linear_relu_stack.2.bias | Size: torch.Size([512]) | Values : tensor([0.0080, 0.0088], device='mps:0', grad_fn=<SliceBackward0>) \n",
      "\n",
      "Layer: linear_relu_stack.4.weight | Size: torch.Size([10, 512]) | Values : tensor([[-0.0043,  0.0067, -0.0376,  ..., -0.0162,  0.0038,  0.0001],\n",
      "        [-0.0367, -0.0218, -0.0341,  ...,  0.0089, -0.0331, -0.0034]],\n",
      "       device='mps:0', grad_fn=<SliceBackward0>) \n",
      "\n",
      "Layer: linear_relu_stack.4.bias | Size: torch.Size([10]) | Values : tensor([-0.0205,  0.0222], device='mps:0', grad_fn=<SliceBackward0>) \n",
      "\n"
     ]
    }
   ],
   "source": [
    "print(f\"Model structure: {model}\\n\\n\")\n",
    "\n",
    "for name, param in model.named_parameters():\n",
    "    print(f\"Layer: {name} | Size: {param.size()} | Values : {param[:2]} \\n\")"
   ]
  },
  {
   "cell_type": "code",
   "execution_count": null,
   "id": "1c434c4e-ed73-400b-af57-fafb71b28d32",
   "metadata": {},
   "outputs": [],
   "source": []
  },
  {
   "cell_type": "code",
   "execution_count": null,
   "id": "c5860ef7-c42e-4051-86be-47acbf8a76f8",
   "metadata": {},
   "outputs": [],
   "source": []
  }
 ],
 "metadata": {
  "kernelspec": {
   "display_name": "Python 3 (ipykernel)",
   "language": "python",
   "name": "python3"
  },
  "language_info": {
   "codemirror_mode": {
    "name": "ipython",
    "version": 3
   },
   "file_extension": ".py",
   "mimetype": "text/x-python",
   "name": "python",
   "nbconvert_exporter": "python",
   "pygments_lexer": "ipython3",
   "version": "3.9.16"
  }
 },
 "nbformat": 4,
 "nbformat_minor": 5
}
