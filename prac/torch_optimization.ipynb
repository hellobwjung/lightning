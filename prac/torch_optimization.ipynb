{
 "cells": [
  {
   "cell_type": "code",
   "execution_count": 1,
   "id": "a68e4178-641e-40da-8961-411d1e96c626",
   "metadata": {},
   "outputs": [],
   "source": [
    "import torch\n",
    "from torch import nn\n",
    "from torch.utils.data import DataLoader\n",
    "from torchvision import datasets\n",
    "from torchvision.transforms import ToTensor"
   ]
  },
  {
   "cell_type": "code",
   "execution_count": 2,
   "id": "18e3aee6-9d7d-4515-8635-f0f812fb230c",
   "metadata": {},
   "outputs": [],
   "source": [
    "training_data = datasets.FashionMNIST(\n",
    "    root=\"data\",\n",
    "    train=True,\n",
    "    download=True,\n",
    "    transform=ToTensor()\n",
    ")\n",
    "\n",
    "test_data = datasets.FashionMNIST(\n",
    "    root=\"data\",\n",
    "    train=False,\n",
    "    download=True,\n",
    "    transform=ToTensor()\n",
    ")"
   ]
  },
  {
   "cell_type": "code",
   "execution_count": 3,
   "id": "f5148d71-7c28-46f7-b765-dbfb7b8f515f",
   "metadata": {},
   "outputs": [],
   "source": [
    "train_dataloader = DataLoader(training_data, batch_size=64)\n",
    "test_dataloader = DataLoader(test_data, batch_size=64)"
   ]
  },
  {
   "cell_type": "code",
   "execution_count": 4,
   "id": "eb9e77f7-8c18-43bc-bd8d-5cce710ca529",
   "metadata": {},
   "outputs": [
    {
     "name": "stdout",
     "output_type": "stream",
     "text": [
      "NeuralNetwork(\n",
      "  (flatten): Flatten(start_dim=1, end_dim=-1)\n",
      "  (linear_relu_stack): Sequential(\n",
      "    (0): Linear(in_features=784, out_features=512, bias=True)\n",
      "    (1): ReLU()\n",
      "    (2): Linear(in_features=512, out_features=512, bias=True)\n",
      "    (3): ReLU()\n",
      "    (4): Linear(in_features=512, out_features=10, bias=True)\n",
      "  )\n",
      ")\n"
     ]
    }
   ],
   "source": [
    "class NeuralNetwork(nn.Module):\n",
    "    def __init__(self):\n",
    "        super(NeuralNetwork, self).__init__()\n",
    "        self.flatten = nn.Flatten()\n",
    "        self.linear_relu_stack = nn.Sequential(\n",
    "            nn.Linear(28*28, 512),\n",
    "            nn.ReLU(),\n",
    "            nn.Linear(512, 512),\n",
    "            nn.ReLU(),\n",
    "            nn.Linear(512, 10),\n",
    "        )\n",
    "\n",
    "    def forward(self, x):\n",
    "        x = self.flatten(x)\n",
    "        logits = self.linear_relu_stack(x)\n",
    "        return logits\n",
    "\n",
    "model = NeuralNetwork()\n",
    "print(model)"
   ]
  },
  {
   "cell_type": "markdown",
   "id": "c0b74088-e511-4a59-92de-36694825c68b",
   "metadata": {},
   "source": [
    "## Hypterparameter"
   ]
  },
  {
   "cell_type": "code",
   "execution_count": 5,
   "id": "826fef0a-eb6b-4b2c-8c51-d0c5725304a1",
   "metadata": {},
   "outputs": [],
   "source": [
    "learning_rate = 1e-3\n",
    "batch_size = 64\n",
    "epochs = 5"
   ]
  },
  {
   "cell_type": "markdown",
   "id": "2e25d9df-12b2-4bb1-8d8f-ed7ab029d736",
   "metadata": {},
   "source": [
    "## Optimization Loop"
   ]
  },
  {
   "cell_type": "markdown",
   "id": "001fc725-875a-422d-bc65-140c8b8d6247",
   "metadata": {},
   "source": [
    "## Loss function"
   ]
  },
  {
   "cell_type": "code",
   "execution_count": 6,
   "id": "284d0c26-51e6-4e56-9946-c27a3e83fd71",
   "metadata": {},
   "outputs": [],
   "source": [
    "loss_fn = nn.CrossEntropyLoss()"
   ]
  },
  {
   "cell_type": "markdown",
   "id": "5bf376ef-175e-4122-86f3-8f7cf907a244",
   "metadata": {},
   "source": [
    "## Optimizer"
   ]
  },
  {
   "cell_type": "code",
   "execution_count": 7,
   "id": "2fbb5c6f-1334-496e-9544-4d2f888cd6b8",
   "metadata": {},
   "outputs": [],
   "source": [
    "optimizer = torch.optim.SGD(model.parameters(), lr=learning_rate)"
   ]
  },
  {
   "cell_type": "markdown",
   "id": "a1d238be-3a32-498f-b73f-7fc47d2701ed",
   "metadata": {},
   "source": [
    "* optimizer.zero_grad(): 매개변수 변화도 재설정\n",
    "* loss.backwards(): prediction loss back prop.\n",
    "* optimizer.step(): optimizes parameter using prediction loss"
   ]
  },
  {
   "cell_type": "markdown",
   "id": "f80d4634-fa02-4400-8891-06b6ba310afe",
   "metadata": {},
   "source": [
    "## 전체 구현"
   ]
  },
  {
   "cell_type": "code",
   "execution_count": 12,
   "id": "602820f6-ac6b-4ad8-862d-f48bafe0ac60",
   "metadata": {},
   "outputs": [],
   "source": [
    "def train_loop(dataloader, model, loss_fn, optimizer):\n",
    "    size = len(dataloader.dataset)\n",
    "    for batch, (X, y) in enumerate(dataloader):\n",
    "        # pred loss\n",
    "        pred = model(X)\n",
    "        loss = loss_fn(pred, y)\n",
    "\n",
    "        # loss backprop\n",
    "        optimizer.zero_grad()\n",
    "        loss.backward()\n",
    "        optimizer.step()\n",
    "\n",
    "        if batch % 100 ==0:\n",
    "            loss, current = loss.item(), (batch+1) * len(X)\n",
    "            print(f\"loss: {loss:>7f}  [{current:>5d}/{size:>5d}]\")"
   ]
  },
  {
   "cell_type": "code",
   "execution_count": 13,
   "id": "fd300e1a-73f8-4c80-a03f-d434e2c6dfe0",
   "metadata": {},
   "outputs": [],
   "source": [
    "def test_loop(dataloader, model, loss_fn):\n",
    "    size = len(dataloader.dataset)\n",
    "    num_batches = len(dataloader)\n",
    "    test_loss, correct = 0, 0\n",
    "\n",
    "    with torch.no_grad():\n",
    "        for X, y in dataloader:\n",
    "            pred = model(X)\n",
    "            test_loss += loss_fn(pred, y).item()\n",
    "            correct += (pred.argmax(1)==y).type(torch.float).sum().item()\n",
    "\n",
    "    test_loss /= num_batches\n",
    "    correct /= size\n",
    "    print(f\"Test Error: \\n Accuracy: {(100*correct):>0.1f}%, Avg loss: {test_loss:>8f} \\n\")\n"
   ]
  },
  {
   "cell_type": "code",
   "execution_count": 14,
   "id": "99475e72-de38-46e2-9886-24fe5e383ce3",
   "metadata": {},
   "outputs": [
    {
     "name": "stdout",
     "output_type": "stream",
     "text": [
      "Epoch 1\n",
      "-------------------------------\n",
      "loss: 2.136067  [   64/60000]\n",
      "loss: 0.547209  [ 6464/60000]\n",
      "loss: 0.397511  [12864/60000]\n",
      "loss: 0.505387  [19264/60000]\n",
      "loss: 0.425313  [25664/60000]\n",
      "loss: 0.422986  [32064/60000]\n",
      "loss: 0.374794  [38464/60000]\n",
      "loss: 0.537816  [44864/60000]\n",
      "loss: 0.480961  [51264/60000]\n",
      "loss: 0.533268  [57664/60000]\n",
      "Test Error: \n",
      " Accuracy: 84.4%, Avg loss: 0.425661 \n",
      "\n",
      "Done!\n",
      "Epoch 2\n",
      "-------------------------------\n",
      "loss: 0.260509  [   64/60000]\n",
      "loss: 0.366688  [ 6464/60000]\n",
      "loss: 0.294957  [12864/60000]\n",
      "loss: 0.395225  [19264/60000]\n",
      "loss: 0.423893  [25664/60000]\n",
      "loss: 0.368929  [32064/60000]\n",
      "loss: 0.311007  [38464/60000]\n",
      "loss: 0.495923  [44864/60000]\n",
      "loss: 0.394137  [51264/60000]\n",
      "loss: 0.456255  [57664/60000]\n",
      "Test Error: \n",
      " Accuracy: 85.2%, Avg loss: 0.395863 \n",
      "\n",
      "Done!\n",
      "Epoch 3\n",
      "-------------------------------\n",
      "loss: 0.216184  [   64/60000]\n",
      "loss: 0.337523  [ 6464/60000]\n",
      "loss: 0.239142  [12864/60000]\n",
      "loss: 0.327971  [19264/60000]\n",
      "loss: 0.369970  [25664/60000]\n",
      "loss: 0.340270  [32064/60000]\n",
      "loss: 0.290159  [38464/60000]\n",
      "loss: 0.436383  [44864/60000]\n",
      "loss: 0.339356  [51264/60000]\n",
      "loss: 0.367765  [57664/60000]\n",
      "Test Error: \n",
      " Accuracy: 85.9%, Avg loss: 0.381684 \n",
      "\n",
      "Done!\n",
      "Epoch 4\n",
      "-------------------------------\n",
      "loss: 0.224299  [   64/60000]\n",
      "loss: 0.301402  [ 6464/60000]\n",
      "loss: 0.229717  [12864/60000]\n",
      "loss: 0.235268  [19264/60000]\n",
      "loss: 0.356823  [25664/60000]\n",
      "loss: 0.336418  [32064/60000]\n",
      "loss: 0.270124  [38464/60000]\n",
      "loss: 0.380185  [44864/60000]\n",
      "loss: 0.326254  [51264/60000]\n",
      "loss: 0.327244  [57664/60000]\n",
      "Test Error: \n",
      " Accuracy: 86.8%, Avg loss: 0.361461 \n",
      "\n",
      "Done!\n",
      "Epoch 5\n",
      "-------------------------------\n",
      "loss: 0.217259  [   64/60000]\n",
      "loss: 0.249847  [ 6464/60000]\n",
      "loss: 0.214758  [12864/60000]\n",
      "loss: 0.235501  [19264/60000]\n",
      "loss: 0.359226  [25664/60000]\n",
      "loss: 0.310036  [32064/60000]\n",
      "loss: 0.254767  [38464/60000]\n",
      "loss: 0.346359  [44864/60000]\n",
      "loss: 0.269053  [51264/60000]\n",
      "loss: 0.314080  [57664/60000]\n",
      "Test Error: \n",
      " Accuracy: 87.2%, Avg loss: 0.354386 \n",
      "\n",
      "Done!\n",
      "Epoch 6\n",
      "-------------------------------\n",
      "loss: 0.199558  [   64/60000]\n",
      "loss: 0.215560  [ 6464/60000]\n",
      "loss: 0.206613  [12864/60000]\n",
      "loss: 0.188976  [19264/60000]\n",
      "loss: 0.373129  [25664/60000]\n",
      "loss: 0.270463  [32064/60000]\n",
      "loss: 0.225833  [38464/60000]\n",
      "loss: 0.315146  [44864/60000]\n",
      "loss: 0.212122  [51264/60000]\n",
      "loss: 0.286934  [57664/60000]\n",
      "Test Error: \n",
      " Accuracy: 87.6%, Avg loss: 0.350026 \n",
      "\n",
      "Done!\n",
      "Epoch 7\n",
      "-------------------------------\n",
      "loss: 0.185426  [   64/60000]\n",
      "loss: 0.215108  [ 6464/60000]\n",
      "loss: 0.184272  [12864/60000]\n",
      "loss: 0.195305  [19264/60000]\n",
      "loss: 0.330784  [25664/60000]\n",
      "loss: 0.262969  [32064/60000]\n",
      "loss: 0.211346  [38464/60000]\n",
      "loss: 0.314672  [44864/60000]\n",
      "loss: 0.261948  [51264/60000]\n",
      "loss: 0.271442  [57664/60000]\n",
      "Test Error: \n",
      " Accuracy: 87.7%, Avg loss: 0.353378 \n",
      "\n",
      "Done!\n",
      "Epoch 8\n",
      "-------------------------------\n",
      "loss: 0.207281  [   64/60000]\n",
      "loss: 0.198384  [ 6464/60000]\n",
      "loss: 0.201634  [12864/60000]\n",
      "loss: 0.184025  [19264/60000]\n",
      "loss: 0.302909  [25664/60000]\n",
      "loss: 0.260868  [32064/60000]\n",
      "loss: 0.238016  [38464/60000]\n",
      "loss: 0.274957  [44864/60000]\n",
      "loss: 0.247819  [51264/60000]\n",
      "loss: 0.274420  [57664/60000]\n",
      "Test Error: \n",
      " Accuracy: 87.8%, Avg loss: 0.355309 \n",
      "\n",
      "Done!\n",
      "Epoch 9\n",
      "-------------------------------\n",
      "loss: 0.158856  [   64/60000]\n",
      "loss: 0.155921  [ 6464/60000]\n",
      "loss: 0.170171  [12864/60000]\n",
      "loss: 0.217238  [19264/60000]\n",
      "loss: 0.303274  [25664/60000]\n",
      "loss: 0.242959  [32064/60000]\n",
      "loss: 0.206101  [38464/60000]\n",
      "loss: 0.274377  [44864/60000]\n",
      "loss: 0.184118  [51264/60000]\n",
      "loss: 0.257437  [57664/60000]\n",
      "Test Error: \n",
      " Accuracy: 87.9%, Avg loss: 0.367874 \n",
      "\n",
      "Done!\n",
      "Epoch 10\n",
      "-------------------------------\n",
      "loss: 0.162857  [   64/60000]\n",
      "loss: 0.153763  [ 6464/60000]\n",
      "loss: 0.199987  [12864/60000]\n",
      "loss: 0.172549  [19264/60000]\n",
      "loss: 0.319006  [25664/60000]\n",
      "loss: 0.235561  [32064/60000]\n",
      "loss: 0.250540  [38464/60000]\n",
      "loss: 0.242010  [44864/60000]\n",
      "loss: 0.190459  [51264/60000]\n",
      "loss: 0.255645  [57664/60000]\n",
      "Test Error: \n",
      " Accuracy: 88.1%, Avg loss: 0.377322 \n",
      "\n",
      "Done!\n"
     ]
    }
   ],
   "source": [
    "loss_fn = nn.CrossEntropyLoss()\n",
    "optimizer = torch.optim.Adam(model.parameters(), lr=learning_rate)\n",
    "\n",
    "epochs = 10\n",
    "for t in range(epochs):\n",
    "    print(f\"Epoch {t+1}\\n-------------------------------\")\n",
    "    train_loop(train_dataloader, model, loss_fn, optimizer)\n",
    "    test_loop(test_dataloader, model, loss_fn)\n",
    "    print(\"Done!\")"
   ]
  },
  {
   "cell_type": "code",
   "execution_count": null,
   "id": "b7adcf9f-6ab1-4566-9e1c-786865b9576e",
   "metadata": {},
   "outputs": [],
   "source": []
  },
  {
   "cell_type": "code",
   "execution_count": null,
   "id": "ac05886d-3ae4-4207-9230-fd899b3999fd",
   "metadata": {},
   "outputs": [],
   "source": []
  }
 ],
 "metadata": {
  "kernelspec": {
   "display_name": "Python 3 (ipykernel)",
   "language": "python",
   "name": "python3"
  },
  "language_info": {
   "codemirror_mode": {
    "name": "ipython",
    "version": 3
   },
   "file_extension": ".py",
   "mimetype": "text/x-python",
   "name": "python",
   "nbconvert_exporter": "python",
   "pygments_lexer": "ipython3",
   "version": "3.9.16"
  }
 },
 "nbformat": 4,
 "nbformat_minor": 5
}
