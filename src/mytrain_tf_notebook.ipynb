{
 "cells": [
  {
   "cell_type": "code",
   "execution_count": 3,
   "id": "e90612a3",
   "metadata": {
    "ExecuteTime": {
     "end_time": "2024-01-24T10:45:16.342376Z",
     "start_time": "2024-01-24T10:45:16.339639Z"
    }
   },
   "outputs": [],
   "source": [
    "\n",
    "from __future__ import absolute_import, division, print_function, unicode_literals\n",
    "\n",
    "import argparse\n",
    "import tensorflow as tf\n",
    "from tensorflow.python.client import device_lib\n",
    " \n",
    "\n",
    "from mymodel_tf import save_as_tflite, GenerationTF\n",
    "from myutils_tf import *"
   ]
  },
  {
   "cell_type": "code",
   "execution_count": 4,
   "id": "d4155a27",
   "metadata": {
    "ExecuteTime": {
     "end_time": "2024-01-24T10:45:17.514653Z",
     "start_time": "2024-01-24T10:45:17.506045Z"
    }
   },
   "outputs": [
    {
     "name": "stdout",
     "output_type": "stream",
     "text": [
      "1\n"
     ]
    },
    {
     "name": "stderr",
     "output_type": "stream",
     "text": [
      "2024-01-24 18:45:17.508535: I metal_plugin/src/device/metal_device.cc:1154] Metal device set to: Apple M1\n",
      "2024-01-24 18:45:17.508558: I metal_plugin/src/device/metal_device.cc:296] systemMemory: 16.00 GB\n",
      "2024-01-24 18:45:17.508563: I metal_plugin/src/device/metal_device.cc:313] maxCacheSize: 5.33 GB\n",
      "2024-01-24 18:45:17.508793: I tensorflow/core/common_runtime/pluggable_device/pluggable_device_factory.cc:303] Could not identify NUMA node of platform GPU ID 0, defaulting to 0. Your kernel may not have been built with NUMA support.\n",
      "2024-01-24 18:45:17.508989: I tensorflow/core/common_runtime/pluggable_device/pluggable_device_factory.cc:269] Created TensorFlow device (/device:GPU:0 with 0 MB memory) -> physical PluggableDevice (device: 0, name: METAL, pci bus id: <undefined>)\n"
     ]
    }
   ],
   "source": [
    "\n",
    "def get_available_gpus():\n",
    "    local_device_protos = device_lib.list_local_devices()\n",
    "    return [x.name for x in local_device_protos if x.device_type == 'GPU']\n",
    "\n",
    "NGPU = len(get_available_gpus())\n",
    "# if NGPU == 0:\n",
    "#     NGPU = 1\n",
    "\n",
    "print(NGPU)"
   ]
  },
  {
   "cell_type": "markdown",
   "id": "ce0118e4",
   "metadata": {},
   "source": [
    "# Hyper params"
   ]
  },
  {
   "cell_type": "code",
   "execution_count": null,
   "id": "c2e121dd",
   "metadata": {
    "ExecuteTime": {
     "start_time": "2024-01-24T10:51:01.830Z"
    }
   },
   "outputs": [],
   "source": [
    "# for Adam\n",
    "LEARNING_RATE = 1e-3\n",
    "WEIGHT_DECAY = 1e-8\n"
   ]
  },
  {
   "cell_type": "markdown",
   "id": "bc512855",
   "metadata": {},
   "source": [
    "# INPUT PARAMS"
   ]
  },
  {
   "cell_type": "code",
   "execution_count": 6,
   "id": "37919dcb",
   "metadata": {
    "ExecuteTime": {
     "end_time": "2024-01-24T10:45:20.496894Z",
     "start_time": "2024-01-24T10:45:20.494929Z"
    }
   },
   "outputs": [],
   "source": [
    "# update params. using input arguments\n",
    "input_type = 'rgb'\n",
    "patch_size = 128\n",
    "batch_size = 512\n",
    "constraint_max = 6\n",
    "constraint = {'min_value': 0, 'max_value': constraint_max}\n",
    "input_max = 1\n",
    "\n",
    "model_name = 'unetv2'  # resnet_flat, resnet_ed, bwunet, unet, unetv2 \n",
    "model_sig = '_noise'\n",
    "myepoch = 600\n",
    "\n",
    "test = False\n",
    "# test = True"
   ]
  },
  {
   "cell_type": "markdown",
   "id": "d5ed244c",
   "metadata": {},
   "source": [
    "## data path"
   ]
  },
  {
   "cell_type": "code",
   "execution_count": 17,
   "id": "82331cea",
   "metadata": {
    "ExecuteTime": {
     "end_time": "2024-01-24T10:48:19.510231Z",
     "start_time": "2024-01-24T10:48:19.505811Z"
    }
   },
   "outputs": [
    {
     "name": "stdout",
     "output_type": "stream",
     "text": [
      "/Users/bw/Code/lightning/src\n",
      "/Users/bw/Dataset/MIPI_demosaic_hybridevs/train/tfrecords\n"
     ]
    }
   ],
   "source": [
    "cwd = os.getcwd()\n",
    "print(cwd)\n",
    "\n",
    "data_path = '/Users/bw/Dataset/MIPI_demosaic_hybridevs/train/tfrecords'\n",
    "\n",
    "if '/content/drive/MyDrive' in cwd:\n",
    "    data_path = '/content/drive/MyDrive/Datasets/MIPI_tetra_hybridenvs/train/tfrecords'\n",
    "\n",
    "print(data_path)"
   ]
  },
  {
   "cell_type": "markdown",
   "id": "5e4862f9",
   "metadata": {},
   "source": [
    "# UTILS"
   ]
  },
  {
   "cell_type": "code",
   "execution_count": 18,
   "id": "b689fd36",
   "metadata": {
    "ExecuteTime": {
     "end_time": "2024-01-24T10:48:33.977283Z",
     "start_time": "2024-01-24T10:48:33.970512Z"
    }
   },
   "outputs": [
    {
     "name": "stdout",
     "output_type": "stream",
     "text": [
      "[bwutils] input_type rgb\n",
      "[bwutils] output_type data_only\n",
      "[bwutils] cfa_pattern 2\n",
      "[bwutils] patch_size 128\n",
      "[bwutils] crop_size 128\n",
      "[bwutils] upscaling_factor None\n",
      "[bwutils] input_max 1\n",
      "[bwutils] loss_type ['rgb', 'yuv', 'ssim']\n",
      "[bwutils] loss_mode 2norm <function square at 0x168d38c10>\n",
      "[bwutils] loss_scale 10000.0\n",
      "[bwutils] cache_enable True\n"
     ]
    }
   ],
   "source": [
    "loss_type = ['rgb', 'yuv', 'ssim']  # 'rgb', 'yuv', 'ploss\n",
    "# loss_type = ['rgb']  # 'rgb', 'yuv', 'ploss\n",
    "# loss_type = ['yuv']\n",
    "\n",
    "# get util class\n",
    "if test:\n",
    "    cache_enable=False\n",
    "else:\n",
    "    cache_enable=True\n",
    "\n",
    "utils = bwutils(input_type,\n",
    "                cfa_pattern='tetra',\n",
    "                patch_size=patch_size,\n",
    "                crop_size=patch_size,\n",
    "                input_max=input_max,\n",
    "                loss_type=loss_type, # 'rgb', 'yuv', 'ploss'\n",
    "                loss_mode='2norm',\n",
    "                loss_scale=1e4,\n",
    "                cache_enable=cache_enable)\n"
   ]
  },
  {
   "cell_type": "markdown",
   "id": "cf974da4",
   "metadata": {},
   "source": [
    "# MODEL PATH"
   ]
  },
  {
   "cell_type": "code",
   "execution_count": 19,
   "id": "84953604",
   "metadata": {
    "ExecuteTime": {
     "end_time": "2024-01-24T10:48:36.644876Z",
     "start_time": "2024-01-24T10:48:36.640480Z"
    }
   },
   "outputs": [],
   "source": [
    "base_path = 'model_dir'\n",
    "os.makedirs(base_path, exist_ok=True)\n",
    "model_dir = os.path.join(base_path, 'checkpoint', model_name + model_sig)"
   ]
  },
  {
   "cell_type": "markdown",
   "id": "c1d4329d",
   "metadata": {},
   "source": [
    "# TFRECORD READ"
   ]
  },
  {
   "cell_type": "code",
   "execution_count": 20,
   "id": "4f3699cd",
   "metadata": {
    "ExecuteTime": {
     "end_time": "2024-01-24T10:48:38.994985Z",
     "start_time": "2024-01-24T10:48:38.987778Z"
    }
   },
   "outputs": [],
   "source": [
    "def get_tfrecords(path, keyword):\n",
    "    files = tf.io.gfile.glob(os.path.join(path, f'*{keyword}*tfrecords'))\n",
    "    files.sort()\n",
    "    return files\n",
    "train_files = get_tfrecords(data_path, 'train')\n",
    "eval_files = get_tfrecords(data_path, 'valid')\n",
    "viz_files = get_tfrecords(data_path, 'viz')"
   ]
  },
  {
   "cell_type": "code",
   "execution_count": 21,
   "id": "7b798b72",
   "metadata": {
    "ExecuteTime": {
     "end_time": "2024-01-24T10:48:39.959488Z",
     "start_time": "2024-01-24T10:48:39.955376Z"
    }
   },
   "outputs": [
    {
     "name": "stdout",
     "output_type": "stream",
     "text": [
      "data_path,  /Users/bw/Dataset/MIPI_demosaic_hybridevs/train/tfrecords\n",
      "/Users/bw/Dataset/MIPI_demosaic_hybridevs/train/tfrecords/div2k_tetra_train_000.tfrecords\n",
      "/Users/bw/Dataset/MIPI_demosaic_hybridevs/train/tfrecords/div2k_tetra_train_001.tfrecords\n",
      "/Users/bw/Dataset/MIPI_demosaic_hybridevs/train/tfrecords/div2k_tetra_train_002.tfrecords\n",
      "/Users/bw/Dataset/MIPI_demosaic_hybridevs/train/tfrecords/div2k_tetra_train_003.tfrecords\n",
      "/Users/bw/Dataset/MIPI_demosaic_hybridevs/train/tfrecords/div2k_tetra_train_004.tfrecords\n",
      "/Users/bw/Dataset/MIPI_demosaic_hybridevs/train/tfrecords/div2k_tetra_train_005.tfrecords\n",
      "/Users/bw/Dataset/MIPI_demosaic_hybridevs/train/tfrecords/div2k_tetra_train_006.tfrecords\n",
      "/Users/bw/Dataset/MIPI_demosaic_hybridevs/train/tfrecords/div2k_tetra_train_007.tfrecords\n",
      "/Users/bw/Dataset/MIPI_demosaic_hybridevs/train/tfrecords/div2k_tetra_train_008.tfrecords\n",
      "/Users/bw/Dataset/MIPI_demosaic_hybridevs/train/tfrecords/div2k_tetra_train_009.tfrecords\n",
      "/Users/bw/Dataset/MIPI_demosaic_hybridevs/train/tfrecords/div2k_tetra_train_010.tfrecords\n",
      "/Users/bw/Dataset/MIPI_demosaic_hybridevs/train/tfrecords/div2k_tetra_train_011.tfrecords\n",
      "/Users/bw/Dataset/MIPI_demosaic_hybridevs/train/tfrecords/div2k_tetra_train_012.tfrecords\n",
      "/Users/bw/Dataset/MIPI_demosaic_hybridevs/train/tfrecords/div2k_tetra_train_013.tfrecords\n",
      "/Users/bw/Dataset/MIPI_demosaic_hybridevs/train/tfrecords/div2k_tetra_train_014.tfrecords\n",
      "/Users/bw/Dataset/MIPI_demosaic_hybridevs/train/tfrecords/div2k_tetra_train_015.tfrecords\n",
      "/Users/bw/Dataset/MIPI_demosaic_hybridevs/train/tfrecords/div2k_tetra_train_016.tfrecords\n",
      "/Users/bw/Dataset/MIPI_demosaic_hybridevs/train/tfrecords/div2k_tetra_train_017.tfrecords\n",
      "/Users/bw/Dataset/MIPI_demosaic_hybridevs/train/tfrecords/div2k_tetra_train_018.tfrecords\n",
      "/Users/bw/Dataset/MIPI_demosaic_hybridevs/train/tfrecords/div2k_tetra_valid_019.tfrecords\n",
      "/Users/bw/Dataset/MIPI_demosaic_hybridevs/train/tfrecords/div2k_tetra_viz.tfrecords\n"
     ]
    }
   ],
   "source": [
    "print('data_path, ', data_path)\n",
    "print('\\n'.join(train_files))\n",
    "print('\\n'.join(eval_files))\n",
    "print('\\n'.join(viz_files))"
   ]
  },
  {
   "cell_type": "markdown",
   "id": "d60964c7",
   "metadata": {},
   "source": [
    "# Training params setup\n"
   ]
  },
  {
   "cell_type": "code",
   "execution_count": 22,
   "id": "5a742d0a",
   "metadata": {
    "ExecuteTime": {
     "end_time": "2024-01-24T10:48:45.586393Z",
     "start_time": "2024-01-24T10:48:45.577610Z"
    }
   },
   "outputs": [
    {
     "name": "stdout",
     "output_type": "stream",
     "text": [
      "=========================================================\n",
      "=========================================================\n",
      "=========================================================\n",
      "=========================================================\n",
      "=========================================================\n",
      "========================================================= NGPU 1\n"
     ]
    }
   ],
   "source": [
    "print('=========================================================')\n",
    "print('=========================================================')\n",
    "print('=========================================================')\n",
    "print('=========================================================')\n",
    "print('=========================================================')\n",
    "print('========================================================= NGPU', NGPU)"
   ]
  },
  {
   "cell_type": "code",
   "execution_count": 23,
   "id": "7d8fa8f4",
   "metadata": {
    "ExecuteTime": {
     "end_time": "2024-01-24T10:48:46.627580Z",
     "start_time": "2024-01-24T10:48:46.623798Z"
    }
   },
   "outputs": [
    {
     "name": "stdout",
     "output_type": "stream",
     "text": [
      "512 512 4\n"
     ]
    }
   ],
   "source": [
    "batch_size      = batch_size * NGPU  # 128\n",
    "batch_size_eval = batch_size * NGPU\n",
    "batch_size_viz  = 4\n",
    "print(batch_size, batch_size_eval, batch_size_viz)"
   ]
  },
  {
   "cell_type": "code",
   "execution_count": 24,
   "id": "c63abc5a",
   "metadata": {
    "ExecuteTime": {
     "end_time": "2024-01-24T10:48:48.414258Z",
     "start_time": "2024-01-24T10:48:48.027363Z"
    }
   },
   "outputs": [
    {
     "name": "stderr",
     "output_type": "stream",
     "text": [
      "2024-01-24 18:48:48.112587: I tensorflow/core/common_runtime/pluggable_device/pluggable_device_factory.cc:303] Could not identify NUMA node of platform GPU ID 0, defaulting to 0. Your kernel may not have been built with NUMA support.\n",
      "2024-01-24 18:48:48.112606: I tensorflow/core/common_runtime/pluggable_device/pluggable_device_factory.cc:269] Created TensorFlow device (/job:localhost/replica:0/task:0/device:GPU:0 with 0 MB memory) -> physical PluggableDevice (device: 0, name: METAL, pci bus id: <undefined>)\n"
     ]
    },
    {
     "name": "stdout",
     "output_type": "stream",
     "text": [
      ">>>>>>> raw.shape (128, 128)\n",
      "<<<<<<< raw.shape (128, 128, 3)\n",
      "<<<<<<< gt.shape (128, 128, 3)\n",
      ">>>>>>> raw.shape (128, 128)\n",
      "<<<<<<< raw.shape (128, 128, 3)\n",
      "<<<<<<< gt.shape (128, 128, 3)\n",
      ">>>>>>> raw.shape (128, 128)\n",
      "<<<<<<< raw.shape (128, 128, 3)\n",
      "<<<<<<< gt.shape (128, 128, 3)\n"
     ]
    }
   ],
   "source": [
    "\n",
    "train_params = {'filenames': train_files,\n",
    "                'mode': tf.estimator.ModeKeys.TRAIN,\n",
    "                'threads': 2,\n",
    "                'shuffle_buff': 128,\n",
    "                'batch': batch_size,\n",
    "                'input_type':input_type,\n",
    "                }\n",
    "eval_params = {'filenames': eval_files,\n",
    "               'mode': tf.estimator.ModeKeys.EVAL,\n",
    "               'threads': 2,\n",
    "               'shuffle_buff': 128,\n",
    "               'batch': batch_size_eval,\n",
    "               'input_type': input_type,\n",
    "               }\n",
    "\n",
    "viz_params = {'filenames': viz_files,\n",
    "               'mode': tf.estimator.ModeKeys.EVAL,\n",
    "               'threads': 2,\n",
    "               'shuffle_buff': 128,\n",
    "               'batch': batch_size_viz,\n",
    "               'input_type': input_type,\n",
    "               }\n",
    "\n",
    "\n",
    "dataset_train = utils.dataset_input_fn(train_params)\n",
    "dataset_eval = utils.dataset_input_fn(eval_params)\n",
    "dataset_viz = utils.dataset_input_fn(viz_params)"
   ]
  },
  {
   "cell_type": "markdown",
   "id": "f9d01a01",
   "metadata": {},
   "source": [
    "## traini/val/viz counts"
   ]
  },
  {
   "cell_type": "code",
   "execution_count": 25,
   "id": "e46d4779",
   "metadata": {
    "ExecuteTime": {
     "end_time": "2024-01-24T10:48:50.508065Z",
     "start_time": "2024-01-24T10:48:50.505032Z"
    }
   },
   "outputs": [],
   "source": [
    "cnt_train, cnt_valid = 7080*19, 7096 # with noise\n",
    "cnt_viz = 4"
   ]
  },
  {
   "cell_type": "markdown",
   "id": "cf49249c",
   "metadata": {},
   "source": [
    "## Get Model gogo"
   ]
  },
  {
   "cell_type": "code",
   "execution_count": 26,
   "id": "01420547",
   "metadata": {
    "ExecuteTime": {
     "end_time": "2024-01-24T10:48:52.606624Z",
     "start_time": "2024-01-24T10:48:51.947849Z"
    }
   },
   "outputs": [
    {
     "name": "stdout",
     "output_type": "stream",
     "text": [
      "-----------> unetv2, init done <-------------\n",
      "WARNING:tensorflow:Compiled the loaded model, but the compiled metrics have yet to be built. `model.compile_metrics` will be empty until you train or evaluate the model.\n",
      "Model: \"unet\"\n",
      "__________________________________________________________________________________________________\n",
      " Layer (type)                Output Shape                 Param #   Connected to                  \n",
      "==================================================================================================\n",
      " unet_input (InputLayer)     [(None, 128, 128, 3)]        0         []                            \n",
      "                                                                                                  \n",
      " sequential (Sequential)     (None, 64, 64, 64)           3136      ['unet_input[0][0]']          \n",
      "                                                                                                  \n",
      " sequential_1 (Sequential)   (None, 32, 32, 128)          131712    ['sequential[0][0]']          \n",
      "                                                                                                  \n",
      " sequential_2 (Sequential)   (None, 16, 16, 256)          525568    ['sequential_1[0][0]']        \n",
      "                                                                                                  \n",
      " sequential_3 (Sequential)   (None, 8, 8, 512)            2099712   ['sequential_2[0][0]']        \n",
      "                                                                                                  \n",
      " sequential_4 (Sequential)   (None, 4, 4, 512)            4196864   ['sequential_3[0][0]']        \n",
      "                                                                                                  \n",
      " sequential_5 (Sequential)   (None, 2, 2, 512)            4196864   ['sequential_4[0][0]']        \n",
      "                                                                                                  \n",
      " sequential_6 (Sequential)   (None, 1, 1, 512)            4196864   ['sequential_5[0][0]']        \n",
      "                                                                                                  \n",
      " sequential_7 (Sequential)   (None, 2, 2, 512)            4196864   ['sequential_6[0][0]']        \n",
      "                                                                                                  \n",
      " concatenate_1 (Concatenate  (None, 2, 2, 1024)           0         ['sequential_7[0][0]',        \n",
      " )                                                                   'sequential_5[0][0]']        \n",
      "                                                                                                  \n",
      " sequential_8 (Sequential)   (None, 4, 4, 512)            8391168   ['concatenate_1[0][0]']       \n",
      "                                                                                                  \n",
      " concatenate_2 (Concatenate  (None, 4, 4, 1024)           0         ['sequential_8[0][0]',        \n",
      " )                                                                   'sequential_4[0][0]']        \n",
      "                                                                                                  \n",
      " sequential_9 (Sequential)   (None, 8, 8, 512)            8391168   ['concatenate_2[0][0]']       \n",
      "                                                                                                  \n",
      " concatenate_3 (Concatenate  (None, 8, 8, 1024)           0         ['sequential_9[0][0]',        \n",
      " )                                                                   'sequential_3[0][0]']        \n",
      "                                                                                                  \n",
      " sequential_10 (Sequential)  (None, 16, 16, 256)          4195584   ['concatenate_3[0][0]']       \n",
      "                                                                                                  \n",
      " concatenate_4 (Concatenate  (None, 16, 16, 512)          0         ['sequential_10[0][0]',       \n",
      " )                                                                   'sequential_2[0][0]']        \n",
      "                                                                                                  \n",
      " sequential_11 (Sequential)  (None, 32, 32, 128)          1049216   ['concatenate_4[0][0]']       \n",
      "                                                                                                  \n",
      " concatenate_5 (Concatenate  (None, 32, 32, 256)          0         ['sequential_11[0][0]',       \n",
      " )                                                                   'sequential_1[0][0]']        \n",
      "                                                                                                  \n",
      " sequential_12 (Sequential)  (None, 64, 64, 64)           262464    ['concatenate_5[0][0]']       \n",
      "                                                                                                  \n",
      " concatenate_6 (Concatenate  (None, 64, 64, 128)          0         ['sequential_12[0][0]',       \n",
      " )                                                                   'sequential[0][0]']          \n",
      "                                                                                                  \n",
      " conv2d_transpose_6 (Conv2D  (None, 128, 128, 64)         131136    ['concatenate_6[0][0]']       \n",
      " Transpose)                                                                                       \n",
      "                                                                                                  \n",
      " unet_last (Conv2D)          (None, 128, 128, 3)          1731      ['conv2d_transpose_6[0][0]']  \n",
      "                                                                                                  \n",
      "==================================================================================================\n",
      "Total params: 41970051 (160.10 MB)\n",
      "Trainable params: 41961219 (160.07 MB)\n",
      "Non-trainable params: 8832 (34.50 KB)\n",
      "__________________________________________________________________________________________________\n"
     ]
    },
    {
     "name": "stderr",
     "output_type": "stream",
     "text": [
      "/opt/homebrew/Caskroom/miniforge/base/envs/ML/lib/python3.9/site-packages/keras/src/engine/training.py:3000: UserWarning: You are saving your model as an HDF5 file via `model.save()`. This file format is considered legacy. We recommend using instead the native Keras format, e.g. `model.save('my_model.keras')`.\n",
      "  saving_api.save_model(\n"
     ]
    }
   ],
   "source": [
    "\n",
    "bw = GenerationTF(model_name =  model_name, kernel_regularizer=True, kernel_constraint=True)\n",
    "\n",
    "model = bw.model\n",
    "if False:\n",
    "    model.input.set_shape(1 + model.input.shape[1:]) # to freeze model\n",
    "model.save(os.path.join(base_path, 'checkpoint' , f'{model_name}_model_structure.h5'), include_optimizer=False)\n",
    "model.summary()"
   ]
  },
  {
   "cell_type": "markdown",
   "id": "1a5bba39",
   "metadata": {},
   "source": [
    "## Model Compile"
   ]
  },
  {
   "cell_type": "code",
   "execution_count": 27,
   "id": "dea21ab3",
   "metadata": {
    "ExecuteTime": {
     "end_time": "2024-01-24T10:48:58.042017Z",
     "start_time": "2024-01-24T10:48:58.003645Z"
    }
   },
   "outputs": [
    {
     "name": "stderr",
     "output_type": "stream",
     "text": [
      "WARNING:absl:At this time, the v2.11+ optimizer `tf.keras.optimizers.Adam` runs slowly on M1/M2 Macs, please use the legacy Keras optimizer instead, located at `tf.keras.optimizers.legacy.Adam`.\n",
      "WARNING:absl:There is a known slowdown when using v2.11+ Keras optimizers on M1/M2 Macs. Falling back to the legacy Keras optimizer, i.e., `tf.keras.optimizers.legacy.Adam`.\n"
     ]
    }
   ],
   "source": [
    "optimizer = tf.keras.optimizers.Adam(learning_rate=LEARNING_RATE, name='Adam')\n",
    "model.compile(optimizer=optimizer,  # 'adam',\n",
    "            loss=utils.loss_fn,  # 'mse',\n",
    "            metrics=[utils.loss_fn])"
   ]
  },
  {
   "cell_type": "markdown",
   "id": "954a1464",
   "metadata": {},
   "source": [
    "## load pre-trained model"
   ]
  },
  {
   "cell_type": "code",
   "execution_count": 28,
   "id": "23d86b7c",
   "metadata": {
    "ExecuteTime": {
     "end_time": "2024-01-24T10:48:59.938240Z",
     "start_time": "2024-01-24T10:48:59.933558Z"
    }
   },
   "outputs": [
    {
     "name": "stdout",
     "output_type": "stream",
     "text": [
      "=============> pre trained designated model not exists \n",
      "--=-=-=->  []\n",
      "===========> TRAINED WEIGHTS NOT EXIST 0\n"
     ]
    }
   ],
   "source": [
    "trained_model_file_name = '00003_resnet_flat_2.89940e-09.h5'\n",
    "model, prev_epoch, prev_loss = load_checkpoint_if_exists(model, model_dir, model_name, trained_model_file_name)\n"
   ]
  },
  {
   "cell_type": "markdown",
   "id": "40009072",
   "metadata": {},
   "source": [
    "## callbacks for training loop"
   ]
  },
  {
   "cell_type": "code",
   "execution_count": 29,
   "id": "68b9e000",
   "metadata": {
    "ExecuteTime": {
     "end_time": "2024-01-24T10:49:04.990328Z",
     "start_time": "2024-01-24T10:49:04.982209Z"
    }
   },
   "outputs": [
    {
     "name": "stdout",
     "output_type": "stream",
     "text": [
      "-------------------> scheduler type,  cosine\n",
      "-------------------> GOOD scheduler type2,  cosine\n"
     ]
    }
   ],
   "source": [
    "\n",
    "callbacks = get_training_callbacks(['ckeckpoint', 'tensorboard', 'image'],\n",
    "                                    base_path=base_path, model_name=model_name + model_sig,\n",
    "                                    dataloader=dataset_viz, cnt_viz=cnt_viz, initial_value_threshold=prev_loss)\n",
    "## lr callback\n",
    "callback_lr = get_scheduler(type='cosine', lr_init=LEARNING_RATE, steps=myepoch)\n",
    "callbacks.append(callback_lr)"
   ]
  },
  {
   "cell_type": "markdown",
   "id": "4f450751",
   "metadata": {},
   "source": [
    "# tensorboard"
   ]
  },
  {
   "cell_type": "code",
   "execution_count": 30,
   "id": "df8e76d1",
   "metadata": {
    "ExecuteTime": {
     "end_time": "2024-01-24T10:49:47.371775Z",
     "start_time": "2024-01-24T10:49:47.356761Z"
    }
   },
   "outputs": [],
   "source": [
    "%load_ext tensorboard"
   ]
  },
  {
   "cell_type": "code",
   "execution_count": 31,
   "id": "ceb122fd",
   "metadata": {
    "ExecuteTime": {
     "end_time": "2024-01-24T10:50:11.983849Z",
     "start_time": "2024-01-24T10:50:08.900693Z"
    }
   },
   "outputs": [
    {
     "data": {
      "text/html": [
       "\n",
       "      <iframe id=\"tensorboard-frame-eab1c1be42fe58c5\" width=\"100%\" height=\"800\" frameborder=\"0\">\n",
       "      </iframe>\n",
       "      <script>\n",
       "        (function() {\n",
       "          const frame = document.getElementById(\"tensorboard-frame-eab1c1be42fe58c5\");\n",
       "          const url = new URL(\"/\", window.location);\n",
       "          const port = 6006;\n",
       "          if (port) {\n",
       "            url.port = port;\n",
       "          }\n",
       "          frame.src = url;\n",
       "        })();\n",
       "      </script>\n",
       "    "
      ],
      "text/plain": [
       "<IPython.core.display.HTML object>"
      ]
     },
     "metadata": {},
     "output_type": "display_data"
    }
   ],
   "source": [
    "%tensorboard --logdir=model_dir"
   ]
  },
  {
   "cell_type": "markdown",
   "id": "08c30af6",
   "metadata": {},
   "source": [
    "## TRAIN GOGO"
   ]
  },
  {
   "cell_type": "code",
   "execution_count": null,
   "id": "5bb3b739",
   "metadata": {
    "ExecuteTime": {
     "start_time": "2024-01-24T10:50:36.668Z"
    }
   },
   "outputs": [
    {
     "name": "stdout",
     "output_type": "stream",
     "text": [
      "x.shape (4, 128, 128, 3)\n",
      "y.shape (4, 128, 128, 3)\n",
      "y.shape (4, 128, 128, 3)\n",
      "y.shape (4, 128, 128, 3)\n",
      "x: 0.00, 0.99, y: 0.00, 1.00, pred: 0.47, 0.53, diff: 0.00, 0.53\n",
      "\n",
      "Epoch 1: LearningRateScheduler setting learning rate to 9.999999747378752e-05.\n",
      "Epoch 1/600\n"
     ]
    },
    {
     "name": "stderr",
     "output_type": "stream",
     "text": [
      "2024-01-24 18:50:38.175037: I tensorflow/core/grappler/optimizers/custom_graph_optimizer_registry.cc:114] Plugin optimizer for device_type GPU is enabled.\n"
     ]
    }
   ],
   "source": [
    "more_ckpt_ratio = 1\n",
    "model.fit(dataset_train,\n",
    "            epochs=myepoch*more_ckpt_ratio,\n",
    "            steps_per_epoch=(cnt_train // (batch_size*more_ckpt_ratio)) + 1,\n",
    "            initial_epoch=prev_epoch,\n",
    "            validation_data=dataset_eval,\n",
    "            validation_steps=cnt_valid // batch_size_eval,\n",
    "            validation_freq=1,\n",
    "            callbacks=callbacks\n",
    "            )"
   ]
  },
  {
   "cell_type": "code",
   "execution_count": null,
   "id": "4c654719",
   "metadata": {},
   "outputs": [],
   "source": []
  }
 ],
 "metadata": {
  "kernelspec": {
   "display_name": "Python 3 (ipykernel)",
   "language": "python",
   "name": "python3"
  },
  "language_info": {
   "codemirror_mode": {
    "name": "ipython",
    "version": 3
   },
   "file_extension": ".py",
   "mimetype": "text/x-python",
   "name": "python",
   "nbconvert_exporter": "python",
   "pygments_lexer": "ipython3",
   "version": "3.9.16"
  },
  "varInspector": {
   "cols": {
    "lenName": 16,
    "lenType": 16,
    "lenVar": 40
   },
   "kernels_config": {
    "python": {
     "delete_cmd_postfix": "",
     "delete_cmd_prefix": "del ",
     "library": "var_list.py",
     "varRefreshCmd": "print(var_dic_list())"
    },
    "r": {
     "delete_cmd_postfix": ") ",
     "delete_cmd_prefix": "rm(",
     "library": "var_list.r",
     "varRefreshCmd": "cat(var_dic_list()) "
    }
   },
   "types_to_exclude": [
    "module",
    "function",
    "builtin_function_or_method",
    "instance",
    "_Feature"
   ],
   "window_display": false
  }
 },
 "nbformat": 4,
 "nbformat_minor": 5
}
