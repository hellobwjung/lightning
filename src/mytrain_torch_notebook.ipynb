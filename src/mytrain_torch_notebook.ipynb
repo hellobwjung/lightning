{
 "cells": [
  {
   "cell_type": "code",
   "execution_count": null,
   "id": "97e46dc5",
   "metadata": {
    "ExecuteTime": {
     "end_time": "2024-01-27T15:08:19.122903Z",
     "start_time": "2024-01-27T15:08:18.912246Z"
    }
   },
   "outputs": [],
   "source": [
    "from google.colab import drive\n",
    "drive.mount('/content/drive')"
   ]
  },
  {
   "cell_type": "code",
   "execution_count": null,
   "id": "bc3aa424",
   "metadata": {
    "ExecuteTime": {
     "end_time": "2024-01-27T15:08:19.125585Z",
     "start_time": "2024-01-27T15:08:19.125576Z"
    }
   },
   "outputs": [],
   "source": [
    "%cd /content/drive/MyDrive/Code/lightning/src"
   ]
  },
  {
   "cell_type": "code",
   "execution_count": 1,
   "id": "d9be7b57",
   "metadata": {
    "ExecuteTime": {
     "end_time": "2024-01-28T06:43:00.841248Z",
     "start_time": "2024-01-28T06:42:55.040312Z"
    }
   },
   "outputs": [],
   "source": [
    "import os, glob\n",
    "import time\n",
    "import argparse\n",
    "import torch\n",
    "import numpy as np\n",
    "from tqdm import tqdm\n",
    "from torch import nn, optim\n",
    "from mymodel import mygen_model\n",
    "from myutils import LossDisplayer\n",
    "from torch.utils.tensorboard import SummaryWriter\n",
    "\n",
    "import torchvision.utils as vutils\n",
    "\n",
    "from mydataset import give_me_dataloader, PairedDataset, give_me_transform"
   ]
  },
  {
   "cell_type": "code",
   "execution_count": 2,
   "id": "62bd9c73",
   "metadata": {
    "ExecuteTime": {
     "end_time": "2024-01-28T06:43:02.529455Z",
     "start_time": "2024-01-28T06:43:02.526087Z"
    }
   },
   "outputs": [],
   "source": [
    "def save_model(model, ckpt_path, epoch, loss=0.0, state='valid'):\n",
    "    try:\n",
    "        os.makedirs(ckpt_path, exist_ok=True)\n",
    "        fname = os.path.join(ckpt_path, \"bwunet_epoch_%05d_loss_%05.3e.pth\"%(epoch, loss))\n",
    "        if os.path.exists(fname):\n",
    "            fname = fname.split('.pth')[0] + f'_{state}_1.pth'\n",
    "        print('trying to save,,,,', fname)\n",
    "        torch.save(\n",
    "                {\n",
    "                    \"model_state_dict\": model.state_dict(),\n",
    "                    \"epoch\"      : epoch,\n",
    "                },\n",
    "                fname,\n",
    "        )\n",
    "    except:\n",
    "        print('something wrong......skip saving model at epoch ', epoch)"
   ]
  },
  {
   "cell_type": "code",
   "execution_count": 3,
   "id": "07895f3f",
   "metadata": {
    "ExecuteTime": {
     "end_time": "2024-01-28T06:43:11.969271Z",
     "start_time": "2024-01-28T06:43:11.957578Z"
    }
   },
   "outputs": [],
   "source": [
    "\n",
    "\n",
    "def give_me_visualization(model, dataloader, device):\n",
    "    pbar = tqdm(dataloader)\n",
    "    for idx, pairs in enumerate(pbar):\n",
    "        ## for tensorboard viz\n",
    "\n",
    "        model.eval()\n",
    "\n",
    "        # get data\n",
    "        item_in, item_gt = pairs\n",
    "        if device== 'mps':\n",
    "            item_in = item_in.type(torch.float32)\n",
    "            item_gt = item_gt.type(torch.float32)\n",
    "        item_in = item_in.to(device)\n",
    "        item_gt = item_gt.to(device)\n",
    "\n",
    "        # forward\n",
    "        item_out = model(item_in)\n",
    "\n",
    "        # diff\n",
    "        item_diff = torch.abs(item_out)\n",
    "\n",
    "        ## normalize for grid view\n",
    "        item_in = (item_in + 1) / 2\n",
    "        item_gt = (item_gt + 1) / 2\n",
    "        item_diff = (item_diff + 2) / 4\n",
    "        item_out = (item_out + 1) / 2\n",
    "\n",
    "        # get grid view\n",
    "        item_in = vutils.make_grid(item_in, padding=2, normalize=True)\n",
    "        item_gt = vutils.make_grid(item_gt, padding=2, normalize=True)\n",
    "        item_diff = vutils.make_grid(item_diff, padding=2, normalize=True)\n",
    "        item_out = vutils.make_grid(item_out, padding=2, normalize=True)\n",
    "\n",
    "        top_images = torch.cat((item_in.cpu(), item_gt.cpu()), dim=2)\n",
    "        bot_images = torch.cat((item_diff.cpu(), item_out.cpu()), dim=2)\n",
    "        viz_images = torch.cat((top_images.cpu(), bot_images.cpu()), dim=1)\n",
    "\n",
    "        return viz_images\n"
   ]
  },
  {
   "cell_type": "markdown",
   "id": "40b0c191",
   "metadata": {},
   "source": [
    "# Test"
   ]
  },
  {
   "cell_type": "code",
   "execution_count": 4,
   "id": "ca8e5e5d",
   "metadata": {
    "ExecuteTime": {
     "end_time": "2024-01-28T06:43:13.664832Z",
     "start_time": "2024-01-28T06:43:13.663035Z"
    }
   },
   "outputs": [],
   "source": [
    "bwtest=True\n",
    "# bwtest=False"
   ]
  },
  {
   "cell_type": "markdown",
   "id": "d26b7759",
   "metadata": {},
   "source": [
    "# Device selection"
   ]
  },
  {
   "cell_type": "code",
   "execution_count": 5,
   "id": "1ea0c6cc",
   "metadata": {
    "ExecuteTime": {
     "end_time": "2024-01-28T06:43:18.158126Z",
     "start_time": "2024-01-28T06:43:18.149065Z"
    }
   },
   "outputs": [
    {
     "name": "stdout",
     "output_type": "stream",
     "text": [
      "Train Using mps device\n"
     ]
    }
   ],
   "source": [
    "device = (\n",
    "    \"cuda\" if torch.cuda.is_available()\n",
    "    else \"mps\" if torch.backends.mps.is_available()\n",
    "    else \"cpu\"\n",
    ")\n",
    "\n",
    "print(f\"Train Using {device} device\")"
   ]
  },
  {
   "cell_type": "markdown",
   "id": "2b3bc799",
   "metadata": {},
   "source": [
    "# ARGS"
   ]
  },
  {
   "cell_type": "code",
   "execution_count": 6,
   "id": "b47f3f6f",
   "metadata": {
    "ExecuteTime": {
     "end_time": "2024-01-28T06:43:26.487605Z",
     "start_time": "2024-01-28T06:43:26.483133Z"
    }
   },
   "outputs": [
    {
     "name": "stdout",
     "output_type": "stream",
     "text": [
      "/Users/bw/Code/lightning/src\n",
      "model_name =  bwunet\n",
      "input_size =  256\n",
      "device =  mps\n",
      "dataset_path =  /Users/bw/Dataset/MIPI_demosaic_hybridevs\n"
     ]
    }
   ],
   "source": [
    "model_name      = 'bwunet'\n",
    "dataset_path    = '/Users/bw/Dataset/MIPI_demosaic_hybridevs'\n",
    "myepoch         = 100\n",
    "input_size      = 256\n",
    "batch_size      = 128\n",
    "learning_rate   = 1e-4\n",
    "checkpoint_path = 'model_dir_torch/ckpt'\n",
    "\n",
    "cwd = os.getcwd()\n",
    "print(cwd)\n",
    "if '/content/drive/MyDrive' in cwd:\n",
    "    dataset_path = '/content/drive/MyDrive/Datasets/MIPI_tetra_hybridenvs'\n",
    "\n",
    "print('model_name = ', model_name)\n",
    "print('input_size = ', input_size)\n",
    "print('device = ', device)\n",
    "print('dataset_path = ', dataset_path)"
   ]
  },
  {
   "cell_type": "markdown",
   "id": "7f0278ce",
   "metadata": {},
   "source": [
    "# Dataset"
   ]
  },
  {
   "cell_type": "markdown",
   "id": "24b6136f",
   "metadata": {},
   "source": [
    "### Data gathering & shuffle"
   ]
  },
  {
   "cell_type": "code",
   "execution_count": 8,
   "id": "c0b4baed",
   "metadata": {
    "ExecuteTime": {
     "end_time": "2024-01-28T06:43:58.790217Z",
     "start_time": "2024-01-28T06:43:58.516659Z"
    }
   },
   "outputs": [
    {
     "name": "stdout",
     "output_type": "stream",
     "text": [
      "base_path:  /Users/bw/Dataset/MIPI_demosaic_hybridevs\n",
      "37936\n",
      "37936 37936\n",
      "[31667 32378 17358 ... 22255 25925 12775]\n"
     ]
    }
   ],
   "source": [
    "base_path = os.path.join(dataset_path)\n",
    "print('base_path: ', base_path)\n",
    "pnames_in = glob.glob(os.path.join(base_path, 'train/pairs256', \"*_in.npy\"))\n",
    "pnames_gt = glob.glob(os.path.join(base_path, 'train/pairs256', \"*_gt.npy\"))\n",
    "pnames_viz_in = glob.glob(os.path.join(base_path, 'viz/pairs', \"*_in.npy\"))\n",
    "pnames_viz_gt = glob.glob(os.path.join(base_path, 'viz/pairs', \"*_gt.npy\"))\n",
    "\n",
    "\n",
    "pnames_in.sort()\n",
    "pnames_gt.sort()\n",
    "pnames_viz_in.sort()\n",
    "pnames_viz_gt.sort()\n",
    "\n",
    "\n",
    "flen = len(pnames_gt)\n",
    "print(flen)\n",
    "print(len(pnames_in), len(pnames_gt))\n",
    "\n",
    "order = np.arange(flen)\n",
    "np.random.shuffle(order)\n",
    "print(order)\n",
    "\n",
    "# shuffle\n",
    "pnames_in = [pnames_in[x] for x in order]\n",
    "pnames_gt = [pnames_gt[x] for x in order]"
   ]
  },
  {
   "cell_type": "markdown",
   "id": "4fe5500f",
   "metadata": {},
   "source": [
    "### Split train & valid set"
   ]
  },
  {
   "cell_type": "code",
   "execution_count": 9,
   "id": "bb460aea",
   "metadata": {
    "ExecuteTime": {
     "end_time": "2024-01-28T06:44:15.751558Z",
     "start_time": "2024-01-28T06:44:15.741057Z"
    }
   },
   "outputs": [
    {
     "name": "stdout",
     "output_type": "stream",
     "text": [
      "-->>>> 36039 1897\n"
     ]
    }
   ],
   "source": [
    "validation_split = 0.05\n",
    "number_train_set = int(flen*(1-validation_split))\n",
    "number_valid_set = flen - number_train_set\n",
    "print(\"-->>>>\",number_train_set, number_valid_set)\n",
    "\n",
    "pnames_train_in = pnames_in[:number_train_set]\n",
    "pnames_train_gt = pnames_gt[:number_train_set]\n",
    "\n",
    "pnames_valid_in = pnames_in[number_train_set:]\n",
    "pnames_valid_gt = pnames_gt[number_train_set:]\n",
    "\n",
    "if bwtest: # for test purpose\n",
    "    pnames_train_in = pnames_in[:batch_size]\n",
    "    pnames_train_gt = pnames_gt[:batch_size]\n",
    "\n",
    "    pnames_valid_in = pnames_in[batch_size:batch_size*2]\n",
    "    pnames_valid_gt = pnames_gt[batch_size:batch_size*2]"
   ]
  },
  {
   "cell_type": "markdown",
   "id": "d21c9b1f",
   "metadata": {},
   "source": [
    "### transform"
   ]
  },
  {
   "cell_type": "code",
   "execution_count": 10,
   "id": "08bb955d",
   "metadata": {
    "ExecuteTime": {
     "end_time": "2024-01-28T06:44:18.640977Z",
     "start_time": "2024-01-28T06:44:18.637806Z"
    }
   },
   "outputs": [],
   "source": [
    "transform = {'train': give_me_transform('train'),\n",
    "             'valid': give_me_transform('valid'),\n",
    "             'viz':   give_me_transform('viz')}"
   ]
  },
  {
   "cell_type": "markdown",
   "id": "b64ee733",
   "metadata": {},
   "source": [
    "### dataloader"
   ]
  },
  {
   "cell_type": "code",
   "execution_count": 11,
   "id": "e25611ed",
   "metadata": {
    "ExecuteTime": {
     "end_time": "2024-01-28T06:44:23.191276Z",
     "start_time": "2024-01-28T06:44:23.180357Z"
    }
   },
   "outputs": [
    {
     "name": "stdout",
     "output_type": "stream",
     "text": [
      "len(train):  1\n",
      "len(valid):  1\n",
      "len(viz):  1\n"
     ]
    }
   ],
   "source": [
    "# dataloader\n",
    "dataloader = {'train': give_me_dataloader(PairedDataset(pnames_train_in, \n",
    "                                                        pnames_train_gt, \n",
    "                                                        transform['train'], \n",
    "                                                        device), batch_size),\n",
    "              'valid': give_me_dataloader(PairedDataset(pnames_valid_in,\n",
    "                                                        pnames_valid_gt, \n",
    "                                                        transform['valid'], \n",
    "                                                        device), batch_size),\n",
    "              'viz'  : give_me_dataloader(PairedDataset(pnames_viz_in,   \n",
    "                                                        pnames_viz_gt,   \n",
    "                                                        transform['viz'],   \n",
    "                                                        device), batch_size) }\n",
    "\n",
    "nsteps={}\n",
    "for state in ['train', 'valid', 'viz']:\n",
    "    nsteps[state] = len(dataloader[state])\n",
    "    print('len(%s): '%state, len(dataloader[state]))"
   ]
  },
  {
   "cell_type": "markdown",
   "id": "feedf2d1",
   "metadata": {},
   "source": [
    "# Model"
   ]
  },
  {
   "cell_type": "code",
   "execution_count": 12,
   "id": "688e5214",
   "metadata": {
    "ExecuteTime": {
     "end_time": "2024-01-28T06:44:25.694116Z",
     "start_time": "2024-01-28T06:44:25.582394Z"
    }
   },
   "outputs": [
    {
     "name": "stdout",
     "output_type": "stream",
     "text": [
      "network:  bwunet\n",
      "initialize network with normal\n",
      "BWUnet(\n",
      "  (enc_block0): Enc_block(\n",
      "    (conv): Conv2d(3, 16, kernel_size=(3, 3), stride=(1, 1), padding=(1, 1))\n",
      "    (norm): BatchNorm2d(16, eps=1e-05, momentum=0.1, affine=True, track_running_stats=True)\n",
      "    (prelu): LeakyReLU(negative_slope=16)\n",
      "  )\n",
      "  (enc_block1): Enc_block(\n",
      "    (conv): Conv2d(16, 32, kernel_size=(3, 3), stride=(1, 1), padding=(1, 1))\n",
      "    (norm): BatchNorm2d(32, eps=1e-05, momentum=0.1, affine=True, track_running_stats=True)\n",
      "    (prelu): LeakyReLU(negative_slope=32)\n",
      "  )\n",
      "  (enc_block2): Enc_block(\n",
      "    (conv): Conv2d(32, 64, kernel_size=(3, 3), stride=(1, 1), padding=(1, 1))\n",
      "    (norm): BatchNorm2d(64, eps=1e-05, momentum=0.1, affine=True, track_running_stats=True)\n",
      "    (prelu): LeakyReLU(negative_slope=64)\n",
      "  )\n",
      "  (enc_block3): Enc_block(\n",
      "    (conv): Conv2d(64, 128, kernel_size=(3, 3), stride=(1, 1), padding=(1, 1))\n",
      "    (norm): BatchNorm2d(128, eps=1e-05, momentum=0.1, affine=True, track_running_stats=True)\n",
      "    (prelu): LeakyReLU(negative_slope=128)\n",
      "  )\n",
      "  (enc_block4): Enc_block(\n",
      "    (conv): Conv2d(128, 256, kernel_size=(3, 3), stride=(1, 1), padding=(1, 1))\n",
      "    (norm): BatchNorm2d(256, eps=1e-05, momentum=0.1, affine=True, track_running_stats=True)\n",
      "    (prelu): LeakyReLU(negative_slope=256)\n",
      "  )\n",
      "  (enc_block5): Enc_block(\n",
      "    (conv): Conv2d(256, 256, kernel_size=(3, 3), stride=(1, 1), padding=(1, 1))\n",
      "    (norm): BatchNorm2d(256, eps=1e-05, momentum=0.1, affine=True, track_running_stats=True)\n",
      "    (prelu): LeakyReLU(negative_slope=256)\n",
      "  )\n",
      "  (enc_block6): Enc_block(\n",
      "    (conv): Conv2d(256, 256, kernel_size=(3, 3), stride=(1, 1), padding=(1, 1))\n",
      "    (norm): BatchNorm2d(256, eps=1e-05, momentum=0.1, affine=True, track_running_stats=True)\n",
      "    (prelu): LeakyReLU(negative_slope=256)\n",
      "  )\n",
      "  (enc_block7): Enc_block(\n",
      "    (conv): Conv2d(256, 256, kernel_size=(3, 3), stride=(1, 1), padding=(1, 1))\n",
      "    (norm): BatchNorm2d(256, eps=1e-05, momentum=0.1, affine=True, track_running_stats=True)\n",
      "    (prelu): LeakyReLU(negative_slope=256)\n",
      "  )\n",
      "  (dec_block4): Dec_block(\n",
      "    (tconv): ConvTranspose2d(256, 256, kernel_size=(3, 3), stride=(2, 2), padding=(1, 1), output_padding=(1, 1))\n",
      "    (conv): Conv2d(256, 128, kernel_size=(3, 3), stride=(1, 1), padding=(1, 1))\n",
      "    (prelut): LeakyReLU(negative_slope=0.01)\n",
      "    (preluc): LeakyReLU(negative_slope=0.01)\n",
      "  )\n",
      "  (dec_block3): Dec_block(\n",
      "    (tconv): ConvTranspose2d(128, 128, kernel_size=(3, 3), stride=(2, 2), padding=(1, 1), output_padding=(1, 1))\n",
      "    (conv): Conv2d(128, 64, kernel_size=(3, 3), stride=(1, 1), padding=(1, 1))\n",
      "    (prelut): LeakyReLU(negative_slope=0.01)\n",
      "    (preluc): LeakyReLU(negative_slope=0.01)\n",
      "  )\n",
      "  (dec_block2): Dec_block(\n",
      "    (tconv): ConvTranspose2d(64, 64, kernel_size=(3, 3), stride=(2, 2), padding=(1, 1), output_padding=(1, 1))\n",
      "    (conv): Conv2d(64, 32, kernel_size=(3, 3), stride=(1, 1), padding=(1, 1))\n",
      "    (prelut): LeakyReLU(negative_slope=0.01)\n",
      "    (preluc): LeakyReLU(negative_slope=0.01)\n",
      "  )\n",
      "  (dec_block1): Dec_block(\n",
      "    (tconv): ConvTranspose2d(32, 32, kernel_size=(3, 3), stride=(2, 2), padding=(1, 1), output_padding=(1, 1))\n",
      "    (conv): Conv2d(32, 16, kernel_size=(3, 3), stride=(1, 1), padding=(1, 1))\n",
      "    (prelut): LeakyReLU(negative_slope=0.01)\n",
      "    (preluc): LeakyReLU(negative_slope=0.01)\n",
      "  )\n",
      "  (dec_block0): Enc_block(\n",
      "    (conv): Conv2d(16, 8, kernel_size=(3, 3), stride=(1, 1), padding=(1, 1))\n",
      "    (norm): BatchNorm2d(8, eps=1e-05, momentum=0.1, affine=True, track_running_stats=True)\n",
      "    (prelu): LeakyReLU(negative_slope=8)\n",
      "  )\n",
      "  (last): Conv2d(8, 3, kernel_size=(3, 3), stride=(1, 1), padding=(1, 1))\n",
      "  (tanh): Tanh()\n",
      ")\n"
     ]
    }
   ],
   "source": [
    "model = mygen_model('bwunet').to(device)\n",
    "print(model)"
   ]
  },
  {
   "cell_type": "markdown",
   "id": "8aa9db7b",
   "metadata": {},
   "source": [
    "# Save onnx"
   ]
  },
  {
   "cell_type": "code",
   "execution_count": 13,
   "id": "9d9cd9ee",
   "metadata": {
    "ExecuteTime": {
     "end_time": "2024-01-28T06:44:29.394123Z",
     "start_time": "2024-01-28T06:44:28.841392Z"
    }
   },
   "outputs": [
    {
     "name": "stdout",
     "output_type": "stream",
     "text": [
      "================ Diagnostic Run torch.onnx.export version 2.0.1 ================\n",
      "verbose: False, log level: Level.ERROR\n",
      "======================= 0 NONE 0 NOTE 0 WARNING 0 ERROR ========================\n",
      "\n"
     ]
    }
   ],
   "source": [
    "dummy_input = torch.randn(1, 3, 128, 128, device=device, requires_grad=False)\n",
    "with torch.no_grad():\n",
    "    os.makedirs('onnx', exist_ok=True)\n",
    "    torch.onnx.export(model.eval(), dummy_input,\n",
    "                      os.path.join('onnx',  f\"{model_name}.onnx\"))"
   ]
  },
  {
   "cell_type": "markdown",
   "id": "ba0c7f98",
   "metadata": {},
   "source": [
    "# Load ckpt if any"
   ]
  },
  {
   "cell_type": "code",
   "execution_count": 14,
   "id": "7ecd8e33",
   "metadata": {
    "ExecuteTime": {
     "end_time": "2024-01-28T06:44:31.176279Z",
     "start_time": "2024-01-28T06:44:31.123402Z"
    }
   },
   "outputs": [
    {
     "name": "stdout",
     "output_type": "stream",
     "text": [
      "Loading..... model_dir_torch/ckpt/bwunet_epoch_00025_loss_1.057e+00.pth\n"
     ]
    },
    {
     "data": {
      "text/plain": [
       "BWUnet(\n",
       "  (enc_block0): Enc_block(\n",
       "    (conv): Conv2d(3, 16, kernel_size=(3, 3), stride=(1, 1), padding=(1, 1))\n",
       "    (norm): BatchNorm2d(16, eps=1e-05, momentum=0.1, affine=True, track_running_stats=True)\n",
       "    (prelu): LeakyReLU(negative_slope=16)\n",
       "  )\n",
       "  (enc_block1): Enc_block(\n",
       "    (conv): Conv2d(16, 32, kernel_size=(3, 3), stride=(1, 1), padding=(1, 1))\n",
       "    (norm): BatchNorm2d(32, eps=1e-05, momentum=0.1, affine=True, track_running_stats=True)\n",
       "    (prelu): LeakyReLU(negative_slope=32)\n",
       "  )\n",
       "  (enc_block2): Enc_block(\n",
       "    (conv): Conv2d(32, 64, kernel_size=(3, 3), stride=(1, 1), padding=(1, 1))\n",
       "    (norm): BatchNorm2d(64, eps=1e-05, momentum=0.1, affine=True, track_running_stats=True)\n",
       "    (prelu): LeakyReLU(negative_slope=64)\n",
       "  )\n",
       "  (enc_block3): Enc_block(\n",
       "    (conv): Conv2d(64, 128, kernel_size=(3, 3), stride=(1, 1), padding=(1, 1))\n",
       "    (norm): BatchNorm2d(128, eps=1e-05, momentum=0.1, affine=True, track_running_stats=True)\n",
       "    (prelu): LeakyReLU(negative_slope=128)\n",
       "  )\n",
       "  (enc_block4): Enc_block(\n",
       "    (conv): Conv2d(128, 256, kernel_size=(3, 3), stride=(1, 1), padding=(1, 1))\n",
       "    (norm): BatchNorm2d(256, eps=1e-05, momentum=0.1, affine=True, track_running_stats=True)\n",
       "    (prelu): LeakyReLU(negative_slope=256)\n",
       "  )\n",
       "  (enc_block5): Enc_block(\n",
       "    (conv): Conv2d(256, 256, kernel_size=(3, 3), stride=(1, 1), padding=(1, 1))\n",
       "    (norm): BatchNorm2d(256, eps=1e-05, momentum=0.1, affine=True, track_running_stats=True)\n",
       "    (prelu): LeakyReLU(negative_slope=256)\n",
       "  )\n",
       "  (enc_block6): Enc_block(\n",
       "    (conv): Conv2d(256, 256, kernel_size=(3, 3), stride=(1, 1), padding=(1, 1))\n",
       "    (norm): BatchNorm2d(256, eps=1e-05, momentum=0.1, affine=True, track_running_stats=True)\n",
       "    (prelu): LeakyReLU(negative_slope=256)\n",
       "  )\n",
       "  (enc_block7): Enc_block(\n",
       "    (conv): Conv2d(256, 256, kernel_size=(3, 3), stride=(1, 1), padding=(1, 1))\n",
       "    (norm): BatchNorm2d(256, eps=1e-05, momentum=0.1, affine=True, track_running_stats=True)\n",
       "    (prelu): LeakyReLU(negative_slope=256)\n",
       "  )\n",
       "  (dec_block4): Dec_block(\n",
       "    (tconv): ConvTranspose2d(256, 256, kernel_size=(3, 3), stride=(2, 2), padding=(1, 1), output_padding=(1, 1))\n",
       "    (conv): Conv2d(256, 128, kernel_size=(3, 3), stride=(1, 1), padding=(1, 1))\n",
       "    (prelut): LeakyReLU(negative_slope=0.01)\n",
       "    (preluc): LeakyReLU(negative_slope=0.01)\n",
       "  )\n",
       "  (dec_block3): Dec_block(\n",
       "    (tconv): ConvTranspose2d(128, 128, kernel_size=(3, 3), stride=(2, 2), padding=(1, 1), output_padding=(1, 1))\n",
       "    (conv): Conv2d(128, 64, kernel_size=(3, 3), stride=(1, 1), padding=(1, 1))\n",
       "    (prelut): LeakyReLU(negative_slope=0.01)\n",
       "    (preluc): LeakyReLU(negative_slope=0.01)\n",
       "  )\n",
       "  (dec_block2): Dec_block(\n",
       "    (tconv): ConvTranspose2d(64, 64, kernel_size=(3, 3), stride=(2, 2), padding=(1, 1), output_padding=(1, 1))\n",
       "    (conv): Conv2d(64, 32, kernel_size=(3, 3), stride=(1, 1), padding=(1, 1))\n",
       "    (prelut): LeakyReLU(negative_slope=0.01)\n",
       "    (preluc): LeakyReLU(negative_slope=0.01)\n",
       "  )\n",
       "  (dec_block1): Dec_block(\n",
       "    (tconv): ConvTranspose2d(32, 32, kernel_size=(3, 3), stride=(2, 2), padding=(1, 1), output_padding=(1, 1))\n",
       "    (conv): Conv2d(32, 16, kernel_size=(3, 3), stride=(1, 1), padding=(1, 1))\n",
       "    (prelut): LeakyReLU(negative_slope=0.01)\n",
       "    (preluc): LeakyReLU(negative_slope=0.01)\n",
       "  )\n",
       "  (dec_block0): Enc_block(\n",
       "    (conv): Conv2d(16, 8, kernel_size=(3, 3), stride=(1, 1), padding=(1, 1))\n",
       "    (norm): BatchNorm2d(8, eps=1e-05, momentum=0.1, affine=True, track_running_stats=True)\n",
       "    (prelu): LeakyReLU(negative_slope=8)\n",
       "  )\n",
       "  (last): Conv2d(8, 3, kernel_size=(3, 3), stride=(1, 1), padding=(1, 1))\n",
       "  (tanh): Tanh()\n",
       ")"
      ]
     },
     "execution_count": 14,
     "metadata": {},
     "output_type": "execute_result"
    }
   ],
   "source": [
    "ckpt_list = os.listdir(checkpoint_path) \n",
    "ckpt_list.sort()\n",
    "\n",
    "if (checkpoint_path is not None) and \\\n",
    "    os.path.exists(checkpoint_path) and \\\n",
    "    (len(ckpt_list) ) > 0 :\n",
    "    ckpt_name = os.path.join(checkpoint_path, ckpt_list[-1])\n",
    "    print('Loading.....', ckpt_name)\n",
    "    checkpoint = torch.load(ckpt_name, map_location=device)\n",
    "    model.load_state_dict(checkpoint[\"model_state_dict\"])\n",
    "    epoch = checkpoint[\"epoch\"]\n",
    "else:\n",
    "    os.makedirs(checkpoint_path, exist_ok=True)\n",
    "    epoch = 0\n",
    "\n",
    "# make train mode\n",
    "model.train()"
   ]
  },
  {
   "cell_type": "markdown",
   "id": "b0cfe6e4",
   "metadata": {},
   "source": [
    "# Loss"
   ]
  },
  {
   "cell_type": "code",
   "execution_count": 15,
   "id": "f20aff69",
   "metadata": {
    "ExecuteTime": {
     "end_time": "2024-01-28T06:44:35.489503Z",
     "start_time": "2024-01-28T06:44:35.485925Z"
    }
   },
   "outputs": [],
   "source": [
    "# criterion_cycle = nn.L1Loss()\n",
    "criterion = nn.MSELoss()"
   ]
  },
  {
   "cell_type": "markdown",
   "id": "412f9d2b",
   "metadata": {},
   "source": [
    "# Optimizer"
   ]
  },
  {
   "cell_type": "code",
   "execution_count": 16,
   "id": "01c7fdf6",
   "metadata": {
    "ExecuteTime": {
     "end_time": "2024-01-28T06:44:36.416574Z",
     "start_time": "2024-01-28T06:44:36.414179Z"
    }
   },
   "outputs": [],
   "source": [
    "optim_G = optim.Adam(\n",
    "        list(model.parameters()),\n",
    "        lr=learning_rate,\n",
    "        betas=(0.5, 0.999),\n",
    "    )"
   ]
  },
  {
   "cell_type": "markdown",
   "id": "1240f9cd",
   "metadata": {},
   "source": [
    "# Scheduler"
   ]
  },
  {
   "cell_type": "code",
   "execution_count": 17,
   "id": "154a89f9",
   "metadata": {
    "ExecuteTime": {
     "end_time": "2024-01-28T06:44:37.350362Z",
     "start_time": "2024-01-28T06:44:37.347908Z"
    }
   },
   "outputs": [],
   "source": [
    "lr_lambda = lambda epoch: 1 - ((epoch - 1) // 100) / (myepoch / 100)\n",
    "scheduler_G = optim.lr_scheduler.LambdaLR(optimizer=optim_G, lr_lambda=lr_lambda)"
   ]
  },
  {
   "cell_type": "markdown",
   "id": "e0f019c0",
   "metadata": {},
   "source": [
    "# Logger for tensorboard"
   ]
  },
  {
   "cell_type": "code",
   "execution_count": 18,
   "id": "d382168e",
   "metadata": {
    "ExecuteTime": {
     "end_time": "2024-01-28T06:44:40.793124Z",
     "start_time": "2024-01-28T06:44:40.788133Z"
    }
   },
   "outputs": [],
   "source": [
    "logpath = os.path.join('model_dir_torch', 'board')\n",
    "os.makedirs(logpath, exist_ok=True)\n",
    "summary = SummaryWriter(logpath)\n",
    "disp_train = LossDisplayer([\"G_train\"])\n",
    "disp_valid = LossDisplayer([\"G_valid\"])\n",
    "disp = {'train':disp_train, 'valid':disp_valid}"
   ]
  },
  {
   "cell_type": "markdown",
   "id": "5a4f00cf",
   "metadata": {},
   "source": [
    "# training params"
   ]
  },
  {
   "cell_type": "code",
   "execution_count": 19,
   "id": "0bc208fb",
   "metadata": {
    "ExecuteTime": {
     "end_time": "2024-01-28T06:44:44.411617Z",
     "start_time": "2024-01-28T06:44:44.406414Z"
    }
   },
   "outputs": [],
   "source": [
    "step = {'train':epoch*nsteps['train'], \n",
    "        'valid':epoch*nsteps['train'], \n",
    "        'viz':  epoch*nsteps['train']}\n",
    "\n",
    "loss_best_G = {'train': float('inf'), 'valid': float('inf')}\n",
    "loss_G_train_last = float('inf')"
   ]
  },
  {
   "cell_type": "markdown",
   "id": "cd0ea745",
   "metadata": {},
   "source": [
    "# Tensorboard"
   ]
  },
  {
   "cell_type": "code",
   "execution_count": 20,
   "id": "7e664697",
   "metadata": {
    "ExecuteTime": {
     "end_time": "2024-01-28T06:44:46.054993Z",
     "start_time": "2024-01-28T06:44:46.043753Z"
    }
   },
   "outputs": [],
   "source": [
    "%load_ext tensorboard"
   ]
  },
  {
   "cell_type": "code",
   "execution_count": 22,
   "id": "669af4db",
   "metadata": {
    "ExecuteTime": {
     "end_time": "2024-01-28T06:45:21.235907Z",
     "start_time": "2024-01-28T06:45:18.173612Z"
    }
   },
   "outputs": [
    {
     "data": {
      "text/html": [
       "\n",
       "      <iframe id=\"tensorboard-frame-a8d9991eeabfa643\" width=\"100%\" height=\"800\" frameborder=\"0\">\n",
       "      </iframe>\n",
       "      <script>\n",
       "        (function() {\n",
       "          const frame = document.getElementById(\"tensorboard-frame-a8d9991eeabfa643\");\n",
       "          const url = new URL(\"/\", window.location);\n",
       "          const port = 6006;\n",
       "          if (port) {\n",
       "            url.port = port;\n",
       "          }\n",
       "          frame.src = url;\n",
       "        })();\n",
       "      </script>\n",
       "    "
      ],
      "text/plain": [
       "<IPython.core.display.HTML object>"
      ]
     },
     "metadata": {},
     "output_type": "display_data"
    }
   ],
   "source": [
    "%tensorboard --logdir=model_dir_torch/board"
   ]
  },
  {
   "cell_type": "markdown",
   "id": "44710cd7",
   "metadata": {},
   "source": [
    "# Training Loop"
   ]
  },
  {
   "cell_type": "code",
   "execution_count": 23,
   "id": "78736f10",
   "metadata": {
    "ExecuteTime": {
     "end_time": "2024-01-28T06:45:35.587165Z",
     "start_time": "2024-01-28T06:45:33.906584Z"
    },
    "scrolled": false
   },
   "outputs": [
    {
     "name": "stdout",
     "output_type": "stream",
     "text": [
      "\n",
      "Epoch 26\n",
      "hello  train\n"
     ]
    },
    {
     "name": "stderr",
     "output_type": "stream",
     "text": [
      "  0%|                                                                                                               | 0/1 [00:01<?, ?it/s]\n"
     ]
    },
    {
     "ename": "ValueError",
     "evalue": "Caught ValueError in DataLoader worker process 0.\nOriginal Traceback (most recent call last):\n  File \"/opt/homebrew/Caskroom/miniforge/base/envs/ML/lib/python3.9/site-packages/torch/utils/data/_utils/worker.py\", line 308, in _worker_loop\n    data = fetcher.fetch(index)\n  File \"/opt/homebrew/Caskroom/miniforge/base/envs/ML/lib/python3.9/site-packages/torch/utils/data/_utils/fetch.py\", line 51, in fetch\n    data = [self.dataset[idx] for idx in possibly_batched_index]\n  File \"/opt/homebrew/Caskroom/miniforge/base/envs/ML/lib/python3.9/site-packages/torch/utils/data/_utils/fetch.py\", line 51, in <listcomp>\n    data = [self.dataset[idx] for idx in possibly_batched_index]\n  File \"/Users/bw/Code/lightning/src/mydataset.py\", line 272, in __getitem__\n    item_in = self.get_nonshrink_from_1ch(item_in) #.transpose(2,0,1)\n  File \"/Users/bw/Code/lightning/src/mydataset.py\", line 309, in get_nonshrink_from_1ch\n    image_R = image * idx_R\nValueError: operands could not be broadcast together with shapes (256,256) (128,128) \n",
     "output_type": "error",
     "traceback": [
      "\u001b[0;31m---------------------------------------------------------------------------\u001b[0m",
      "\u001b[0;31mValueError\u001b[0m                                Traceback (most recent call last)",
      "Cell \u001b[0;32mIn[23], line 9\u001b[0m\n\u001b[1;32m      7\u001b[0m \u001b[38;5;28mprint\u001b[39m(\u001b[38;5;124m'\u001b[39m\u001b[38;5;124mhello \u001b[39m\u001b[38;5;124m'\u001b[39m, state)\n\u001b[1;32m      8\u001b[0m pbar \u001b[38;5;241m=\u001b[39m tqdm(dataloader[state])\n\u001b[0;32m----> 9\u001b[0m \u001b[38;5;28;01mfor\u001b[39;00m idx, pairs \u001b[38;5;129;01min\u001b[39;00m \u001b[38;5;28menumerate\u001b[39m(pbar):\n\u001b[1;32m     10\u001b[0m     pbar\u001b[38;5;241m.\u001b[39mset_description(\u001b[38;5;124m'\u001b[39m\u001b[38;5;124mProcessing \u001b[39m\u001b[38;5;132;01m%s\u001b[39;00m\u001b[38;5;124m...  epoch \u001b[39m\u001b[38;5;132;01m%d\u001b[39;00m\u001b[38;5;124m'\u001b[39m \u001b[38;5;241m%\u001b[39m (state, epoch))\n\u001b[1;32m     12\u001b[0m     \u001b[38;5;28;01mif\u001b[39;00m state \u001b[38;5;241m==\u001b[39m \u001b[38;5;124m'\u001b[39m\u001b[38;5;124mtrain\u001b[39m\u001b[38;5;124m'\u001b[39m \u001b[38;5;129;01mand\u001b[39;00m idx \u001b[38;5;241m==\u001b[39m \u001b[38;5;241m0\u001b[39m:\n\u001b[1;32m     13\u001b[0m         \u001b[38;5;66;03m# train mode\u001b[39;00m\n",
      "File \u001b[0;32m/opt/homebrew/Caskroom/miniforge/base/envs/ML/lib/python3.9/site-packages/tqdm/std.py:1178\u001b[0m, in \u001b[0;36mtqdm.__iter__\u001b[0;34m(self)\u001b[0m\n\u001b[1;32m   1175\u001b[0m time \u001b[38;5;241m=\u001b[39m \u001b[38;5;28mself\u001b[39m\u001b[38;5;241m.\u001b[39m_time\n\u001b[1;32m   1177\u001b[0m \u001b[38;5;28;01mtry\u001b[39;00m:\n\u001b[0;32m-> 1178\u001b[0m     \u001b[38;5;28;01mfor\u001b[39;00m obj \u001b[38;5;129;01min\u001b[39;00m iterable:\n\u001b[1;32m   1179\u001b[0m         \u001b[38;5;28;01myield\u001b[39;00m obj\n\u001b[1;32m   1180\u001b[0m         \u001b[38;5;66;03m# Update and possibly print the progressbar.\u001b[39;00m\n\u001b[1;32m   1181\u001b[0m         \u001b[38;5;66;03m# Note: does not call self.update(1) for speed optimisation.\u001b[39;00m\n",
      "File \u001b[0;32m/opt/homebrew/Caskroom/miniforge/base/envs/ML/lib/python3.9/site-packages/torch/utils/data/dataloader.py:633\u001b[0m, in \u001b[0;36m_BaseDataLoaderIter.__next__\u001b[0;34m(self)\u001b[0m\n\u001b[1;32m    630\u001b[0m \u001b[38;5;28;01mif\u001b[39;00m \u001b[38;5;28mself\u001b[39m\u001b[38;5;241m.\u001b[39m_sampler_iter \u001b[38;5;129;01mis\u001b[39;00m \u001b[38;5;28;01mNone\u001b[39;00m:\n\u001b[1;32m    631\u001b[0m     \u001b[38;5;66;03m# TODO(https://github.com/pytorch/pytorch/issues/76750)\u001b[39;00m\n\u001b[1;32m    632\u001b[0m     \u001b[38;5;28mself\u001b[39m\u001b[38;5;241m.\u001b[39m_reset()  \u001b[38;5;66;03m# type: ignore[call-arg]\u001b[39;00m\n\u001b[0;32m--> 633\u001b[0m data \u001b[38;5;241m=\u001b[39m \u001b[38;5;28;43mself\u001b[39;49m\u001b[38;5;241;43m.\u001b[39;49m\u001b[43m_next_data\u001b[49m\u001b[43m(\u001b[49m\u001b[43m)\u001b[49m\n\u001b[1;32m    634\u001b[0m \u001b[38;5;28mself\u001b[39m\u001b[38;5;241m.\u001b[39m_num_yielded \u001b[38;5;241m+\u001b[39m\u001b[38;5;241m=\u001b[39m \u001b[38;5;241m1\u001b[39m\n\u001b[1;32m    635\u001b[0m \u001b[38;5;28;01mif\u001b[39;00m \u001b[38;5;28mself\u001b[39m\u001b[38;5;241m.\u001b[39m_dataset_kind \u001b[38;5;241m==\u001b[39m _DatasetKind\u001b[38;5;241m.\u001b[39mIterable \u001b[38;5;129;01mand\u001b[39;00m \\\n\u001b[1;32m    636\u001b[0m         \u001b[38;5;28mself\u001b[39m\u001b[38;5;241m.\u001b[39m_IterableDataset_len_called \u001b[38;5;129;01mis\u001b[39;00m \u001b[38;5;129;01mnot\u001b[39;00m \u001b[38;5;28;01mNone\u001b[39;00m \u001b[38;5;129;01mand\u001b[39;00m \\\n\u001b[1;32m    637\u001b[0m         \u001b[38;5;28mself\u001b[39m\u001b[38;5;241m.\u001b[39m_num_yielded \u001b[38;5;241m>\u001b[39m \u001b[38;5;28mself\u001b[39m\u001b[38;5;241m.\u001b[39m_IterableDataset_len_called:\n",
      "File \u001b[0;32m/opt/homebrew/Caskroom/miniforge/base/envs/ML/lib/python3.9/site-packages/torch/utils/data/dataloader.py:1345\u001b[0m, in \u001b[0;36m_MultiProcessingDataLoaderIter._next_data\u001b[0;34m(self)\u001b[0m\n\u001b[1;32m   1343\u001b[0m \u001b[38;5;28;01melse\u001b[39;00m:\n\u001b[1;32m   1344\u001b[0m     \u001b[38;5;28;01mdel\u001b[39;00m \u001b[38;5;28mself\u001b[39m\u001b[38;5;241m.\u001b[39m_task_info[idx]\n\u001b[0;32m-> 1345\u001b[0m     \u001b[38;5;28;01mreturn\u001b[39;00m \u001b[38;5;28;43mself\u001b[39;49m\u001b[38;5;241;43m.\u001b[39;49m\u001b[43m_process_data\u001b[49m\u001b[43m(\u001b[49m\u001b[43mdata\u001b[49m\u001b[43m)\u001b[49m\n",
      "File \u001b[0;32m/opt/homebrew/Caskroom/miniforge/base/envs/ML/lib/python3.9/site-packages/torch/utils/data/dataloader.py:1371\u001b[0m, in \u001b[0;36m_MultiProcessingDataLoaderIter._process_data\u001b[0;34m(self, data)\u001b[0m\n\u001b[1;32m   1369\u001b[0m \u001b[38;5;28mself\u001b[39m\u001b[38;5;241m.\u001b[39m_try_put_index()\n\u001b[1;32m   1370\u001b[0m \u001b[38;5;28;01mif\u001b[39;00m \u001b[38;5;28misinstance\u001b[39m(data, ExceptionWrapper):\n\u001b[0;32m-> 1371\u001b[0m     \u001b[43mdata\u001b[49m\u001b[38;5;241;43m.\u001b[39;49m\u001b[43mreraise\u001b[49m\u001b[43m(\u001b[49m\u001b[43m)\u001b[49m\n\u001b[1;32m   1372\u001b[0m \u001b[38;5;28;01mreturn\u001b[39;00m data\n",
      "File \u001b[0;32m/opt/homebrew/Caskroom/miniforge/base/envs/ML/lib/python3.9/site-packages/torch/_utils.py:644\u001b[0m, in \u001b[0;36mExceptionWrapper.reraise\u001b[0;34m(self)\u001b[0m\n\u001b[1;32m    640\u001b[0m \u001b[38;5;28;01mexcept\u001b[39;00m \u001b[38;5;167;01mTypeError\u001b[39;00m:\n\u001b[1;32m    641\u001b[0m     \u001b[38;5;66;03m# If the exception takes multiple arguments, don't try to\u001b[39;00m\n\u001b[1;32m    642\u001b[0m     \u001b[38;5;66;03m# instantiate since we don't know how to\u001b[39;00m\n\u001b[1;32m    643\u001b[0m     \u001b[38;5;28;01mraise\u001b[39;00m \u001b[38;5;167;01mRuntimeError\u001b[39;00m(msg) \u001b[38;5;28;01mfrom\u001b[39;00m \u001b[38;5;28;01mNone\u001b[39;00m\n\u001b[0;32m--> 644\u001b[0m \u001b[38;5;28;01mraise\u001b[39;00m exception\n",
      "\u001b[0;31mValueError\u001b[0m: Caught ValueError in DataLoader worker process 0.\nOriginal Traceback (most recent call last):\n  File \"/opt/homebrew/Caskroom/miniforge/base/envs/ML/lib/python3.9/site-packages/torch/utils/data/_utils/worker.py\", line 308, in _worker_loop\n    data = fetcher.fetch(index)\n  File \"/opt/homebrew/Caskroom/miniforge/base/envs/ML/lib/python3.9/site-packages/torch/utils/data/_utils/fetch.py\", line 51, in fetch\n    data = [self.dataset[idx] for idx in possibly_batched_index]\n  File \"/opt/homebrew/Caskroom/miniforge/base/envs/ML/lib/python3.9/site-packages/torch/utils/data/_utils/fetch.py\", line 51, in <listcomp>\n    data = [self.dataset[idx] for idx in possibly_batched_index]\n  File \"/Users/bw/Code/lightning/src/mydataset.py\", line 272, in __getitem__\n    item_in = self.get_nonshrink_from_1ch(item_in) #.transpose(2,0,1)\n  File \"/Users/bw/Code/lightning/src/mydataset.py\", line 309, in get_nonshrink_from_1ch\n    image_R = image * idx_R\nValueError: operands could not be broadcast together with shapes (256,256) (128,128) \n"
     ]
    }
   ],
   "source": [
    "while epoch < myepoch:\n",
    "    epoch += 1\n",
    "    print(f\"\\nEpoch {epoch}\")\n",
    "\n",
    "    loss_G_total = {'train': 0, 'valid': 0}\n",
    "    for state in ['train', 'valid']:\n",
    "        print('hello ', state)\n",
    "        pbar = tqdm(dataloader[state])\n",
    "        for idx, pairs in enumerate(pbar):\n",
    "            pbar.set_description('Processing %s...  epoch %d' % (state, epoch))\n",
    "\n",
    "            if state == 'train' and idx == 0:\n",
    "                # train mode\n",
    "                model.train()\n",
    "            elif state == 'valid' and idx == 0:\n",
    "                # eval mode\n",
    "                model.eval()\n",
    "\n",
    "\n",
    "            # get data\n",
    "            item_in, item_gt = pairs\n",
    "\n",
    "            if device == 'mps':\n",
    "                item_in = item_in.type(torch.float32)\n",
    "                item_gt = item_gt.type(torch.float32)\n",
    "\n",
    "            # data to device\n",
    "            item_in = item_in.to(device)\n",
    "            item_gt = item_gt.to(device)\n",
    "\n",
    "\n",
    "\n",
    "            # -----------------\n",
    "            # Forward\n",
    "            # -----------------\n",
    "            item_out = model(item_in)\n",
    "\n",
    "            # -----------------\n",
    "            # Train Generator\n",
    "            # -----------------\n",
    "            loss_mse = criterion(item_out, item_gt)\n",
    "\n",
    "            # combine loss and calculate gradients\n",
    "            loss_G = 0\n",
    "            loss_G += loss_mse\n",
    "            loss_G_train_last = loss_G  # for save\n",
    "\n",
    "            step[state] += 1\n",
    "            if state == 'train':\n",
    "                # train mode\n",
    "                optim_G.zero_grad()\n",
    "                loss_G.backward()\n",
    "                optim_G.step()\n",
    "            else:\n",
    "                if idx == 0:\n",
    "                    step['valid'] = step['train']\n",
    "\n",
    "            ## accumulate generator loss in validataion to save best ckpt\n",
    "            loss_G_total[state] += loss_G\n",
    "\n",
    "            # -----------------\n",
    "            # record loss for tensorboard\n",
    "            # -----------------\n",
    "            disp[state].record([loss_G])\n",
    "            if step[state] % 100 == 0 and idx>1:\n",
    "                avg_losses = disp[state].get_avg_losses()\n",
    "                summary.add_scalar(f\"loss_G_{state}\", avg_losses[0], step[state])\n",
    "\n",
    "                print(\n",
    "                    f'{state} : epoch{epoch}, step{step[state]}------------------------------------------------------')\n",
    "                print('loss_G: %.3f, ' % avg_losses[0], end='')\n",
    "                disp[state].reset()\n",
    "\n",
    "\n",
    "    else:\n",
    "        print('hello<<< viz ', state)\n",
    "\n",
    "        viz_images = give_me_visualization(model, dataloader['viz'], device )\n",
    "\n",
    "        summary.add_image('generated pairs', viz_images, step['viz'] )\n",
    "\n",
    "\n",
    "        ## save ckeck point if improved\n",
    "        loss_G_average = loss_G_total[state] / nsteps[state]\n",
    "        if loss_best_G[state] > loss_G_average:\n",
    "            print(f'best {state} ckpt updated!!!  old best {loss_best_G[state]} vs new best {loss_G_average}')\n",
    "            loss_best_G[state] = loss_G_average\n",
    "            summary.add_scalar(f\"loss_best_G{state}\", loss_best_G[state], step[state])\n",
    "\n",
    "            ckpt_path_name_best = os.path.join(checkpoint_path)\n",
    "\n",
    "            save_model(model, ckpt_path_name_best, epoch, loss_best_G[state])\n",
    "            \n",
    "            \n",
    "\n",
    "    ## Step scheduler\n",
    "    scheduler_G.step()\n",
    "\n",
    "    # Save checkpoint for every 5 epoch\n",
    "    if epoch % 5 == 0:\n",
    "        save_model(model, checkpoint_path, epoch, loss_G_train_last)"
   ]
  },
  {
   "cell_type": "code",
   "execution_count": null,
   "id": "84bb6310",
   "metadata": {},
   "outputs": [],
   "source": []
  },
  {
   "cell_type": "code",
   "execution_count": null,
   "id": "7d3a990d",
   "metadata": {},
   "outputs": [],
   "source": []
  },
  {
   "cell_type": "code",
   "execution_count": null,
   "id": "5c65db95",
   "metadata": {},
   "outputs": [],
   "source": []
  },
  {
   "cell_type": "code",
   "execution_count": null,
   "id": "3b85dbbe",
   "metadata": {},
   "outputs": [],
   "source": []
  },
  {
   "cell_type": "code",
   "execution_count": null,
   "id": "9dfcfd6b",
   "metadata": {},
   "outputs": [],
   "source": []
  },
  {
   "cell_type": "code",
   "execution_count": null,
   "id": "e88ed3a3",
   "metadata": {},
   "outputs": [],
   "source": []
  },
  {
   "cell_type": "code",
   "execution_count": null,
   "id": "a5caba8f",
   "metadata": {},
   "outputs": [],
   "source": []
  },
  {
   "cell_type": "code",
   "execution_count": null,
   "id": "5f38bdd0",
   "metadata": {},
   "outputs": [],
   "source": []
  },
  {
   "cell_type": "code",
   "execution_count": null,
   "id": "2b6eb963",
   "metadata": {},
   "outputs": [],
   "source": []
  },
  {
   "cell_type": "code",
   "execution_count": null,
   "id": "f2d4cd29",
   "metadata": {},
   "outputs": [],
   "source": []
  }
 ],
 "metadata": {
  "kernelspec": {
   "display_name": "Python 3 (ipykernel)",
   "language": "python",
   "name": "python3"
  },
  "language_info": {
   "codemirror_mode": {
    "name": "ipython",
    "version": 3
   },
   "file_extension": ".py",
   "mimetype": "text/x-python",
   "name": "python",
   "nbconvert_exporter": "python",
   "pygments_lexer": "ipython3",
   "version": "3.9.16"
  },
  "varInspector": {
   "cols": {
    "lenName": 16,
    "lenType": 16,
    "lenVar": 40
   },
   "kernels_config": {
    "python": {
     "delete_cmd_postfix": "",
     "delete_cmd_prefix": "del ",
     "library": "var_list.py",
     "varRefreshCmd": "print(var_dic_list())"
    },
    "r": {
     "delete_cmd_postfix": ") ",
     "delete_cmd_prefix": "rm(",
     "library": "var_list.r",
     "varRefreshCmd": "cat(var_dic_list()) "
    }
   },
   "types_to_exclude": [
    "module",
    "function",
    "builtin_function_or_method",
    "instance",
    "_Feature"
   ],
   "window_display": false
  }
 },
 "nbformat": 4,
 "nbformat_minor": 5
}
