{
 "cells": [
  {
   "cell_type": "code",
   "execution_count": null,
   "id": "97e46dc5",
   "metadata": {
    "ExecuteTime": {
     "end_time": "2024-01-27T15:08:19.122903Z",
     "start_time": "2024-01-27T15:08:18.912246Z"
    }
   },
   "outputs": [],
   "source": [
    "from google.colab import drive\n",
    "drive.mount('/content/drive')"
   ]
  },
  {
   "cell_type": "code",
   "execution_count": null,
   "id": "bc3aa424",
   "metadata": {
    "ExecuteTime": {
     "end_time": "2024-01-27T15:08:19.125585Z",
     "start_time": "2024-01-27T15:08:19.125576Z"
    }
   },
   "outputs": [],
   "source": [
    "%cd /content/drive/MyDrive/Code/lightning/src"
   ]
  },
  {
   "cell_type": "code",
   "execution_count": 1,
   "id": "d9be7b57",
   "metadata": {
    "ExecuteTime": {
     "end_time": "2024-01-27T15:08:45.731577Z",
     "start_time": "2024-01-27T15:08:40.536192Z"
    }
   },
   "outputs": [],
   "source": [
    "import os, glob\n",
    "import time\n",
    "import argparse\n",
    "import torch\n",
    "import numpy as np\n",
    "from tqdm import tqdm\n",
    "from torch import nn, optim\n",
    "from mymodel import mygen_model\n",
    "from myutils import LossDisplayer\n",
    "from torch.utils.tensorboard import SummaryWriter\n",
    "\n",
    "import torchvision.utils as vutils\n",
    "\n",
    "from mydataset import give_me_dataloader, PairedDataset, give_me_transform"
   ]
  },
  {
   "cell_type": "code",
   "execution_count": 2,
   "id": "62bd9c73",
   "metadata": {
    "ExecuteTime": {
     "end_time": "2024-01-27T15:08:48.415730Z",
     "start_time": "2024-01-27T15:08:48.412323Z"
    }
   },
   "outputs": [],
   "source": [
    "def save_model(model, ckpt_path, epoch, loss=0.0, state='valid'):\n",
    "    try:\n",
    "        os.makedirs(ckpt_path, exist_ok=True)\n",
    "        fname = os.path.join(ckpt_path, \"bwunet_epoch_%05d_loss_%05.3e.pth\"%(epoch, loss))\n",
    "        if os.path.exists(fname):\n",
    "            fname = fname.split('.pth')[0] + f'_{state}_1.pth'\n",
    "        print('trying to save,,,,', fname)\n",
    "        torch.save(\n",
    "                {\n",
    "                    \"model_state_dict\": model.state_dict(),\n",
    "                    \"epoch\"      : epoch,\n",
    "                },\n",
    "                fname,\n",
    "        )\n",
    "    except:\n",
    "        print('something wrong......skip saving model at epoch ', epoch)"
   ]
  },
  {
   "cell_type": "code",
   "execution_count": 3,
   "id": "07895f3f",
   "metadata": {
    "ExecuteTime": {
     "end_time": "2024-01-27T15:08:53.353071Z",
     "start_time": "2024-01-27T15:08:53.335943Z"
    }
   },
   "outputs": [],
   "source": [
    "\n",
    "\n",
    "def give_me_visualization(model, dataloader, device):\n",
    "    pbar = tqdm(dataloader)\n",
    "    for idx, pairs in enumerate(pbar):\n",
    "        ## for tensorboard viz\n",
    "\n",
    "        model.eval()\n",
    "\n",
    "        # get data\n",
    "        item_in, item_gt = pairs\n",
    "        if device== 'mps':\n",
    "            item_in = item_in.type(torch.float32)\n",
    "            item_gt = item_gt.type(torch.float32)\n",
    "        item_in = item_in.to(device)\n",
    "        item_gt = item_gt.to(device)\n",
    "\n",
    "        # forward\n",
    "        item_out = model(item_in)\n",
    "\n",
    "        # diff\n",
    "        item_diff = torch.abs(item_out)\n",
    "\n",
    "        ## normalize for grid view\n",
    "        item_in = (item_in + 1) / 2\n",
    "        item_gt = (item_gt + 1) / 2\n",
    "        item_diff = (item_diff + 2) / 4\n",
    "        item_out = (item_out + 1) / 2\n",
    "\n",
    "        # get grid view\n",
    "        item_in = vutils.make_grid(item_in, padding=2, normalize=True)\n",
    "        item_gt = vutils.make_grid(item_gt, padding=2, normalize=True)\n",
    "        item_diff = vutils.make_grid(item_diff, padding=2, normalize=True)\n",
    "        item_out = vutils.make_grid(item_out, padding=2, normalize=True)\n",
    "\n",
    "        top_images = torch.cat((item_in.cpu(), item_gt.cpu()), dim=2)\n",
    "        bot_images = torch.cat((item_diff.cpu(), item_out.cpu()), dim=2)\n",
    "        viz_images = torch.cat((top_images.cpu(), bot_images.cpu()), dim=1)\n",
    "\n",
    "        return viz_images\n"
   ]
  },
  {
   "cell_type": "markdown",
   "id": "40b0c191",
   "metadata": {},
   "source": [
    "# Test"
   ]
  },
  {
   "cell_type": "code",
   "execution_count": 4,
   "id": "ca8e5e5d",
   "metadata": {
    "ExecuteTime": {
     "end_time": "2024-01-27T15:08:55.556044Z",
     "start_time": "2024-01-27T15:08:55.554354Z"
    }
   },
   "outputs": [],
   "source": [
    "bwtest=True\n",
    "# bwtest=False"
   ]
  },
  {
   "cell_type": "markdown",
   "id": "d26b7759",
   "metadata": {},
   "source": [
    "# Device selection"
   ]
  },
  {
   "cell_type": "code",
   "execution_count": 5,
   "id": "1ea0c6cc",
   "metadata": {
    "ExecuteTime": {
     "end_time": "2024-01-27T15:08:58.393313Z",
     "start_time": "2024-01-27T15:08:58.390613Z"
    }
   },
   "outputs": [
    {
     "name": "stdout",
     "output_type": "stream",
     "text": [
      "Train Using mps device\n"
     ]
    }
   ],
   "source": [
    "device = (\n",
    "    \"cuda\" if torch.cuda.is_available()\n",
    "    else \"mps\" if torch.backends.mps.is_available()\n",
    "    else \"cpu\"\n",
    ")\n",
    "\n",
    "print(f\"Train Using {device} device\")"
   ]
  },
  {
   "cell_type": "markdown",
   "id": "2b3bc799",
   "metadata": {},
   "source": [
    "# ARGS"
   ]
  },
  {
   "cell_type": "code",
   "execution_count": 6,
   "id": "b47f3f6f",
   "metadata": {
    "ExecuteTime": {
     "end_time": "2024-01-27T15:09:00.215313Z",
     "start_time": "2024-01-27T15:09:00.212022Z"
    }
   },
   "outputs": [
    {
     "name": "stdout",
     "output_type": "stream",
     "text": [
      "/Users/bw/Code/lightning/src\n",
      "model_name =  bwunet\n",
      "input_size =  128\n",
      "device =  mps\n",
      "dataset_path =  /Users/bw/Dataset/MIPI_demosaic_hybridevs\n"
     ]
    }
   ],
   "source": [
    "model_name      = 'bwunet'\n",
    "dataset_path    = '/Users/bw/Dataset/MIPI_demosaic_hybridevs'\n",
    "myepoch         = 100\n",
    "input_size      = 128\n",
    "batch_size      = 128\n",
    "learning_rate   = 1e-4\n",
    "checkpoint_path = 'model_dir_torch/ckpt'\n",
    "\n",
    "cwd = os.getcwd()\n",
    "print(cwd)\n",
    "if '/content/drive/MyDrive' in cwd:\n",
    "    dataset_path = '/content/drive/MyDrive/Datasets/MIPI_tetra_hybridenvs'\n",
    "\n",
    "print('model_name = ', model_name)\n",
    "print('input_size = ', input_size)\n",
    "print('device = ', device)\n",
    "print('dataset_path = ', dataset_path)"
   ]
  },
  {
   "cell_type": "markdown",
   "id": "7f0278ce",
   "metadata": {},
   "source": [
    "# Dataset"
   ]
  },
  {
   "cell_type": "markdown",
   "id": "24b6136f",
   "metadata": {},
   "source": [
    "### Data gathering & shuffle"
   ]
  },
  {
   "cell_type": "code",
   "execution_count": 7,
   "id": "c0b4baed",
   "metadata": {
    "ExecuteTime": {
     "end_time": "2024-01-27T15:09:05.585682Z",
     "start_time": "2024-01-27T15:09:03.586392Z"
    }
   },
   "outputs": [
    {
     "name": "stdout",
     "output_type": "stream",
     "text": [
      "base_path:  /Users/bw/Dataset/MIPI_demosaic_hybridevs\n",
      "141616\n",
      "[ 28846  91410  61939 ...  16538  86332 104838]\n"
     ]
    }
   ],
   "source": [
    "base_path = os.path.join(dataset_path)\n",
    "print('base_path: ', base_path)\n",
    "pnames_in = glob.glob(os.path.join(base_path, 'train/pairs', \"*_in.npy\"))\n",
    "pnames_gt = glob.glob(os.path.join(base_path, 'train/pairs', \"*_gt.npy\"))\n",
    "pnames_viz_in = glob.glob(os.path.join(base_path, 'viz/pairs', \"*_in.npy\"))\n",
    "pnames_viz_gt = glob.glob(os.path.join(base_path, 'viz/pairs', \"*_gt.npy\"))\n",
    "\n",
    "\n",
    "pnames_in.sort()\n",
    "pnames_gt.sort()\n",
    "pnames_viz_in.sort()\n",
    "pnames_viz_gt.sort()\n",
    "\n",
    "\n",
    "flen = len(pnames_gt)\n",
    "print(flen)\n",
    "\n",
    "order = np.arange(flen)\n",
    "np.random.shuffle(order)\n",
    "print(order)\n",
    "\n",
    "# shuffle\n",
    "pnames_in = [pnames_in[x] for x in order]\n",
    "pnames_gt = [pnames_gt[x] for x in order]"
   ]
  },
  {
   "cell_type": "markdown",
   "id": "4fe5500f",
   "metadata": {},
   "source": [
    "### Split train & valid set"
   ]
  },
  {
   "cell_type": "code",
   "execution_count": 8,
   "id": "bb460aea",
   "metadata": {
    "ExecuteTime": {
     "end_time": "2024-01-27T15:09:07.499407Z",
     "start_time": "2024-01-27T15:09:07.432729Z"
    }
   },
   "outputs": [
    {
     "name": "stdout",
     "output_type": "stream",
     "text": [
      "-->>>> 134535 7081\n"
     ]
    }
   ],
   "source": [
    "validation_split = 0.05\n",
    "number_train_set = int(flen*(1-validation_split))\n",
    "number_valid_set = flen - number_train_set\n",
    "print(\"-->>>>\",number_train_set, number_valid_set)\n",
    "\n",
    "pnames_train_in = pnames_in[:number_train_set]\n",
    "pnames_train_gt = pnames_gt[:number_train_set]\n",
    "\n",
    "pnames_valid_in = pnames_in[number_train_set:]\n",
    "pnames_valid_gt = pnames_gt[number_train_set:]\n",
    "\n",
    "if bwtest: # for test purpose\n",
    "    pnames_train_in = pnames_in[:batch_size]\n",
    "    pnames_train_gt = pnames_gt[:batch_size]\n",
    "\n",
    "    pnames_valid_in = pnames_in[batch_size:batch_size*2]\n",
    "    pnames_valid_gt = pnames_gt[batch_size:batch_size*2]"
   ]
  },
  {
   "cell_type": "markdown",
   "id": "d21c9b1f",
   "metadata": {},
   "source": [
    "### transform"
   ]
  },
  {
   "cell_type": "code",
   "execution_count": 9,
   "id": "08bb955d",
   "metadata": {
    "ExecuteTime": {
     "end_time": "2024-01-27T15:09:09.213573Z",
     "start_time": "2024-01-27T15:09:09.211539Z"
    }
   },
   "outputs": [],
   "source": [
    "transform = {'train': give_me_transform('train'),\n",
    "             'valid': give_me_transform('valid'),\n",
    "             'viz':   give_me_transform('viz')}"
   ]
  },
  {
   "cell_type": "markdown",
   "id": "b64ee733",
   "metadata": {},
   "source": [
    "### dataloader"
   ]
  },
  {
   "cell_type": "code",
   "execution_count": 10,
   "id": "e25611ed",
   "metadata": {
    "ExecuteTime": {
     "end_time": "2024-01-27T15:09:11.353712Z",
     "start_time": "2024-01-27T15:09:11.349885Z"
    }
   },
   "outputs": [
    {
     "name": "stdout",
     "output_type": "stream",
     "text": [
      "len(train):  1\n",
      "len(valid):  1\n",
      "len(viz):  1\n"
     ]
    }
   ],
   "source": [
    "# dataloader\n",
    "dataloader = {'train': give_me_dataloader(PairedDataset(pnames_train_in, \n",
    "                                                        pnames_train_gt, \n",
    "                                                        transform['train'], \n",
    "                                                        device), batch_size),\n",
    "              'valid': give_me_dataloader(PairedDataset(pnames_valid_in,\n",
    "                                                        pnames_valid_gt, \n",
    "                                                        transform['valid'], \n",
    "                                                        device), batch_size),\n",
    "              'viz'  : give_me_dataloader(PairedDataset(pnames_viz_in,   \n",
    "                                                        pnames_viz_gt,   \n",
    "                                                        transform['viz'],   \n",
    "                                                        device), batch_size) }\n",
    "\n",
    "nsteps={}\n",
    "for state in ['train', 'valid', 'viz']:\n",
    "    nsteps[state] = len(dataloader[state])\n",
    "    print('len(%s): '%state, len(dataloader[state]))"
   ]
  },
  {
   "cell_type": "markdown",
   "id": "feedf2d1",
   "metadata": {},
   "source": [
    "# Model"
   ]
  },
  {
   "cell_type": "code",
   "execution_count": 11,
   "id": "688e5214",
   "metadata": {
    "ExecuteTime": {
     "end_time": "2024-01-27T15:09:13.563897Z",
     "start_time": "2024-01-27T15:09:13.467216Z"
    }
   },
   "outputs": [
    {
     "name": "stdout",
     "output_type": "stream",
     "text": [
      "network:  bwunet\n",
      "initialize network with normal\n",
      "BWUnet(\n",
      "  (enc_block0): Enc_block(\n",
      "    (conv): Conv2d(3, 16, kernel_size=(3, 3), stride=(1, 1), padding=(1, 1))\n",
      "    (norm): BatchNorm2d(16, eps=1e-05, momentum=0.1, affine=True, track_running_stats=True)\n",
      "    (prelu): LeakyReLU(negative_slope=16)\n",
      "  )\n",
      "  (enc_block1): Enc_block(\n",
      "    (conv): Conv2d(16, 32, kernel_size=(3, 3), stride=(1, 1), padding=(1, 1))\n",
      "    (norm): BatchNorm2d(32, eps=1e-05, momentum=0.1, affine=True, track_running_stats=True)\n",
      "    (prelu): LeakyReLU(negative_slope=32)\n",
      "  )\n",
      "  (enc_block2): Enc_block(\n",
      "    (conv): Conv2d(32, 64, kernel_size=(3, 3), stride=(1, 1), padding=(1, 1))\n",
      "    (norm): BatchNorm2d(64, eps=1e-05, momentum=0.1, affine=True, track_running_stats=True)\n",
      "    (prelu): LeakyReLU(negative_slope=64)\n",
      "  )\n",
      "  (enc_block3): Enc_block(\n",
      "    (conv): Conv2d(64, 128, kernel_size=(3, 3), stride=(1, 1), padding=(1, 1))\n",
      "    (norm): BatchNorm2d(128, eps=1e-05, momentum=0.1, affine=True, track_running_stats=True)\n",
      "    (prelu): LeakyReLU(negative_slope=128)\n",
      "  )\n",
      "  (enc_block4): Enc_block(\n",
      "    (conv): Conv2d(128, 256, kernel_size=(3, 3), stride=(1, 1), padding=(1, 1))\n",
      "    (norm): BatchNorm2d(256, eps=1e-05, momentum=0.1, affine=True, track_running_stats=True)\n",
      "    (prelu): LeakyReLU(negative_slope=256)\n",
      "  )\n",
      "  (enc_block5): Enc_block(\n",
      "    (conv): Conv2d(256, 256, kernel_size=(3, 3), stride=(1, 1), padding=(1, 1))\n",
      "    (norm): BatchNorm2d(256, eps=1e-05, momentum=0.1, affine=True, track_running_stats=True)\n",
      "    (prelu): LeakyReLU(negative_slope=256)\n",
      "  )\n",
      "  (enc_block6): Enc_block(\n",
      "    (conv): Conv2d(256, 256, kernel_size=(3, 3), stride=(1, 1), padding=(1, 1))\n",
      "    (norm): BatchNorm2d(256, eps=1e-05, momentum=0.1, affine=True, track_running_stats=True)\n",
      "    (prelu): LeakyReLU(negative_slope=256)\n",
      "  )\n",
      "  (enc_block7): Enc_block(\n",
      "    (conv): Conv2d(256, 256, kernel_size=(3, 3), stride=(1, 1), padding=(1, 1))\n",
      "    (norm): BatchNorm2d(256, eps=1e-05, momentum=0.1, affine=True, track_running_stats=True)\n",
      "    (prelu): LeakyReLU(negative_slope=256)\n",
      "  )\n",
      "  (dec_block4): Dec_block(\n",
      "    (tconv): ConvTranspose2d(256, 256, kernel_size=(3, 3), stride=(2, 2), padding=(1, 1), output_padding=(1, 1))\n",
      "    (conv): Conv2d(256, 128, kernel_size=(3, 3), stride=(1, 1), padding=(1, 1))\n",
      "    (prelut): LeakyReLU(negative_slope=0.01)\n",
      "    (preluc): LeakyReLU(negative_slope=0.01)\n",
      "  )\n",
      "  (dec_block3): Dec_block(\n",
      "    (tconv): ConvTranspose2d(128, 128, kernel_size=(3, 3), stride=(2, 2), padding=(1, 1), output_padding=(1, 1))\n",
      "    (conv): Conv2d(128, 64, kernel_size=(3, 3), stride=(1, 1), padding=(1, 1))\n",
      "    (prelut): LeakyReLU(negative_slope=0.01)\n",
      "    (preluc): LeakyReLU(negative_slope=0.01)\n",
      "  )\n",
      "  (dec_block2): Dec_block(\n",
      "    (tconv): ConvTranspose2d(64, 64, kernel_size=(3, 3), stride=(2, 2), padding=(1, 1), output_padding=(1, 1))\n",
      "    (conv): Conv2d(64, 32, kernel_size=(3, 3), stride=(1, 1), padding=(1, 1))\n",
      "    (prelut): LeakyReLU(negative_slope=0.01)\n",
      "    (preluc): LeakyReLU(negative_slope=0.01)\n",
      "  )\n",
      "  (dec_block1): Dec_block(\n",
      "    (tconv): ConvTranspose2d(32, 32, kernel_size=(3, 3), stride=(2, 2), padding=(1, 1), output_padding=(1, 1))\n",
      "    (conv): Conv2d(32, 16, kernel_size=(3, 3), stride=(1, 1), padding=(1, 1))\n",
      "    (prelut): LeakyReLU(negative_slope=0.01)\n",
      "    (preluc): LeakyReLU(negative_slope=0.01)\n",
      "  )\n",
      "  (dec_block0): Enc_block(\n",
      "    (conv): Conv2d(16, 8, kernel_size=(3, 3), stride=(1, 1), padding=(1, 1))\n",
      "    (norm): BatchNorm2d(8, eps=1e-05, momentum=0.1, affine=True, track_running_stats=True)\n",
      "    (prelu): LeakyReLU(negative_slope=8)\n",
      "  )\n",
      "  (last): Conv2d(8, 3, kernel_size=(3, 3), stride=(1, 1), padding=(1, 1))\n",
      "  (tanh): Tanh()\n",
      ")\n"
     ]
    }
   ],
   "source": [
    "model = mygen_model('bwunet').to(device)\n",
    "print(model)"
   ]
  },
  {
   "cell_type": "markdown",
   "id": "8aa9db7b",
   "metadata": {},
   "source": [
    "# Save onnx"
   ]
  },
  {
   "cell_type": "code",
   "execution_count": 12,
   "id": "9d9cd9ee",
   "metadata": {
    "ExecuteTime": {
     "end_time": "2024-01-27T15:09:16.356414Z",
     "start_time": "2024-01-27T15:09:15.871849Z"
    }
   },
   "outputs": [
    {
     "name": "stdout",
     "output_type": "stream",
     "text": [
      "================ Diagnostic Run torch.onnx.export version 2.0.1 ================\n",
      "verbose: False, log level: Level.ERROR\n",
      "======================= 0 NONE 0 NOTE 0 WARNING 0 ERROR ========================\n",
      "\n"
     ]
    }
   ],
   "source": [
    "dummy_input = torch.randn(1, 3, 128, 128, device=device, requires_grad=False)\n",
    "with torch.no_grad():\n",
    "    os.makedirs('onnx', exist_ok=True)\n",
    "    torch.onnx.export(model.eval(), dummy_input,\n",
    "                      os.path.join('onnx',  f\"{model_name}.onnx\"))"
   ]
  },
  {
   "cell_type": "markdown",
   "id": "ba0c7f98",
   "metadata": {},
   "source": [
    "# Load ckpt if any"
   ]
  },
  {
   "cell_type": "code",
   "execution_count": 20,
   "id": "7ecd8e33",
   "metadata": {
    "ExecuteTime": {
     "end_time": "2024-01-27T15:14:46.753134Z",
     "start_time": "2024-01-27T15:14:46.714656Z"
    }
   },
   "outputs": [
    {
     "name": "stdout",
     "output_type": "stream",
     "text": [
      "Loading..... model_dir_torch/ckpt/bwunet_epoch_00003_loss_1.256e+00.pth\n"
     ]
    },
    {
     "data": {
      "text/plain": [
       "BWUnet(\n",
       "  (enc_block0): Enc_block(\n",
       "    (conv): Conv2d(3, 16, kernel_size=(3, 3), stride=(1, 1), padding=(1, 1))\n",
       "    (norm): BatchNorm2d(16, eps=1e-05, momentum=0.1, affine=True, track_running_stats=True)\n",
       "    (prelu): LeakyReLU(negative_slope=16)\n",
       "  )\n",
       "  (enc_block1): Enc_block(\n",
       "    (conv): Conv2d(16, 32, kernel_size=(3, 3), stride=(1, 1), padding=(1, 1))\n",
       "    (norm): BatchNorm2d(32, eps=1e-05, momentum=0.1, affine=True, track_running_stats=True)\n",
       "    (prelu): LeakyReLU(negative_slope=32)\n",
       "  )\n",
       "  (enc_block2): Enc_block(\n",
       "    (conv): Conv2d(32, 64, kernel_size=(3, 3), stride=(1, 1), padding=(1, 1))\n",
       "    (norm): BatchNorm2d(64, eps=1e-05, momentum=0.1, affine=True, track_running_stats=True)\n",
       "    (prelu): LeakyReLU(negative_slope=64)\n",
       "  )\n",
       "  (enc_block3): Enc_block(\n",
       "    (conv): Conv2d(64, 128, kernel_size=(3, 3), stride=(1, 1), padding=(1, 1))\n",
       "    (norm): BatchNorm2d(128, eps=1e-05, momentum=0.1, affine=True, track_running_stats=True)\n",
       "    (prelu): LeakyReLU(negative_slope=128)\n",
       "  )\n",
       "  (enc_block4): Enc_block(\n",
       "    (conv): Conv2d(128, 256, kernel_size=(3, 3), stride=(1, 1), padding=(1, 1))\n",
       "    (norm): BatchNorm2d(256, eps=1e-05, momentum=0.1, affine=True, track_running_stats=True)\n",
       "    (prelu): LeakyReLU(negative_slope=256)\n",
       "  )\n",
       "  (enc_block5): Enc_block(\n",
       "    (conv): Conv2d(256, 256, kernel_size=(3, 3), stride=(1, 1), padding=(1, 1))\n",
       "    (norm): BatchNorm2d(256, eps=1e-05, momentum=0.1, affine=True, track_running_stats=True)\n",
       "    (prelu): LeakyReLU(negative_slope=256)\n",
       "  )\n",
       "  (enc_block6): Enc_block(\n",
       "    (conv): Conv2d(256, 256, kernel_size=(3, 3), stride=(1, 1), padding=(1, 1))\n",
       "    (norm): BatchNorm2d(256, eps=1e-05, momentum=0.1, affine=True, track_running_stats=True)\n",
       "    (prelu): LeakyReLU(negative_slope=256)\n",
       "  )\n",
       "  (enc_block7): Enc_block(\n",
       "    (conv): Conv2d(256, 256, kernel_size=(3, 3), stride=(1, 1), padding=(1, 1))\n",
       "    (norm): BatchNorm2d(256, eps=1e-05, momentum=0.1, affine=True, track_running_stats=True)\n",
       "    (prelu): LeakyReLU(negative_slope=256)\n",
       "  )\n",
       "  (dec_block4): Dec_block(\n",
       "    (tconv): ConvTranspose2d(256, 256, kernel_size=(3, 3), stride=(2, 2), padding=(1, 1), output_padding=(1, 1))\n",
       "    (conv): Conv2d(256, 128, kernel_size=(3, 3), stride=(1, 1), padding=(1, 1))\n",
       "    (prelut): LeakyReLU(negative_slope=0.01)\n",
       "    (preluc): LeakyReLU(negative_slope=0.01)\n",
       "  )\n",
       "  (dec_block3): Dec_block(\n",
       "    (tconv): ConvTranspose2d(128, 128, kernel_size=(3, 3), stride=(2, 2), padding=(1, 1), output_padding=(1, 1))\n",
       "    (conv): Conv2d(128, 64, kernel_size=(3, 3), stride=(1, 1), padding=(1, 1))\n",
       "    (prelut): LeakyReLU(negative_slope=0.01)\n",
       "    (preluc): LeakyReLU(negative_slope=0.01)\n",
       "  )\n",
       "  (dec_block2): Dec_block(\n",
       "    (tconv): ConvTranspose2d(64, 64, kernel_size=(3, 3), stride=(2, 2), padding=(1, 1), output_padding=(1, 1))\n",
       "    (conv): Conv2d(64, 32, kernel_size=(3, 3), stride=(1, 1), padding=(1, 1))\n",
       "    (prelut): LeakyReLU(negative_slope=0.01)\n",
       "    (preluc): LeakyReLU(negative_slope=0.01)\n",
       "  )\n",
       "  (dec_block1): Dec_block(\n",
       "    (tconv): ConvTranspose2d(32, 32, kernel_size=(3, 3), stride=(2, 2), padding=(1, 1), output_padding=(1, 1))\n",
       "    (conv): Conv2d(32, 16, kernel_size=(3, 3), stride=(1, 1), padding=(1, 1))\n",
       "    (prelut): LeakyReLU(negative_slope=0.01)\n",
       "    (preluc): LeakyReLU(negative_slope=0.01)\n",
       "  )\n",
       "  (dec_block0): Enc_block(\n",
       "    (conv): Conv2d(16, 8, kernel_size=(3, 3), stride=(1, 1), padding=(1, 1))\n",
       "    (norm): BatchNorm2d(8, eps=1e-05, momentum=0.1, affine=True, track_running_stats=True)\n",
       "    (prelu): LeakyReLU(negative_slope=8)\n",
       "  )\n",
       "  (last): Conv2d(8, 3, kernel_size=(3, 3), stride=(1, 1), padding=(1, 1))\n",
       "  (tanh): Tanh()\n",
       ")"
      ]
     },
     "execution_count": 20,
     "metadata": {},
     "output_type": "execute_result"
    }
   ],
   "source": [
    "ckpt_list = os.listdir(checkpoint_path) \n",
    "ckpt_list.sort()\n",
    "\n",
    "if (checkpoint_path is not None) and \\\n",
    "    os.path.exists(checkpoint_path) and \\\n",
    "    (len(ckpt_list) ) > 0 :\n",
    "    ckpt_name = os.path.join(checkpoint_path, ckpt_list[-1])\n",
    "    print('Loading.....', ckpt_name)\n",
    "    checkpoint = torch.load(ckpt_name, map_location=device)\n",
    "    model.load_state_dict(checkpoint[\"model_state_dict\"])\n",
    "    epoch = checkpoint[\"epoch\"]\n",
    "else:\n",
    "    os.makedirs(checkpoint_path, exist_ok=True)\n",
    "    epoch = 0\n",
    "\n",
    "# make train mode\n",
    "model.train()"
   ]
  },
  {
   "cell_type": "markdown",
   "id": "b0cfe6e4",
   "metadata": {},
   "source": [
    "# Loss"
   ]
  },
  {
   "cell_type": "code",
   "execution_count": 21,
   "id": "f20aff69",
   "metadata": {
    "ExecuteTime": {
     "end_time": "2024-01-27T15:15:00.434065Z",
     "start_time": "2024-01-27T15:15:00.432372Z"
    }
   },
   "outputs": [],
   "source": [
    "# criterion_cycle = nn.L1Loss()\n",
    "criterion = nn.MSELoss()"
   ]
  },
  {
   "cell_type": "markdown",
   "id": "412f9d2b",
   "metadata": {},
   "source": [
    "# Optimizer"
   ]
  },
  {
   "cell_type": "code",
   "execution_count": 22,
   "id": "01c7fdf6",
   "metadata": {
    "ExecuteTime": {
     "end_time": "2024-01-27T15:15:04.009764Z",
     "start_time": "2024-01-27T15:15:04.007554Z"
    }
   },
   "outputs": [],
   "source": [
    "optim_G = optim.Adam(\n",
    "        list(model.parameters()),\n",
    "        lr=learning_rate,\n",
    "        betas=(0.5, 0.999),\n",
    "    )"
   ]
  },
  {
   "cell_type": "markdown",
   "id": "1240f9cd",
   "metadata": {},
   "source": [
    "# Scheduler"
   ]
  },
  {
   "cell_type": "code",
   "execution_count": 23,
   "id": "154a89f9",
   "metadata": {
    "ExecuteTime": {
     "end_time": "2024-01-27T15:15:05.042958Z",
     "start_time": "2024-01-27T15:15:05.040743Z"
    }
   },
   "outputs": [],
   "source": [
    "lr_lambda = lambda epoch: 1 - ((epoch - 1) // 100) / (myepoch / 100)\n",
    "scheduler_G = optim.lr_scheduler.LambdaLR(optimizer=optim_G, lr_lambda=lr_lambda)"
   ]
  },
  {
   "cell_type": "markdown",
   "id": "e0f019c0",
   "metadata": {},
   "source": [
    "# Logger for tensorboard"
   ]
  },
  {
   "cell_type": "code",
   "execution_count": 24,
   "id": "d382168e",
   "metadata": {
    "ExecuteTime": {
     "end_time": "2024-01-27T15:15:06.305142Z",
     "start_time": "2024-01-27T15:15:06.301755Z"
    }
   },
   "outputs": [],
   "source": [
    "logpath = os.path.join('model_dir_torch', 'board')\n",
    "os.makedirs(logpath, exist_ok=True)\n",
    "summary = SummaryWriter(logpath)\n",
    "disp_train = LossDisplayer([\"G_train\"])\n",
    "disp_valid = LossDisplayer([\"G_valid\"])\n",
    "disp = {'train':disp_train, 'valid':disp_valid}"
   ]
  },
  {
   "cell_type": "markdown",
   "id": "5a4f00cf",
   "metadata": {},
   "source": [
    "# training params"
   ]
  },
  {
   "cell_type": "code",
   "execution_count": 25,
   "id": "0bc208fb",
   "metadata": {
    "ExecuteTime": {
     "end_time": "2024-01-27T15:15:08.351141Z",
     "start_time": "2024-01-27T15:15:08.349019Z"
    }
   },
   "outputs": [],
   "source": [
    "step = {'train':epoch*nsteps['train'], \n",
    "        'valid':epoch*nsteps['train'], \n",
    "        'viz':  epoch*nsteps['train']}\n",
    "\n",
    "loss_best_G = {'train': float('inf'), 'valid': float('inf')}\n",
    "loss_G_train_last = float('inf')"
   ]
  },
  {
   "cell_type": "markdown",
   "id": "cd0ea745",
   "metadata": {},
   "source": [
    "# Tensorboard"
   ]
  },
  {
   "cell_type": "code",
   "execution_count": 26,
   "id": "7e664697",
   "metadata": {
    "ExecuteTime": {
     "end_time": "2024-01-27T15:15:09.975187Z",
     "start_time": "2024-01-27T15:15:09.968740Z"
    }
   },
   "outputs": [],
   "source": [
    "%load_ext tensorboard"
   ]
  },
  {
   "cell_type": "code",
   "execution_count": 27,
   "id": "669af4db",
   "metadata": {
    "ExecuteTime": {
     "end_time": "2024-01-27T15:15:14.980236Z",
     "start_time": "2024-01-27T15:15:10.914819Z"
    }
   },
   "outputs": [
    {
     "data": {
      "text/html": [
       "\n",
       "      <iframe id=\"tensorboard-frame-de211a0f352cf4ce\" width=\"100%\" height=\"800\" frameborder=\"0\">\n",
       "      </iframe>\n",
       "      <script>\n",
       "        (function() {\n",
       "          const frame = document.getElementById(\"tensorboard-frame-de211a0f352cf4ce\");\n",
       "          const url = new URL(\"/\", window.location);\n",
       "          const port = 6006;\n",
       "          if (port) {\n",
       "            url.port = port;\n",
       "          }\n",
       "          frame.src = url;\n",
       "        })();\n",
       "      </script>\n",
       "    "
      ],
      "text/plain": [
       "<IPython.core.display.HTML object>"
      ]
     },
     "metadata": {},
     "output_type": "display_data"
    }
   ],
   "source": [
    "%tensorboard --logdir=model_dir_torch/board"
   ]
  },
  {
   "cell_type": "markdown",
   "id": "44710cd7",
   "metadata": {},
   "source": [
    "# Training Loop"
   ]
  },
  {
   "cell_type": "code",
   "execution_count": 28,
   "id": "78736f10",
   "metadata": {
    "ExecuteTime": {
     "end_time": "2024-01-27T15:18:47.007898Z",
     "start_time": "2024-01-27T15:15:25.725434Z"
    },
    "scrolled": false
   },
   "outputs": [
    {
     "name": "stdout",
     "output_type": "stream",
     "text": [
      "\n",
      "Epoch 4\n",
      "hello  train\n"
     ]
    },
    {
     "name": "stderr",
     "output_type": "stream",
     "text": [
      "Processing train...  epoch 4: 100%|█████████████████████████████████████████████████████████████████████████| 1/1 [00:09<00:00,  9.07s/it]\n"
     ]
    },
    {
     "name": "stdout",
     "output_type": "stream",
     "text": [
      "hello  valid\n"
     ]
    },
    {
     "name": "stderr",
     "output_type": "stream",
     "text": [
      "Processing valid...  epoch 4: 100%|█████████████████████████████████████████████████████████████████████████| 1/1 [00:07<00:00,  7.95s/it]\n"
     ]
    },
    {
     "name": "stdout",
     "output_type": "stream",
     "text": [
      "hello<<< viz  valid\n"
     ]
    },
    {
     "name": "stderr",
     "output_type": "stream",
     "text": [
      "  0%|                                                                                                               | 0/1 [00:07<?, ?it/s]\n"
     ]
    },
    {
     "name": "stdout",
     "output_type": "stream",
     "text": [
      "best valid ckpt updated!!!  old best inf vs new best 1.2392170429229736\n",
      "trying to save,,,, model_dir_torch/ckpt/bwunet_epoch_00004_loss_1.239e+00.pth\n",
      "\n",
      "Epoch 5\n",
      "hello  train\n"
     ]
    },
    {
     "name": "stderr",
     "output_type": "stream",
     "text": [
      "Processing train...  epoch 5: 100%|█████████████████████████████████████████████████████████████████████████| 1/1 [00:08<00:00,  8.79s/it]\n"
     ]
    },
    {
     "name": "stdout",
     "output_type": "stream",
     "text": [
      "hello  valid\n"
     ]
    },
    {
     "name": "stderr",
     "output_type": "stream",
     "text": [
      "Processing valid...  epoch 5: 100%|█████████████████████████████████████████████████████████████████████████| 1/1 [00:08<00:00,  8.89s/it]\n"
     ]
    },
    {
     "name": "stdout",
     "output_type": "stream",
     "text": [
      "hello<<< viz  valid\n"
     ]
    },
    {
     "name": "stderr",
     "output_type": "stream",
     "text": [
      "  0%|                                                                                                               | 0/1 [00:07<?, ?it/s]\n"
     ]
    },
    {
     "name": "stdout",
     "output_type": "stream",
     "text": [
      "best valid ckpt updated!!!  old best 1.2392170429229736 vs new best 1.2150861024856567\n",
      "trying to save,,,, model_dir_torch/ckpt/bwunet_epoch_00005_loss_1.215e+00.pth\n",
      "trying to save,,,, model_dir_torch/ckpt/bwunet_epoch_00005_loss_1.215e+00_valid_1.pth\n",
      "\n",
      "Epoch 6\n",
      "hello  train\n"
     ]
    },
    {
     "name": "stderr",
     "output_type": "stream",
     "text": [
      "Processing train...  epoch 6: 100%|█████████████████████████████████████████████████████████████████████████| 1/1 [00:10<00:00, 10.03s/it]\n"
     ]
    },
    {
     "name": "stdout",
     "output_type": "stream",
     "text": [
      "hello  valid\n"
     ]
    },
    {
     "name": "stderr",
     "output_type": "stream",
     "text": [
      "Processing valid...  epoch 6: 100%|█████████████████████████████████████████████████████████████████████████| 1/1 [00:10<00:00, 10.83s/it]\n"
     ]
    },
    {
     "name": "stdout",
     "output_type": "stream",
     "text": [
      "hello<<< viz  valid\n"
     ]
    },
    {
     "name": "stderr",
     "output_type": "stream",
     "text": [
      "  0%|                                                                                                               | 0/1 [00:08<?, ?it/s]\n"
     ]
    },
    {
     "name": "stdout",
     "output_type": "stream",
     "text": [
      "best valid ckpt updated!!!  old best 1.2150861024856567 vs new best 1.1936683654785156\n",
      "trying to save,,,, model_dir_torch/ckpt/bwunet_epoch_00006_loss_1.194e+00.pth\n",
      "\n",
      "Epoch 7\n",
      "hello  train\n"
     ]
    },
    {
     "name": "stderr",
     "output_type": "stream",
     "text": [
      "Processing train...  epoch 7: 100%|█████████████████████████████████████████████████████████████████████████| 1/1 [00:10<00:00, 10.07s/it]\n"
     ]
    },
    {
     "name": "stdout",
     "output_type": "stream",
     "text": [
      "hello  valid\n"
     ]
    },
    {
     "name": "stderr",
     "output_type": "stream",
     "text": [
      "Processing valid...  epoch 7: 100%|█████████████████████████████████████████████████████████████████████████| 1/1 [00:10<00:00, 10.30s/it]\n"
     ]
    },
    {
     "name": "stdout",
     "output_type": "stream",
     "text": [
      "hello<<< viz  valid\n"
     ]
    },
    {
     "name": "stderr",
     "output_type": "stream",
     "text": [
      "  0%|                                                                                                               | 0/1 [00:08<?, ?it/s]\n"
     ]
    },
    {
     "name": "stdout",
     "output_type": "stream",
     "text": [
      "best valid ckpt updated!!!  old best 1.1936683654785156 vs new best 1.187247633934021\n",
      "trying to save,,,, model_dir_torch/ckpt/bwunet_epoch_00007_loss_1.187e+00.pth\n",
      "\n",
      "Epoch 8\n",
      "hello  train\n"
     ]
    },
    {
     "name": "stderr",
     "output_type": "stream",
     "text": [
      "Processing train...  epoch 8: 100%|█████████████████████████████████████████████████████████████████████████| 1/1 [00:10<00:00, 10.38s/it]\n"
     ]
    },
    {
     "name": "stdout",
     "output_type": "stream",
     "text": [
      "hello  valid\n"
     ]
    },
    {
     "name": "stderr",
     "output_type": "stream",
     "text": [
      "Processing valid...  epoch 8: 100%|█████████████████████████████████████████████████████████████████████████| 1/1 [00:11<00:00, 11.18s/it]\n"
     ]
    },
    {
     "name": "stdout",
     "output_type": "stream",
     "text": [
      "hello<<< viz  valid\n"
     ]
    },
    {
     "name": "stderr",
     "output_type": "stream",
     "text": [
      "  0%|                                                                                                               | 0/1 [00:07<?, ?it/s]\n"
     ]
    },
    {
     "name": "stdout",
     "output_type": "stream",
     "text": [
      "best valid ckpt updated!!!  old best 1.187247633934021 vs new best 1.1744130849838257\n",
      "trying to save,,,, model_dir_torch/ckpt/bwunet_epoch_00008_loss_1.174e+00.pth\n",
      "\n",
      "Epoch 9\n",
      "hello  train\n"
     ]
    },
    {
     "name": "stderr",
     "output_type": "stream",
     "text": [
      "Processing train...  epoch 9: 100%|█████████████████████████████████████████████████████████████████████████| 1/1 [00:09<00:00,  9.37s/it]\n"
     ]
    },
    {
     "name": "stdout",
     "output_type": "stream",
     "text": [
      "hello  valid\n"
     ]
    },
    {
     "name": "stderr",
     "output_type": "stream",
     "text": [
      "Processing valid...  epoch 9: 100%|█████████████████████████████████████████████████████████████████████████| 1/1 [00:09<00:00,  9.52s/it]\n"
     ]
    },
    {
     "name": "stdout",
     "output_type": "stream",
     "text": [
      "hello<<< viz  valid\n"
     ]
    },
    {
     "name": "stderr",
     "output_type": "stream",
     "text": [
      "  0%|                                                                                                               | 0/1 [00:08<?, ?it/s]\n"
     ]
    },
    {
     "name": "stdout",
     "output_type": "stream",
     "text": [
      "best valid ckpt updated!!!  old best 1.1744130849838257 vs new best 1.1685051918029785\n",
      "trying to save,,,, model_dir_torch/ckpt/bwunet_epoch_00009_loss_1.169e+00.pth\n",
      "\n",
      "Epoch 10\n",
      "hello  train\n"
     ]
    },
    {
     "name": "stderr",
     "output_type": "stream",
     "text": [
      "Processing train...  epoch 10: 100%|████████████████████████████████████████████████████████████████████████| 1/1 [00:11<00:00, 11.31s/it]\n"
     ]
    },
    {
     "name": "stdout",
     "output_type": "stream",
     "text": [
      "hello  valid\n"
     ]
    },
    {
     "name": "stderr",
     "output_type": "stream",
     "text": [
      "Processing valid...  epoch 10: 100%|████████████████████████████████████████████████████████████████████████| 1/1 [00:07<00:00,  7.61s/it]\n"
     ]
    },
    {
     "name": "stdout",
     "output_type": "stream",
     "text": [
      "hello<<< viz  valid\n"
     ]
    },
    {
     "name": "stderr",
     "output_type": "stream",
     "text": [
      "  0%|                                                                                                               | 0/1 [00:07<?, ?it/s]\n"
     ]
    },
    {
     "name": "stdout",
     "output_type": "stream",
     "text": [
      "best valid ckpt updated!!!  old best 1.1685051918029785 vs new best 1.1623055934906006\n",
      "trying to save,,,, model_dir_torch/ckpt/bwunet_epoch_00010_loss_1.162e+00.pth\n",
      "trying to save,,,, model_dir_torch/ckpt/bwunet_epoch_00010_loss_1.162e+00_valid_1.pth\n",
      "\n",
      "Epoch 11\n",
      "hello  train\n"
     ]
    },
    {
     "name": "stderr",
     "output_type": "stream",
     "text": [
      "Processing train...  epoch 11: 100%|████████████████████████████████████████████████████████████████████████| 1/1 [00:08<00:00,  8.52s/it]\n"
     ]
    },
    {
     "name": "stdout",
     "output_type": "stream",
     "text": [
      "hello  valid\n"
     ]
    },
    {
     "name": "stderr",
     "output_type": "stream",
     "text": [
      "  0%|                                                                                                               | 0/1 [00:00<?, ?it/s]Traceback (most recent call last):\n",
      "  File \"<frozen importlib._bootstrap>\", line 203, in _lock_unlock_module\n",
      "\n",
      "KeyboardInterrupt\n"
     ]
    },
    {
     "ename": "KeyboardInterrupt",
     "evalue": "",
     "output_type": "error",
     "traceback": [
      "\u001b[0;31m---------------------------------------------------------------------------\u001b[0m",
      "\u001b[0;31mKeyboardInterrupt\u001b[0m                         Traceback (most recent call last)",
      "Cell \u001b[0;32mIn[28], line 9\u001b[0m\n\u001b[1;32m      7\u001b[0m \u001b[38;5;28mprint\u001b[39m(\u001b[38;5;124m'\u001b[39m\u001b[38;5;124mhello \u001b[39m\u001b[38;5;124m'\u001b[39m, state)\n\u001b[1;32m      8\u001b[0m pbar \u001b[38;5;241m=\u001b[39m tqdm(dataloader[state])\n\u001b[0;32m----> 9\u001b[0m \u001b[38;5;28;01mfor\u001b[39;00m idx, pairs \u001b[38;5;129;01min\u001b[39;00m \u001b[38;5;28menumerate\u001b[39m(pbar):\n\u001b[1;32m     10\u001b[0m     pbar\u001b[38;5;241m.\u001b[39mset_description(\u001b[38;5;124m'\u001b[39m\u001b[38;5;124mProcessing \u001b[39m\u001b[38;5;132;01m%s\u001b[39;00m\u001b[38;5;124m...  epoch \u001b[39m\u001b[38;5;132;01m%d\u001b[39;00m\u001b[38;5;124m'\u001b[39m \u001b[38;5;241m%\u001b[39m (state, epoch))\n\u001b[1;32m     12\u001b[0m     \u001b[38;5;28;01mif\u001b[39;00m state \u001b[38;5;241m==\u001b[39m \u001b[38;5;124m'\u001b[39m\u001b[38;5;124mtrain\u001b[39m\u001b[38;5;124m'\u001b[39m \u001b[38;5;129;01mand\u001b[39;00m idx \u001b[38;5;241m==\u001b[39m \u001b[38;5;241m0\u001b[39m:\n\u001b[1;32m     13\u001b[0m         \u001b[38;5;66;03m# train mode\u001b[39;00m\n",
      "File \u001b[0;32m/opt/homebrew/Caskroom/miniforge/base/envs/ML/lib/python3.9/site-packages/tqdm/std.py:1178\u001b[0m, in \u001b[0;36mtqdm.__iter__\u001b[0;34m(self)\u001b[0m\n\u001b[1;32m   1175\u001b[0m time \u001b[38;5;241m=\u001b[39m \u001b[38;5;28mself\u001b[39m\u001b[38;5;241m.\u001b[39m_time\n\u001b[1;32m   1177\u001b[0m \u001b[38;5;28;01mtry\u001b[39;00m:\n\u001b[0;32m-> 1178\u001b[0m     \u001b[38;5;28;01mfor\u001b[39;00m obj \u001b[38;5;129;01min\u001b[39;00m iterable:\n\u001b[1;32m   1179\u001b[0m         \u001b[38;5;28;01myield\u001b[39;00m obj\n\u001b[1;32m   1180\u001b[0m         \u001b[38;5;66;03m# Update and possibly print the progressbar.\u001b[39;00m\n\u001b[1;32m   1181\u001b[0m         \u001b[38;5;66;03m# Note: does not call self.update(1) for speed optimisation.\u001b[39;00m\n",
      "File \u001b[0;32m/opt/homebrew/Caskroom/miniforge/base/envs/ML/lib/python3.9/site-packages/torch/utils/data/dataloader.py:633\u001b[0m, in \u001b[0;36m_BaseDataLoaderIter.__next__\u001b[0;34m(self)\u001b[0m\n\u001b[1;32m    630\u001b[0m \u001b[38;5;28;01mif\u001b[39;00m \u001b[38;5;28mself\u001b[39m\u001b[38;5;241m.\u001b[39m_sampler_iter \u001b[38;5;129;01mis\u001b[39;00m \u001b[38;5;28;01mNone\u001b[39;00m:\n\u001b[1;32m    631\u001b[0m     \u001b[38;5;66;03m# TODO(https://github.com/pytorch/pytorch/issues/76750)\u001b[39;00m\n\u001b[1;32m    632\u001b[0m     \u001b[38;5;28mself\u001b[39m\u001b[38;5;241m.\u001b[39m_reset()  \u001b[38;5;66;03m# type: ignore[call-arg]\u001b[39;00m\n\u001b[0;32m--> 633\u001b[0m data \u001b[38;5;241m=\u001b[39m \u001b[38;5;28;43mself\u001b[39;49m\u001b[38;5;241;43m.\u001b[39;49m\u001b[43m_next_data\u001b[49m\u001b[43m(\u001b[49m\u001b[43m)\u001b[49m\n\u001b[1;32m    634\u001b[0m \u001b[38;5;28mself\u001b[39m\u001b[38;5;241m.\u001b[39m_num_yielded \u001b[38;5;241m+\u001b[39m\u001b[38;5;241m=\u001b[39m \u001b[38;5;241m1\u001b[39m\n\u001b[1;32m    635\u001b[0m \u001b[38;5;28;01mif\u001b[39;00m \u001b[38;5;28mself\u001b[39m\u001b[38;5;241m.\u001b[39m_dataset_kind \u001b[38;5;241m==\u001b[39m _DatasetKind\u001b[38;5;241m.\u001b[39mIterable \u001b[38;5;129;01mand\u001b[39;00m \\\n\u001b[1;32m    636\u001b[0m         \u001b[38;5;28mself\u001b[39m\u001b[38;5;241m.\u001b[39m_IterableDataset_len_called \u001b[38;5;129;01mis\u001b[39;00m \u001b[38;5;129;01mnot\u001b[39;00m \u001b[38;5;28;01mNone\u001b[39;00m \u001b[38;5;129;01mand\u001b[39;00m \\\n\u001b[1;32m    637\u001b[0m         \u001b[38;5;28mself\u001b[39m\u001b[38;5;241m.\u001b[39m_num_yielded \u001b[38;5;241m>\u001b[39m \u001b[38;5;28mself\u001b[39m\u001b[38;5;241m.\u001b[39m_IterableDataset_len_called:\n",
      "File \u001b[0;32m/opt/homebrew/Caskroom/miniforge/base/envs/ML/lib/python3.9/site-packages/torch/utils/data/dataloader.py:1328\u001b[0m, in \u001b[0;36m_MultiProcessingDataLoaderIter._next_data\u001b[0;34m(self)\u001b[0m\n\u001b[1;32m   1325\u001b[0m     \u001b[38;5;28;01mreturn\u001b[39;00m \u001b[38;5;28mself\u001b[39m\u001b[38;5;241m.\u001b[39m_process_data(data)\n\u001b[1;32m   1327\u001b[0m \u001b[38;5;28;01massert\u001b[39;00m \u001b[38;5;129;01mnot\u001b[39;00m \u001b[38;5;28mself\u001b[39m\u001b[38;5;241m.\u001b[39m_shutdown \u001b[38;5;129;01mand\u001b[39;00m \u001b[38;5;28mself\u001b[39m\u001b[38;5;241m.\u001b[39m_tasks_outstanding \u001b[38;5;241m>\u001b[39m \u001b[38;5;241m0\u001b[39m\n\u001b[0;32m-> 1328\u001b[0m idx, data \u001b[38;5;241m=\u001b[39m \u001b[38;5;28;43mself\u001b[39;49m\u001b[38;5;241;43m.\u001b[39;49m\u001b[43m_get_data\u001b[49m\u001b[43m(\u001b[49m\u001b[43m)\u001b[49m\n\u001b[1;32m   1329\u001b[0m \u001b[38;5;28mself\u001b[39m\u001b[38;5;241m.\u001b[39m_tasks_outstanding \u001b[38;5;241m-\u001b[39m\u001b[38;5;241m=\u001b[39m \u001b[38;5;241m1\u001b[39m\n\u001b[1;32m   1330\u001b[0m \u001b[38;5;28;01mif\u001b[39;00m \u001b[38;5;28mself\u001b[39m\u001b[38;5;241m.\u001b[39m_dataset_kind \u001b[38;5;241m==\u001b[39m _DatasetKind\u001b[38;5;241m.\u001b[39mIterable:\n\u001b[1;32m   1331\u001b[0m     \u001b[38;5;66;03m# Check for _IterableDatasetStopIteration\u001b[39;00m\n",
      "File \u001b[0;32m/opt/homebrew/Caskroom/miniforge/base/envs/ML/lib/python3.9/site-packages/torch/utils/data/dataloader.py:1294\u001b[0m, in \u001b[0;36m_MultiProcessingDataLoaderIter._get_data\u001b[0;34m(self)\u001b[0m\n\u001b[1;32m   1290\u001b[0m     \u001b[38;5;66;03m# In this case, `self._data_queue` is a `queue.Queue`,. But we don't\u001b[39;00m\n\u001b[1;32m   1291\u001b[0m     \u001b[38;5;66;03m# need to call `.task_done()` because we don't use `.join()`.\u001b[39;00m\n\u001b[1;32m   1292\u001b[0m \u001b[38;5;28;01melse\u001b[39;00m:\n\u001b[1;32m   1293\u001b[0m     \u001b[38;5;28;01mwhile\u001b[39;00m \u001b[38;5;28;01mTrue\u001b[39;00m:\n\u001b[0;32m-> 1294\u001b[0m         success, data \u001b[38;5;241m=\u001b[39m \u001b[38;5;28;43mself\u001b[39;49m\u001b[38;5;241;43m.\u001b[39;49m\u001b[43m_try_get_data\u001b[49m\u001b[43m(\u001b[49m\u001b[43m)\u001b[49m\n\u001b[1;32m   1295\u001b[0m         \u001b[38;5;28;01mif\u001b[39;00m success:\n\u001b[1;32m   1296\u001b[0m             \u001b[38;5;28;01mreturn\u001b[39;00m data\n",
      "File \u001b[0;32m/opt/homebrew/Caskroom/miniforge/base/envs/ML/lib/python3.9/site-packages/torch/utils/data/dataloader.py:1132\u001b[0m, in \u001b[0;36m_MultiProcessingDataLoaderIter._try_get_data\u001b[0;34m(self, timeout)\u001b[0m\n\u001b[1;32m   1119\u001b[0m \u001b[38;5;28;01mdef\u001b[39;00m \u001b[38;5;21m_try_get_data\u001b[39m(\u001b[38;5;28mself\u001b[39m, timeout\u001b[38;5;241m=\u001b[39m_utils\u001b[38;5;241m.\u001b[39mMP_STATUS_CHECK_INTERVAL):\n\u001b[1;32m   1120\u001b[0m     \u001b[38;5;66;03m# Tries to fetch data from `self._data_queue` once for a given timeout.\u001b[39;00m\n\u001b[1;32m   1121\u001b[0m     \u001b[38;5;66;03m# This can also be used as inner loop of fetching without timeout, with\u001b[39;00m\n\u001b[0;32m   (...)\u001b[0m\n\u001b[1;32m   1129\u001b[0m     \u001b[38;5;66;03m# Returns a 2-tuple:\u001b[39;00m\n\u001b[1;32m   1130\u001b[0m     \u001b[38;5;66;03m#   (bool: whether successfully get data, any: data if successful else None)\u001b[39;00m\n\u001b[1;32m   1131\u001b[0m     \u001b[38;5;28;01mtry\u001b[39;00m:\n\u001b[0;32m-> 1132\u001b[0m         data \u001b[38;5;241m=\u001b[39m \u001b[38;5;28;43mself\u001b[39;49m\u001b[38;5;241;43m.\u001b[39;49m\u001b[43m_data_queue\u001b[49m\u001b[38;5;241;43m.\u001b[39;49m\u001b[43mget\u001b[49m\u001b[43m(\u001b[49m\u001b[43mtimeout\u001b[49m\u001b[38;5;241;43m=\u001b[39;49m\u001b[43mtimeout\u001b[49m\u001b[43m)\u001b[49m\n\u001b[1;32m   1133\u001b[0m         \u001b[38;5;28;01mreturn\u001b[39;00m (\u001b[38;5;28;01mTrue\u001b[39;00m, data)\n\u001b[1;32m   1134\u001b[0m     \u001b[38;5;28;01mexcept\u001b[39;00m \u001b[38;5;167;01mException\u001b[39;00m \u001b[38;5;28;01mas\u001b[39;00m e:\n\u001b[1;32m   1135\u001b[0m         \u001b[38;5;66;03m# At timeout and error, we manually check whether any worker has\u001b[39;00m\n\u001b[1;32m   1136\u001b[0m         \u001b[38;5;66;03m# failed. Note that this is the only mechanism for Windows to detect\u001b[39;00m\n\u001b[1;32m   1137\u001b[0m         \u001b[38;5;66;03m# worker failures.\u001b[39;00m\n",
      "File \u001b[0;32m/opt/homebrew/Caskroom/miniforge/base/envs/ML/lib/python3.9/multiprocessing/queues.py:113\u001b[0m, in \u001b[0;36mQueue.get\u001b[0;34m(self, block, timeout)\u001b[0m\n\u001b[1;32m    111\u001b[0m \u001b[38;5;28;01mif\u001b[39;00m block:\n\u001b[1;32m    112\u001b[0m     timeout \u001b[38;5;241m=\u001b[39m deadline \u001b[38;5;241m-\u001b[39m time\u001b[38;5;241m.\u001b[39mmonotonic()\n\u001b[0;32m--> 113\u001b[0m     \u001b[38;5;28;01mif\u001b[39;00m \u001b[38;5;129;01mnot\u001b[39;00m \u001b[38;5;28;43mself\u001b[39;49m\u001b[38;5;241;43m.\u001b[39;49m\u001b[43m_poll\u001b[49m\u001b[43m(\u001b[49m\u001b[43mtimeout\u001b[49m\u001b[43m)\u001b[49m:\n\u001b[1;32m    114\u001b[0m         \u001b[38;5;28;01mraise\u001b[39;00m Empty\n\u001b[1;32m    115\u001b[0m \u001b[38;5;28;01melif\u001b[39;00m \u001b[38;5;129;01mnot\u001b[39;00m \u001b[38;5;28mself\u001b[39m\u001b[38;5;241m.\u001b[39m_poll():\n",
      "File \u001b[0;32m/opt/homebrew/Caskroom/miniforge/base/envs/ML/lib/python3.9/multiprocessing/connection.py:257\u001b[0m, in \u001b[0;36m_ConnectionBase.poll\u001b[0;34m(self, timeout)\u001b[0m\n\u001b[1;32m    255\u001b[0m \u001b[38;5;28mself\u001b[39m\u001b[38;5;241m.\u001b[39m_check_closed()\n\u001b[1;32m    256\u001b[0m \u001b[38;5;28mself\u001b[39m\u001b[38;5;241m.\u001b[39m_check_readable()\n\u001b[0;32m--> 257\u001b[0m \u001b[38;5;28;01mreturn\u001b[39;00m \u001b[38;5;28;43mself\u001b[39;49m\u001b[38;5;241;43m.\u001b[39;49m\u001b[43m_poll\u001b[49m\u001b[43m(\u001b[49m\u001b[43mtimeout\u001b[49m\u001b[43m)\u001b[49m\n",
      "File \u001b[0;32m/opt/homebrew/Caskroom/miniforge/base/envs/ML/lib/python3.9/multiprocessing/connection.py:424\u001b[0m, in \u001b[0;36mConnection._poll\u001b[0;34m(self, timeout)\u001b[0m\n\u001b[1;32m    423\u001b[0m \u001b[38;5;28;01mdef\u001b[39;00m \u001b[38;5;21m_poll\u001b[39m(\u001b[38;5;28mself\u001b[39m, timeout):\n\u001b[0;32m--> 424\u001b[0m     r \u001b[38;5;241m=\u001b[39m \u001b[43mwait\u001b[49m\u001b[43m(\u001b[49m\u001b[43m[\u001b[49m\u001b[38;5;28;43mself\u001b[39;49m\u001b[43m]\u001b[49m\u001b[43m,\u001b[49m\u001b[43m \u001b[49m\u001b[43mtimeout\u001b[49m\u001b[43m)\u001b[49m\n\u001b[1;32m    425\u001b[0m     \u001b[38;5;28;01mreturn\u001b[39;00m \u001b[38;5;28mbool\u001b[39m(r)\n",
      "File \u001b[0;32m/opt/homebrew/Caskroom/miniforge/base/envs/ML/lib/python3.9/multiprocessing/connection.py:931\u001b[0m, in \u001b[0;36mwait\u001b[0;34m(object_list, timeout)\u001b[0m\n\u001b[1;32m    928\u001b[0m     deadline \u001b[38;5;241m=\u001b[39m time\u001b[38;5;241m.\u001b[39mmonotonic() \u001b[38;5;241m+\u001b[39m timeout\n\u001b[1;32m    930\u001b[0m \u001b[38;5;28;01mwhile\u001b[39;00m \u001b[38;5;28;01mTrue\u001b[39;00m:\n\u001b[0;32m--> 931\u001b[0m     ready \u001b[38;5;241m=\u001b[39m \u001b[43mselector\u001b[49m\u001b[38;5;241;43m.\u001b[39;49m\u001b[43mselect\u001b[49m\u001b[43m(\u001b[49m\u001b[43mtimeout\u001b[49m\u001b[43m)\u001b[49m\n\u001b[1;32m    932\u001b[0m     \u001b[38;5;28;01mif\u001b[39;00m ready:\n\u001b[1;32m    933\u001b[0m         \u001b[38;5;28;01mreturn\u001b[39;00m [key\u001b[38;5;241m.\u001b[39mfileobj \u001b[38;5;28;01mfor\u001b[39;00m (key, events) \u001b[38;5;129;01min\u001b[39;00m ready]\n",
      "File \u001b[0;32m/opt/homebrew/Caskroom/miniforge/base/envs/ML/lib/python3.9/selectors.py:416\u001b[0m, in \u001b[0;36m_PollLikeSelector.select\u001b[0;34m(self, timeout)\u001b[0m\n\u001b[1;32m    414\u001b[0m ready \u001b[38;5;241m=\u001b[39m []\n\u001b[1;32m    415\u001b[0m \u001b[38;5;28;01mtry\u001b[39;00m:\n\u001b[0;32m--> 416\u001b[0m     fd_event_list \u001b[38;5;241m=\u001b[39m \u001b[38;5;28;43mself\u001b[39;49m\u001b[38;5;241;43m.\u001b[39;49m\u001b[43m_selector\u001b[49m\u001b[38;5;241;43m.\u001b[39;49m\u001b[43mpoll\u001b[49m\u001b[43m(\u001b[49m\u001b[43mtimeout\u001b[49m\u001b[43m)\u001b[49m\n\u001b[1;32m    417\u001b[0m \u001b[38;5;28;01mexcept\u001b[39;00m \u001b[38;5;167;01mInterruptedError\u001b[39;00m:\n\u001b[1;32m    418\u001b[0m     \u001b[38;5;28;01mreturn\u001b[39;00m ready\n",
      "\u001b[0;31mKeyboardInterrupt\u001b[0m: "
     ]
    }
   ],
   "source": [
    "while epoch < myepoch:\n",
    "    epoch += 1\n",
    "    print(f\"\\nEpoch {epoch}\")\n",
    "\n",
    "    loss_G_total = {'train': 0, 'valid': 0}\n",
    "    for state in ['train', 'valid']:\n",
    "        print('hello ', state)\n",
    "        pbar = tqdm(dataloader[state])\n",
    "        for idx, pairs in enumerate(pbar):\n",
    "            pbar.set_description('Processing %s...  epoch %d' % (state, epoch))\n",
    "\n",
    "            if state == 'train' and idx == 0:\n",
    "                # train mode\n",
    "                model.train()\n",
    "            elif state == 'valid' and idx == 0:\n",
    "                # eval mode\n",
    "                model.eval()\n",
    "\n",
    "\n",
    "            # get data\n",
    "            item_in, item_gt = pairs\n",
    "\n",
    "            if device == 'mps':\n",
    "                item_in = item_in.type(torch.float32)\n",
    "                item_gt = item_gt.type(torch.float32)\n",
    "\n",
    "            # data to device\n",
    "            item_in = item_in.to(device)\n",
    "            item_gt = item_gt.to(device)\n",
    "\n",
    "\n",
    "\n",
    "            # -----------------\n",
    "            # Forward\n",
    "            # -----------------\n",
    "            item_out = model(item_in)\n",
    "\n",
    "            # -----------------\n",
    "            # Train Generator\n",
    "            # -----------------\n",
    "            loss_mse = criterion(item_out, item_gt)\n",
    "\n",
    "            # combine loss and calculate gradients\n",
    "            loss_G = 0\n",
    "            loss_G += loss_mse\n",
    "            loss_G_train_last = loss_G  # for save\n",
    "\n",
    "            step[state] += 1\n",
    "            if state == 'train':\n",
    "                # train mode\n",
    "                optim_G.zero_grad()\n",
    "                loss_G.backward()\n",
    "                optim_G.step()\n",
    "            else:\n",
    "                if idx == 0:\n",
    "                    step['valid'] = step['train']\n",
    "\n",
    "            ## accumulate generator loss in validataion to save best ckpt\n",
    "            loss_G_total[state] += loss_G\n",
    "\n",
    "            # -----------------\n",
    "            # record loss for tensorboard\n",
    "            # -----------------\n",
    "            disp[state].record([loss_G])\n",
    "            if step[state] % 100 == 0 and idx>1:\n",
    "                avg_losses = disp[state].get_avg_losses()\n",
    "                summary.add_scalar(f\"loss_G_{state}\", avg_losses[0], step[state])\n",
    "\n",
    "                print(\n",
    "                    f'{state} : epoch{epoch}, step{step[state]}------------------------------------------------------')\n",
    "                print('loss_G: %.3f, ' % avg_losses[0], end='')\n",
    "                disp[state].reset()\n",
    "\n",
    "\n",
    "    else:\n",
    "        print('hello<<< viz ', state)\n",
    "\n",
    "        viz_images = give_me_visualization(model, dataloader['viz'], device )\n",
    "\n",
    "        summary.add_image('generated pairs', viz_images, step['viz'] )\n",
    "\n",
    "\n",
    "        ## save ckeck point if improved\n",
    "        loss_G_average = loss_G_total[state] / nsteps[state]\n",
    "        if loss_best_G[state] > loss_G_average:\n",
    "            print(f'best {state} ckpt updated!!!  old best {loss_best_G[state]} vs new best {loss_G_average}')\n",
    "            loss_best_G[state] = loss_G_average\n",
    "            summary.add_scalar(f\"loss_best_G{state}\", loss_best_G[state], step[state])\n",
    "\n",
    "            ckpt_path_name_best = os.path.join(checkpoint_path)\n",
    "\n",
    "            save_model(model, ckpt_path_name_best, epoch, loss_best_G[state])\n",
    "            \n",
    "            \n",
    "\n",
    "    ## Step scheduler\n",
    "    scheduler_G.step()\n",
    "\n",
    "    # Save checkpoint for every 5 epoch\n",
    "    if epoch % 5 == 0:\n",
    "        save_model(model, checkpoint_path, epoch, loss_G_train_last)"
   ]
  },
  {
   "cell_type": "code",
   "execution_count": null,
   "id": "84bb6310",
   "metadata": {},
   "outputs": [],
   "source": []
  },
  {
   "cell_type": "code",
   "execution_count": null,
   "id": "7d3a990d",
   "metadata": {},
   "outputs": [],
   "source": []
  },
  {
   "cell_type": "code",
   "execution_count": null,
   "id": "5c65db95",
   "metadata": {},
   "outputs": [],
   "source": []
  },
  {
   "cell_type": "code",
   "execution_count": null,
   "id": "3b85dbbe",
   "metadata": {},
   "outputs": [],
   "source": []
  },
  {
   "cell_type": "code",
   "execution_count": null,
   "id": "9dfcfd6b",
   "metadata": {},
   "outputs": [],
   "source": []
  },
  {
   "cell_type": "code",
   "execution_count": null,
   "id": "e88ed3a3",
   "metadata": {},
   "outputs": [],
   "source": []
  },
  {
   "cell_type": "code",
   "execution_count": null,
   "id": "a5caba8f",
   "metadata": {},
   "outputs": [],
   "source": []
  },
  {
   "cell_type": "code",
   "execution_count": null,
   "id": "5f38bdd0",
   "metadata": {},
   "outputs": [],
   "source": []
  },
  {
   "cell_type": "code",
   "execution_count": null,
   "id": "2b6eb963",
   "metadata": {},
   "outputs": [],
   "source": []
  },
  {
   "cell_type": "code",
   "execution_count": null,
   "id": "f2d4cd29",
   "metadata": {},
   "outputs": [],
   "source": []
  }
 ],
 "metadata": {
  "kernelspec": {
   "display_name": "Python 3 (ipykernel)",
   "language": "python",
   "name": "python3"
  },
  "language_info": {
   "codemirror_mode": {
    "name": "ipython",
    "version": 3
   },
   "file_extension": ".py",
   "mimetype": "text/x-python",
   "name": "python",
   "nbconvert_exporter": "python",
   "pygments_lexer": "ipython3",
   "version": "3.9.16"
  },
  "varInspector": {
   "cols": {
    "lenName": 16,
    "lenType": 16,
    "lenVar": 40
   },
   "kernels_config": {
    "python": {
     "delete_cmd_postfix": "",
     "delete_cmd_prefix": "del ",
     "library": "var_list.py",
     "varRefreshCmd": "print(var_dic_list())"
    },
    "r": {
     "delete_cmd_postfix": ") ",
     "delete_cmd_prefix": "rm(",
     "library": "var_list.r",
     "varRefreshCmd": "cat(var_dic_list()) "
    }
   },
   "types_to_exclude": [
    "module",
    "function",
    "builtin_function_or_method",
    "instance",
    "_Feature"
   ],
   "window_display": false
  }
 },
 "nbformat": 4,
 "nbformat_minor": 5
}
