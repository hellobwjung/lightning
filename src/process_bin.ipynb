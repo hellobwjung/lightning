{
 "cells": [
  {
   "cell_type": "code",
   "execution_count": 1,
   "id": "9adc0a55",
   "metadata": {
    "ExecuteTime": {
     "end_time": "2024-02-10T16:57:29.599953Z",
     "start_time": "2024-02-10T16:57:29.596993Z"
    }
   },
   "outputs": [],
   "source": [
    "import os, glob\n",
    "import numpy as np"
   ]
  },
  {
   "cell_type": "code",
   "execution_count": 2,
   "id": "3e03bca9",
   "metadata": {
    "ExecuteTime": {
     "end_time": "2024-02-10T16:57:30.278427Z",
     "start_time": "2024-02-10T16:57:30.269759Z"
    }
   },
   "outputs": [
    {
     "data": {
      "text/plain": [
       "'/Users/bw/Code/lightning/src'"
      ]
     },
     "execution_count": 2,
     "metadata": {},
     "output_type": "execute_result"
    }
   ],
   "source": [
    "cwd = os.getcwd()\n",
    "cwd"
   ]
  },
  {
   "cell_type": "code",
   "execution_count": 3,
   "id": "6d5f2f44",
   "metadata": {
    "ExecuteTime": {
     "end_time": "2024-02-10T16:57:31.465663Z",
     "start_time": "2024-02-10T16:57:31.461950Z"
    }
   },
   "outputs": [
    {
     "name": "stdout",
     "output_type": "stream",
     "text": [
      "/Users/bw/Dataset/MIPI_demosaic_hybridevs/val/input\n"
     ]
    }
   ],
   "source": [
    "val_path = '/Users/bw/Dataset/MIPI_demosaic_hybridevs/val/input'\n",
    "print(val_path)"
   ]
  },
  {
   "cell_type": "code",
   "execution_count": 4,
   "id": "a7d694ab",
   "metadata": {
    "ExecuteTime": {
     "end_time": "2024-02-10T16:57:32.414133Z",
     "start_time": "2024-02-10T16:57:32.406302Z"
    }
   },
   "outputs": [
    {
     "name": "stdout",
     "output_type": "stream",
     "text": [
      "/Users/bw/Dataset/MIPI_demosaic_hybridevs/val/input/*.bin\n"
     ]
    },
    {
     "data": {
      "text/plain": [
       "['/Users/bw/Dataset/MIPI_demosaic_hybridevs/val/input/0801.bin',\n",
       " '/Users/bw/Dataset/MIPI_demosaic_hybridevs/val/input/0802.bin',\n",
       " '/Users/bw/Dataset/MIPI_demosaic_hybridevs/val/input/0803.bin',\n",
       " '/Users/bw/Dataset/MIPI_demosaic_hybridevs/val/input/0804.bin',\n",
       " '/Users/bw/Dataset/MIPI_demosaic_hybridevs/val/input/0805.bin',\n",
       " '/Users/bw/Dataset/MIPI_demosaic_hybridevs/val/input/0806.bin',\n",
       " '/Users/bw/Dataset/MIPI_demosaic_hybridevs/val/input/0807.bin',\n",
       " '/Users/bw/Dataset/MIPI_demosaic_hybridevs/val/input/0808.bin',\n",
       " '/Users/bw/Dataset/MIPI_demosaic_hybridevs/val/input/0809.bin',\n",
       " '/Users/bw/Dataset/MIPI_demosaic_hybridevs/val/input/0810.bin',\n",
       " '/Users/bw/Dataset/MIPI_demosaic_hybridevs/val/input/0811.bin',\n",
       " '/Users/bw/Dataset/MIPI_demosaic_hybridevs/val/input/0812.bin',\n",
       " '/Users/bw/Dataset/MIPI_demosaic_hybridevs/val/input/0813.bin',\n",
       " '/Users/bw/Dataset/MIPI_demosaic_hybridevs/val/input/0814.bin',\n",
       " '/Users/bw/Dataset/MIPI_demosaic_hybridevs/val/input/0815.bin',\n",
       " '/Users/bw/Dataset/MIPI_demosaic_hybridevs/val/input/0816.bin',\n",
       " '/Users/bw/Dataset/MIPI_demosaic_hybridevs/val/input/0817.bin',\n",
       " '/Users/bw/Dataset/MIPI_demosaic_hybridevs/val/input/0818.bin',\n",
       " '/Users/bw/Dataset/MIPI_demosaic_hybridevs/val/input/0819.bin',\n",
       " '/Users/bw/Dataset/MIPI_demosaic_hybridevs/val/input/0820.bin',\n",
       " '/Users/bw/Dataset/MIPI_demosaic_hybridevs/val/input/0821.bin',\n",
       " '/Users/bw/Dataset/MIPI_demosaic_hybridevs/val/input/0822.bin',\n",
       " '/Users/bw/Dataset/MIPI_demosaic_hybridevs/val/input/0823.bin',\n",
       " '/Users/bw/Dataset/MIPI_demosaic_hybridevs/val/input/0824.bin',\n",
       " '/Users/bw/Dataset/MIPI_demosaic_hybridevs/val/input/0825.bin',\n",
       " '/Users/bw/Dataset/MIPI_demosaic_hybridevs/val/input/0826.bin',\n",
       " '/Users/bw/Dataset/MIPI_demosaic_hybridevs/val/input/0827.bin',\n",
       " '/Users/bw/Dataset/MIPI_demosaic_hybridevs/val/input/0828.bin',\n",
       " '/Users/bw/Dataset/MIPI_demosaic_hybridevs/val/input/0829.bin',\n",
       " '/Users/bw/Dataset/MIPI_demosaic_hybridevs/val/input/0830.bin',\n",
       " '/Users/bw/Dataset/MIPI_demosaic_hybridevs/val/input/0831.bin',\n",
       " '/Users/bw/Dataset/MIPI_demosaic_hybridevs/val/input/0832.bin',\n",
       " '/Users/bw/Dataset/MIPI_demosaic_hybridevs/val/input/0833.bin',\n",
       " '/Users/bw/Dataset/MIPI_demosaic_hybridevs/val/input/0834.bin',\n",
       " '/Users/bw/Dataset/MIPI_demosaic_hybridevs/val/input/0835.bin',\n",
       " '/Users/bw/Dataset/MIPI_demosaic_hybridevs/val/input/0836.bin',\n",
       " '/Users/bw/Dataset/MIPI_demosaic_hybridevs/val/input/0837.bin',\n",
       " '/Users/bw/Dataset/MIPI_demosaic_hybridevs/val/input/0838.bin',\n",
       " '/Users/bw/Dataset/MIPI_demosaic_hybridevs/val/input/0839.bin',\n",
       " '/Users/bw/Dataset/MIPI_demosaic_hybridevs/val/input/0840.bin',\n",
       " '/Users/bw/Dataset/MIPI_demosaic_hybridevs/val/input/0841.bin',\n",
       " '/Users/bw/Dataset/MIPI_demosaic_hybridevs/val/input/0842.bin',\n",
       " '/Users/bw/Dataset/MIPI_demosaic_hybridevs/val/input/0843.bin',\n",
       " '/Users/bw/Dataset/MIPI_demosaic_hybridevs/val/input/0844.bin',\n",
       " '/Users/bw/Dataset/MIPI_demosaic_hybridevs/val/input/0845.bin',\n",
       " '/Users/bw/Dataset/MIPI_demosaic_hybridevs/val/input/0846.bin',\n",
       " '/Users/bw/Dataset/MIPI_demosaic_hybridevs/val/input/0847.bin',\n",
       " '/Users/bw/Dataset/MIPI_demosaic_hybridevs/val/input/0848.bin',\n",
       " '/Users/bw/Dataset/MIPI_demosaic_hybridevs/val/input/0849.bin',\n",
       " '/Users/bw/Dataset/MIPI_demosaic_hybridevs/val/input/0850.bin']"
      ]
     },
     "execution_count": 4,
     "metadata": {},
     "output_type": "execute_result"
    }
   ],
   "source": [
    "path = os.path.join(val_path, '*.bin' )\n",
    "print(path)\n",
    "valfiles = glob.glob(path, recursive=True)\n",
    "valfiles.sort()\n",
    "valfiles"
   ]
  },
  {
   "cell_type": "code",
   "execution_count": 5,
   "id": "fbafaea2",
   "metadata": {
    "ExecuteTime": {
     "end_time": "2024-02-10T16:57:35.160276Z",
     "start_time": "2024-02-10T16:57:35.152788Z"
    }
   },
   "outputs": [],
   "source": [
    "def read_bin(img_path):\n",
    "    \"\"\"\n",
    "    Read bin data\n",
    "    \"\"\"\n",
    "    img_data = np.fromfile(img_path, dtype=np.uint16)\n",
    "    w = int(img_data[0])\n",
    "    h = int(img_data[1])\n",
    "    assert w * h == img_data.size - 2\n",
    "    quad = np.clip(img_data[2:].reshape([h, w]).astype(np.float32), 0, 1023)\n",
    "    return quad"
   ]
  },
  {
   "cell_type": "code",
   "execution_count": 8,
   "id": "a918e7db",
   "metadata": {
    "ExecuteTime": {
     "end_time": "2024-02-10T16:58:42.171646Z",
     "start_time": "2024-02-10T16:58:41.368685Z"
    }
   },
   "outputs": [
    {
     "name": "stdout",
     "output_type": "stream",
     "text": [
      "/Users/bw/Dataset/MIPI_demosaic_hybridevs/val/input/0801.npy\n",
      "/Users/bw/Dataset/MIPI_demosaic_hybridevs/val/input/0802.npy\n",
      "/Users/bw/Dataset/MIPI_demosaic_hybridevs/val/input/0803.npy\n",
      "/Users/bw/Dataset/MIPI_demosaic_hybridevs/val/input/0804.npy\n",
      "/Users/bw/Dataset/MIPI_demosaic_hybridevs/val/input/0805.npy\n",
      "/Users/bw/Dataset/MIPI_demosaic_hybridevs/val/input/0806.npy\n",
      "/Users/bw/Dataset/MIPI_demosaic_hybridevs/val/input/0807.npy\n",
      "/Users/bw/Dataset/MIPI_demosaic_hybridevs/val/input/0808.npy\n",
      "/Users/bw/Dataset/MIPI_demosaic_hybridevs/val/input/0809.npy\n",
      "/Users/bw/Dataset/MIPI_demosaic_hybridevs/val/input/0810.npy\n",
      "/Users/bw/Dataset/MIPI_demosaic_hybridevs/val/input/0811.npy\n",
      "/Users/bw/Dataset/MIPI_demosaic_hybridevs/val/input/0812.npy\n",
      "/Users/bw/Dataset/MIPI_demosaic_hybridevs/val/input/0813.npy\n",
      "/Users/bw/Dataset/MIPI_demosaic_hybridevs/val/input/0814.npy\n",
      "/Users/bw/Dataset/MIPI_demosaic_hybridevs/val/input/0815.npy\n",
      "/Users/bw/Dataset/MIPI_demosaic_hybridevs/val/input/0816.npy\n",
      "/Users/bw/Dataset/MIPI_demosaic_hybridevs/val/input/0817.npy\n",
      "/Users/bw/Dataset/MIPI_demosaic_hybridevs/val/input/0818.npy\n",
      "/Users/bw/Dataset/MIPI_demosaic_hybridevs/val/input/0819.npy\n",
      "/Users/bw/Dataset/MIPI_demosaic_hybridevs/val/input/0820.npy\n",
      "/Users/bw/Dataset/MIPI_demosaic_hybridevs/val/input/0821.npy\n",
      "/Users/bw/Dataset/MIPI_demosaic_hybridevs/val/input/0822.npy\n",
      "/Users/bw/Dataset/MIPI_demosaic_hybridevs/val/input/0823.npy\n",
      "/Users/bw/Dataset/MIPI_demosaic_hybridevs/val/input/0824.npy\n",
      "/Users/bw/Dataset/MIPI_demosaic_hybridevs/val/input/0825.npy\n",
      "/Users/bw/Dataset/MIPI_demosaic_hybridevs/val/input/0826.npy\n",
      "/Users/bw/Dataset/MIPI_demosaic_hybridevs/val/input/0827.npy\n",
      "/Users/bw/Dataset/MIPI_demosaic_hybridevs/val/input/0828.npy\n",
      "/Users/bw/Dataset/MIPI_demosaic_hybridevs/val/input/0829.npy\n",
      "/Users/bw/Dataset/MIPI_demosaic_hybridevs/val/input/0830.npy\n",
      "/Users/bw/Dataset/MIPI_demosaic_hybridevs/val/input/0831.npy\n",
      "/Users/bw/Dataset/MIPI_demosaic_hybridevs/val/input/0832.npy\n",
      "/Users/bw/Dataset/MIPI_demosaic_hybridevs/val/input/0833.npy\n",
      "/Users/bw/Dataset/MIPI_demosaic_hybridevs/val/input/0834.npy\n",
      "/Users/bw/Dataset/MIPI_demosaic_hybridevs/val/input/0835.npy\n",
      "/Users/bw/Dataset/MIPI_demosaic_hybridevs/val/input/0836.npy\n",
      "/Users/bw/Dataset/MIPI_demosaic_hybridevs/val/input/0837.npy\n",
      "/Users/bw/Dataset/MIPI_demosaic_hybridevs/val/input/0838.npy\n",
      "/Users/bw/Dataset/MIPI_demosaic_hybridevs/val/input/0839.npy\n",
      "/Users/bw/Dataset/MIPI_demosaic_hybridevs/val/input/0840.npy\n",
      "/Users/bw/Dataset/MIPI_demosaic_hybridevs/val/input/0841.npy\n",
      "/Users/bw/Dataset/MIPI_demosaic_hybridevs/val/input/0842.npy\n",
      "/Users/bw/Dataset/MIPI_demosaic_hybridevs/val/input/0843.npy\n",
      "/Users/bw/Dataset/MIPI_demosaic_hybridevs/val/input/0844.npy\n",
      "/Users/bw/Dataset/MIPI_demosaic_hybridevs/val/input/0845.npy\n",
      "/Users/bw/Dataset/MIPI_demosaic_hybridevs/val/input/0846.npy\n",
      "/Users/bw/Dataset/MIPI_demosaic_hybridevs/val/input/0847.npy\n",
      "/Users/bw/Dataset/MIPI_demosaic_hybridevs/val/input/0848.npy\n",
      "/Users/bw/Dataset/MIPI_demosaic_hybridevs/val/input/0849.npy\n",
      "/Users/bw/Dataset/MIPI_demosaic_hybridevs/val/input/0850.npy\n"
     ]
    }
   ],
   "source": [
    "for idx, file in enumerate(valfiles):\n",
    "    \n",
    "\n",
    "    \n",
    "    input_quad = read_bin(file)\n",
    "\n",
    "    \n",
    "    \n",
    "    \n",
    "    fname_npy = file[:-4] + '.npy'\n",
    "    print(fname_npy)\n",
    "    np.save(fname_npy, input_quad)\n",
    "    \n",
    "#     break"
   ]
  },
  {
   "cell_type": "markdown",
   "id": "3c873458",
   "metadata": {},
   "source": [
    "# Cure BP's"
   ]
  },
  {
   "cell_type": "code",
   "execution_count": 9,
   "id": "77fd2332",
   "metadata": {
    "ExecuteTime": {
     "end_time": "2024-02-10T17:03:05.887678Z",
     "start_time": "2024-02-10T17:03:05.880430Z"
    }
   },
   "outputs": [],
   "source": [
    "def cure_static_bp(arr_patch):\n",
    "    ## Red\n",
    "    for yy in range(1, arr_patch.shape[0], 4):\n",
    "        for xx in range(1, arr_patch.shape[1], 4):\n",
    "            arr_patch[yy][xx] = ((arr_patch[yy - 1][xx] + arr_patch[yy][xx - 1]) / 2)\n",
    "\n",
    "    ## Blue\n",
    "    for yy in range(3, arr_patch.shape[0], 4):\n",
    "        for xx in range(3, arr_patch.shape[1], 4):\n",
    "            arr_patch[yy][xx] = ((arr_patch[yy - 1][xx] + arr_patch[yy][xx - 1]) / 2)\n",
    "    return arr_patch\n",
    "\n",
    "\n"
   ]
  },
  {
   "cell_type": "code",
   "execution_count": 10,
   "id": "a9d070e4",
   "metadata": {
    "ExecuteTime": {
     "end_time": "2024-02-10T17:07:07.517622Z",
     "start_time": "2024-02-10T17:07:07.507607Z"
    }
   },
   "outputs": [],
   "source": [
    "\n",
    "def cure_dynamic_bp(arr_patch, nbp=4):\n",
    "    #        Quad                idx_R\n",
    "    #\n",
    "    #   R R G G R R G G  |  O O X X O O X X\n",
    "    #   R R G G R R G G  |  O O X X O O X X\n",
    "    #   G G B B G G B B  |  X X O O X X O O\n",
    "    #   G G B B G G B B  |  X X O O X X O O\n",
    "    #   R R G G R R G G  |  O O X X O O X X\n",
    "    #   R R G G R R G G  |  O O X X O O X X\n",
    "    #   G G B B G G B B  |  X X O O X X O O\n",
    "    #   G G B B G G B B  |  X X O O X X O O\n",
    "\n",
    "\n",
    "    # print('-->', idx_R>0)\n",
    "    for yy in range(0, arr_patch.shape[0]-8, 2):\n",
    "        for xx in range(0, arr_patch.shape[1]-8, 2):\n",
    "            sy = yy\n",
    "            ey = sy+8\n",
    "            sx = xx\n",
    "            ex = sx+8\n",
    "            patch = arr_patch[sy:ey, sx:ex]\n",
    "\n",
    "            \n",
    "            for _ in range(nbp):\n",
    "                red = patch[idx_R > 0]\n",
    "                red.sort()\n",
    "                median = int(np.median(red))\n",
    "                if np.abs(red[-1] - red[-2]) > (64/1023):\n",
    "                    patch[(patch == red[-1]) & (idx_R > 0)] = median\n",
    "\n",
    "            arr_patch[sy:ey, sx:ex] = patch\n",
    "\n",
    "    return arr_patch"
   ]
  },
  {
   "cell_type": "code",
   "execution_count": 12,
   "id": "0410c860",
   "metadata": {
    "ExecuteTime": {
     "end_time": "2024-02-10T17:11:21.575507Z",
     "start_time": "2024-02-10T17:11:21.567696Z"
    }
   },
   "outputs": [
    {
     "name": "stdout",
     "output_type": "stream",
     "text": [
      "/Users/bw/Dataset/MIPI_demosaic_hybridevs/val/input/*.npy\n"
     ]
    },
    {
     "data": {
      "text/plain": [
       "['/Users/bw/Dataset/MIPI_demosaic_hybridevs/val/input/0801.npy',\n",
       " '/Users/bw/Dataset/MIPI_demosaic_hybridevs/val/input/0802.npy',\n",
       " '/Users/bw/Dataset/MIPI_demosaic_hybridevs/val/input/0803.npy',\n",
       " '/Users/bw/Dataset/MIPI_demosaic_hybridevs/val/input/0804.npy',\n",
       " '/Users/bw/Dataset/MIPI_demosaic_hybridevs/val/input/0805.npy',\n",
       " '/Users/bw/Dataset/MIPI_demosaic_hybridevs/val/input/0806.npy',\n",
       " '/Users/bw/Dataset/MIPI_demosaic_hybridevs/val/input/0807.npy',\n",
       " '/Users/bw/Dataset/MIPI_demosaic_hybridevs/val/input/0808.npy',\n",
       " '/Users/bw/Dataset/MIPI_demosaic_hybridevs/val/input/0809.npy',\n",
       " '/Users/bw/Dataset/MIPI_demosaic_hybridevs/val/input/0810.npy',\n",
       " '/Users/bw/Dataset/MIPI_demosaic_hybridevs/val/input/0811.npy',\n",
       " '/Users/bw/Dataset/MIPI_demosaic_hybridevs/val/input/0812.npy',\n",
       " '/Users/bw/Dataset/MIPI_demosaic_hybridevs/val/input/0813.npy',\n",
       " '/Users/bw/Dataset/MIPI_demosaic_hybridevs/val/input/0814.npy',\n",
       " '/Users/bw/Dataset/MIPI_demosaic_hybridevs/val/input/0815.npy',\n",
       " '/Users/bw/Dataset/MIPI_demosaic_hybridevs/val/input/0816.npy',\n",
       " '/Users/bw/Dataset/MIPI_demosaic_hybridevs/val/input/0817.npy',\n",
       " '/Users/bw/Dataset/MIPI_demosaic_hybridevs/val/input/0818.npy',\n",
       " '/Users/bw/Dataset/MIPI_demosaic_hybridevs/val/input/0819.npy',\n",
       " '/Users/bw/Dataset/MIPI_demosaic_hybridevs/val/input/0820.npy',\n",
       " '/Users/bw/Dataset/MIPI_demosaic_hybridevs/val/input/0821.npy',\n",
       " '/Users/bw/Dataset/MIPI_demosaic_hybridevs/val/input/0822.npy',\n",
       " '/Users/bw/Dataset/MIPI_demosaic_hybridevs/val/input/0823.npy',\n",
       " '/Users/bw/Dataset/MIPI_demosaic_hybridevs/val/input/0824.npy',\n",
       " '/Users/bw/Dataset/MIPI_demosaic_hybridevs/val/input/0825.npy',\n",
       " '/Users/bw/Dataset/MIPI_demosaic_hybridevs/val/input/0826.npy',\n",
       " '/Users/bw/Dataset/MIPI_demosaic_hybridevs/val/input/0827.npy',\n",
       " '/Users/bw/Dataset/MIPI_demosaic_hybridevs/val/input/0828.npy',\n",
       " '/Users/bw/Dataset/MIPI_demosaic_hybridevs/val/input/0829.npy',\n",
       " '/Users/bw/Dataset/MIPI_demosaic_hybridevs/val/input/0830.npy',\n",
       " '/Users/bw/Dataset/MIPI_demosaic_hybridevs/val/input/0831.npy',\n",
       " '/Users/bw/Dataset/MIPI_demosaic_hybridevs/val/input/0832.npy',\n",
       " '/Users/bw/Dataset/MIPI_demosaic_hybridevs/val/input/0833.npy',\n",
       " '/Users/bw/Dataset/MIPI_demosaic_hybridevs/val/input/0834.npy',\n",
       " '/Users/bw/Dataset/MIPI_demosaic_hybridevs/val/input/0835.npy',\n",
       " '/Users/bw/Dataset/MIPI_demosaic_hybridevs/val/input/0836.npy',\n",
       " '/Users/bw/Dataset/MIPI_demosaic_hybridevs/val/input/0837.npy',\n",
       " '/Users/bw/Dataset/MIPI_demosaic_hybridevs/val/input/0838.npy',\n",
       " '/Users/bw/Dataset/MIPI_demosaic_hybridevs/val/input/0839.npy',\n",
       " '/Users/bw/Dataset/MIPI_demosaic_hybridevs/val/input/0840.npy',\n",
       " '/Users/bw/Dataset/MIPI_demosaic_hybridevs/val/input/0841.npy',\n",
       " '/Users/bw/Dataset/MIPI_demosaic_hybridevs/val/input/0842.npy',\n",
       " '/Users/bw/Dataset/MIPI_demosaic_hybridevs/val/input/0843.npy',\n",
       " '/Users/bw/Dataset/MIPI_demosaic_hybridevs/val/input/0844.npy',\n",
       " '/Users/bw/Dataset/MIPI_demosaic_hybridevs/val/input/0845.npy',\n",
       " '/Users/bw/Dataset/MIPI_demosaic_hybridevs/val/input/0846.npy',\n",
       " '/Users/bw/Dataset/MIPI_demosaic_hybridevs/val/input/0847.npy',\n",
       " '/Users/bw/Dataset/MIPI_demosaic_hybridevs/val/input/0848.npy',\n",
       " '/Users/bw/Dataset/MIPI_demosaic_hybridevs/val/input/0849.npy',\n",
       " '/Users/bw/Dataset/MIPI_demosaic_hybridevs/val/input/0850.npy']"
      ]
     },
     "execution_count": 12,
     "metadata": {},
     "output_type": "execute_result"
    }
   ],
   "source": [
    "val_path = '/Users/bw/Dataset/MIPI_demosaic_hybridevs/val'\n",
    "path = os.path.join(val_path, 'input/*.npy' )\n",
    "print(path)\n",
    "valfiles = glob.glob(path, recursive=True)\n",
    "valfiles.sort()\n",
    "valfiles"
   ]
  },
  {
   "cell_type": "code",
   "execution_count": 20,
   "id": "7b77b195",
   "metadata": {
    "ExecuteTime": {
     "end_time": "2024-02-10T17:16:24.929003Z",
     "start_time": "2024-02-10T17:16:24.925434Z"
    }
   },
   "outputs": [],
   "source": [
    "cure_path = '/Users/bw/Dataset/MIPI_demosaic_hybridevs/val/input_cure'"
   ]
  },
  {
   "cell_type": "code",
   "execution_count": 24,
   "id": "2a006595",
   "metadata": {
    "ExecuteTime": {
     "end_time": "2024-02-10T17:26:46.429334Z",
     "start_time": "2024-02-10T17:25:59.359842Z"
    }
   },
   "outputs": [
    {
     "name": "stdout",
     "output_type": "stream",
     "text": [
      "01,  /Users/bw/Dataset/MIPI_demosaic_hybridevs/val/input/0801.npy\n",
      "0801.npy\n",
      "/Users/bw/Dataset/MIPI_demosaic_hybridevs/val/input_cure/0801.npy\n",
      "02,  /Users/bw/Dataset/MIPI_demosaic_hybridevs/val/input/0802.npy\n",
      "0802.npy\n",
      "/Users/bw/Dataset/MIPI_demosaic_hybridevs/val/input_cure/0802.npy\n",
      "03,  /Users/bw/Dataset/MIPI_demosaic_hybridevs/val/input/0803.npy\n",
      "0803.npy\n",
      "/Users/bw/Dataset/MIPI_demosaic_hybridevs/val/input_cure/0803.npy\n",
      "04,  /Users/bw/Dataset/MIPI_demosaic_hybridevs/val/input/0804.npy\n",
      "0804.npy\n",
      "/Users/bw/Dataset/MIPI_demosaic_hybridevs/val/input_cure/0804.npy\n",
      "05,  /Users/bw/Dataset/MIPI_demosaic_hybridevs/val/input/0805.npy\n",
      "0805.npy\n",
      "/Users/bw/Dataset/MIPI_demosaic_hybridevs/val/input_cure/0805.npy\n",
      "06,  /Users/bw/Dataset/MIPI_demosaic_hybridevs/val/input/0806.npy\n",
      "0806.npy\n",
      "/Users/bw/Dataset/MIPI_demosaic_hybridevs/val/input_cure/0806.npy\n",
      "07,  /Users/bw/Dataset/MIPI_demosaic_hybridevs/val/input/0807.npy\n",
      "0807.npy\n",
      "/Users/bw/Dataset/MIPI_demosaic_hybridevs/val/input_cure/0807.npy\n",
      "08,  /Users/bw/Dataset/MIPI_demosaic_hybridevs/val/input/0808.npy\n",
      "0808.npy\n",
      "/Users/bw/Dataset/MIPI_demosaic_hybridevs/val/input_cure/0808.npy\n",
      "09,  /Users/bw/Dataset/MIPI_demosaic_hybridevs/val/input/0809.npy\n",
      "0809.npy\n",
      "/Users/bw/Dataset/MIPI_demosaic_hybridevs/val/input_cure/0809.npy\n",
      "10,  /Users/bw/Dataset/MIPI_demosaic_hybridevs/val/input/0810.npy\n",
      "0810.npy\n",
      "/Users/bw/Dataset/MIPI_demosaic_hybridevs/val/input_cure/0810.npy\n",
      "11,  /Users/bw/Dataset/MIPI_demosaic_hybridevs/val/input/0811.npy\n",
      "0811.npy\n",
      "/Users/bw/Dataset/MIPI_demosaic_hybridevs/val/input_cure/0811.npy\n",
      "12,  /Users/bw/Dataset/MIPI_demosaic_hybridevs/val/input/0812.npy\n",
      "0812.npy\n",
      "/Users/bw/Dataset/MIPI_demosaic_hybridevs/val/input_cure/0812.npy\n",
      "13,  /Users/bw/Dataset/MIPI_demosaic_hybridevs/val/input/0813.npy\n",
      "0813.npy\n",
      "/Users/bw/Dataset/MIPI_demosaic_hybridevs/val/input_cure/0813.npy\n",
      "14,  /Users/bw/Dataset/MIPI_demosaic_hybridevs/val/input/0814.npy\n",
      "0814.npy\n",
      "/Users/bw/Dataset/MIPI_demosaic_hybridevs/val/input_cure/0814.npy\n",
      "15,  /Users/bw/Dataset/MIPI_demosaic_hybridevs/val/input/0815.npy\n",
      "0815.npy\n",
      "/Users/bw/Dataset/MIPI_demosaic_hybridevs/val/input_cure/0815.npy\n",
      "16,  /Users/bw/Dataset/MIPI_demosaic_hybridevs/val/input/0816.npy\n",
      "0816.npy\n",
      "/Users/bw/Dataset/MIPI_demosaic_hybridevs/val/input_cure/0816.npy\n",
      "17,  /Users/bw/Dataset/MIPI_demosaic_hybridevs/val/input/0817.npy\n",
      "0817.npy\n",
      "/Users/bw/Dataset/MIPI_demosaic_hybridevs/val/input_cure/0817.npy\n",
      "18,  /Users/bw/Dataset/MIPI_demosaic_hybridevs/val/input/0818.npy\n",
      "0818.npy\n",
      "/Users/bw/Dataset/MIPI_demosaic_hybridevs/val/input_cure/0818.npy\n",
      "19,  /Users/bw/Dataset/MIPI_demosaic_hybridevs/val/input/0819.npy\n",
      "0819.npy\n",
      "/Users/bw/Dataset/MIPI_demosaic_hybridevs/val/input_cure/0819.npy\n",
      "20,  /Users/bw/Dataset/MIPI_demosaic_hybridevs/val/input/0820.npy\n",
      "0820.npy\n",
      "/Users/bw/Dataset/MIPI_demosaic_hybridevs/val/input_cure/0820.npy\n",
      "21,  /Users/bw/Dataset/MIPI_demosaic_hybridevs/val/input/0821.npy\n",
      "0821.npy\n",
      "/Users/bw/Dataset/MIPI_demosaic_hybridevs/val/input_cure/0821.npy\n",
      "22,  /Users/bw/Dataset/MIPI_demosaic_hybridevs/val/input/0822.npy\n",
      "0822.npy\n",
      "/Users/bw/Dataset/MIPI_demosaic_hybridevs/val/input_cure/0822.npy\n",
      "23,  /Users/bw/Dataset/MIPI_demosaic_hybridevs/val/input/0823.npy\n",
      "0823.npy\n",
      "/Users/bw/Dataset/MIPI_demosaic_hybridevs/val/input_cure/0823.npy\n",
      "24,  /Users/bw/Dataset/MIPI_demosaic_hybridevs/val/input/0824.npy\n",
      "0824.npy\n",
      "/Users/bw/Dataset/MIPI_demosaic_hybridevs/val/input_cure/0824.npy\n",
      "25,  /Users/bw/Dataset/MIPI_demosaic_hybridevs/val/input/0825.npy\n",
      "0825.npy\n",
      "/Users/bw/Dataset/MIPI_demosaic_hybridevs/val/input_cure/0825.npy\n",
      "26,  /Users/bw/Dataset/MIPI_demosaic_hybridevs/val/input/0826.npy\n",
      "0826.npy\n",
      "/Users/bw/Dataset/MIPI_demosaic_hybridevs/val/input_cure/0826.npy\n",
      "27,  /Users/bw/Dataset/MIPI_demosaic_hybridevs/val/input/0827.npy\n",
      "0827.npy\n",
      "/Users/bw/Dataset/MIPI_demosaic_hybridevs/val/input_cure/0827.npy\n",
      "28,  /Users/bw/Dataset/MIPI_demosaic_hybridevs/val/input/0828.npy\n",
      "0828.npy\n",
      "/Users/bw/Dataset/MIPI_demosaic_hybridevs/val/input_cure/0828.npy\n",
      "29,  /Users/bw/Dataset/MIPI_demosaic_hybridevs/val/input/0829.npy\n",
      "0829.npy\n",
      "/Users/bw/Dataset/MIPI_demosaic_hybridevs/val/input_cure/0829.npy\n",
      "30,  /Users/bw/Dataset/MIPI_demosaic_hybridevs/val/input/0830.npy\n",
      "0830.npy\n",
      "/Users/bw/Dataset/MIPI_demosaic_hybridevs/val/input_cure/0830.npy\n",
      "31,  /Users/bw/Dataset/MIPI_demosaic_hybridevs/val/input/0831.npy\n",
      "0831.npy\n",
      "/Users/bw/Dataset/MIPI_demosaic_hybridevs/val/input_cure/0831.npy\n",
      "32,  /Users/bw/Dataset/MIPI_demosaic_hybridevs/val/input/0832.npy\n",
      "0832.npy\n",
      "/Users/bw/Dataset/MIPI_demosaic_hybridevs/val/input_cure/0832.npy\n",
      "33,  /Users/bw/Dataset/MIPI_demosaic_hybridevs/val/input/0833.npy\n",
      "0833.npy\n",
      "/Users/bw/Dataset/MIPI_demosaic_hybridevs/val/input_cure/0833.npy\n",
      "34,  /Users/bw/Dataset/MIPI_demosaic_hybridevs/val/input/0834.npy\n",
      "0834.npy\n",
      "/Users/bw/Dataset/MIPI_demosaic_hybridevs/val/input_cure/0834.npy\n",
      "35,  /Users/bw/Dataset/MIPI_demosaic_hybridevs/val/input/0835.npy\n",
      "0835.npy\n",
      "/Users/bw/Dataset/MIPI_demosaic_hybridevs/val/input_cure/0835.npy\n",
      "36,  /Users/bw/Dataset/MIPI_demosaic_hybridevs/val/input/0836.npy\n",
      "0836.npy\n",
      "/Users/bw/Dataset/MIPI_demosaic_hybridevs/val/input_cure/0836.npy\n",
      "37,  /Users/bw/Dataset/MIPI_demosaic_hybridevs/val/input/0837.npy\n",
      "0837.npy\n",
      "/Users/bw/Dataset/MIPI_demosaic_hybridevs/val/input_cure/0837.npy\n",
      "38,  /Users/bw/Dataset/MIPI_demosaic_hybridevs/val/input/0838.npy\n",
      "0838.npy\n",
      "/Users/bw/Dataset/MIPI_demosaic_hybridevs/val/input_cure/0838.npy\n",
      "39,  /Users/bw/Dataset/MIPI_demosaic_hybridevs/val/input/0839.npy\n",
      "0839.npy\n",
      "/Users/bw/Dataset/MIPI_demosaic_hybridevs/val/input_cure/0839.npy\n",
      "40,  /Users/bw/Dataset/MIPI_demosaic_hybridevs/val/input/0840.npy\n",
      "0840.npy\n",
      "/Users/bw/Dataset/MIPI_demosaic_hybridevs/val/input_cure/0840.npy\n",
      "41,  /Users/bw/Dataset/MIPI_demosaic_hybridevs/val/input/0841.npy\n",
      "0841.npy\n",
      "/Users/bw/Dataset/MIPI_demosaic_hybridevs/val/input_cure/0841.npy\n",
      "42,  /Users/bw/Dataset/MIPI_demosaic_hybridevs/val/input/0842.npy\n",
      "0842.npy\n",
      "/Users/bw/Dataset/MIPI_demosaic_hybridevs/val/input_cure/0842.npy\n",
      "43,  /Users/bw/Dataset/MIPI_demosaic_hybridevs/val/input/0843.npy\n",
      "0843.npy\n",
      "/Users/bw/Dataset/MIPI_demosaic_hybridevs/val/input_cure/0843.npy\n",
      "44,  /Users/bw/Dataset/MIPI_demosaic_hybridevs/val/input/0844.npy\n",
      "0844.npy\n",
      "/Users/bw/Dataset/MIPI_demosaic_hybridevs/val/input_cure/0844.npy\n",
      "45,  /Users/bw/Dataset/MIPI_demosaic_hybridevs/val/input/0845.npy\n",
      "0845.npy\n",
      "/Users/bw/Dataset/MIPI_demosaic_hybridevs/val/input_cure/0845.npy\n",
      "46,  /Users/bw/Dataset/MIPI_demosaic_hybridevs/val/input/0846.npy\n",
      "0846.npy\n",
      "/Users/bw/Dataset/MIPI_demosaic_hybridevs/val/input_cure/0846.npy\n",
      "47,  /Users/bw/Dataset/MIPI_demosaic_hybridevs/val/input/0847.npy\n",
      "0847.npy\n",
      "/Users/bw/Dataset/MIPI_demosaic_hybridevs/val/input_cure/0847.npy\n",
      "48,  /Users/bw/Dataset/MIPI_demosaic_hybridevs/val/input/0848.npy\n",
      "0848.npy\n",
      "/Users/bw/Dataset/MIPI_demosaic_hybridevs/val/input_cure/0848.npy\n",
      "49,  /Users/bw/Dataset/MIPI_demosaic_hybridevs/val/input/0849.npy\n",
      "0849.npy\n",
      "/Users/bw/Dataset/MIPI_demosaic_hybridevs/val/input_cure/0849.npy\n",
      "50,  /Users/bw/Dataset/MIPI_demosaic_hybridevs/val/input/0850.npy\n",
      "0850.npy\n",
      "/Users/bw/Dataset/MIPI_demosaic_hybridevs/val/input_cure/0850.npy\n"
     ]
    }
   ],
   "source": [
    "for idx, file in enumerate(valfiles):\n",
    "    print(\"%02d, \"%(idx+1), file)\n",
    "    npyname = file.split('/')[-1]\n",
    "    print(npyname)\n",
    "    npyname = os.path.join(cure_path, npyname)\n",
    "    print(npyname)\n",
    "    \n",
    "    arr = np.load(file)\n",
    "    \n",
    "    arr = cure_static_bp(arr)\n",
    "    arr = cure_static_bp(arr)\n",
    "    \n",
    "    np.save(npyname, arr)\n",
    "#     break\n",
    "    \n",
    "    "
   ]
  },
  {
   "cell_type": "code",
   "execution_count": null,
   "id": "34883f16",
   "metadata": {},
   "outputs": [],
   "source": []
  }
 ],
 "metadata": {
  "kernelspec": {
   "display_name": "Python 3 (ipykernel)",
   "language": "python",
   "name": "python3"
  },
  "language_info": {
   "codemirror_mode": {
    "name": "ipython",
    "version": 3
   },
   "file_extension": ".py",
   "mimetype": "text/x-python",
   "name": "python",
   "nbconvert_exporter": "python",
   "pygments_lexer": "ipython3",
   "version": "3.9.16"
  },
  "varInspector": {
   "cols": {
    "lenName": 16,
    "lenType": 16,
    "lenVar": 40
   },
   "kernels_config": {
    "python": {
     "delete_cmd_postfix": "",
     "delete_cmd_prefix": "del ",
     "library": "var_list.py",
     "varRefreshCmd": "print(var_dic_list())"
    },
    "r": {
     "delete_cmd_postfix": ") ",
     "delete_cmd_prefix": "rm(",
     "library": "var_list.r",
     "varRefreshCmd": "cat(var_dic_list()) "
    }
   },
   "types_to_exclude": [
    "module",
    "function",
    "builtin_function_or_method",
    "instance",
    "_Feature"
   ],
   "window_display": true
  }
 },
 "nbformat": 4,
 "nbformat_minor": 5
}
