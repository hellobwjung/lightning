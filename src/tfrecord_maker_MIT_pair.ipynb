{
 "cells": [
  {
   "cell_type": "code",
   "execution_count": 1,
   "metadata": {
    "ExecuteTime": {
     "end_time": "2024-02-13T06:39:57.052095Z",
     "start_time": "2024-02-13T06:39:57.036212Z"
    },
    "executionInfo": {
     "elapsed": 399,
     "status": "ok",
     "timestamp": 1706065764056,
     "user": {
      "displayName": "BW Jung",
      "userId": "12269303807273248289"
     },
     "user_tz": -480
    },
    "id": "aluHe_gOW29K"
   },
   "outputs": [],
   "source": [
    "import os\n",
    "import glob\n",
    "import random\n",
    "import tqdm"
   ]
  },
  {
   "cell_type": "code",
   "execution_count": 2,
   "metadata": {
    "ExecuteTime": {
     "end_time": "2024-02-13T06:39:59.527379Z",
     "start_time": "2024-02-13T06:39:59.278640Z"
    },
    "executionInfo": {
     "elapsed": 3,
     "status": "ok",
     "timestamp": 1706065764057,
     "user": {
      "displayName": "BW Jung",
      "userId": "12269303807273248289"
     },
     "user_tz": -480
    },
    "id": "1JxaTa-HXHPq"
   },
   "outputs": [],
   "source": [
    "import numpy as np\n",
    "import matplotlib.pyplot as plt\n",
    "import PIL.Image as Image"
   ]
  },
  {
   "cell_type": "code",
   "execution_count": 3,
   "metadata": {
    "ExecuteTime": {
     "end_time": "2024-02-13T06:40:01.971424Z",
     "start_time": "2024-02-13T06:39:59.760665Z"
    },
    "colab": {
     "base_uri": "https://localhost:8080/",
     "height": 36
    },
    "executionInfo": {
     "elapsed": 406,
     "status": "ok",
     "timestamp": 1706065764752,
     "user": {
      "displayName": "BW Jung",
      "userId": "12269303807273248289"
     },
     "user_tz": -480
    },
    "id": "cwovgrgbXJ7y",
    "outputId": "9461d7b8-fb6e-4e3d-a7e7-fb5397196f5e"
   },
   "outputs": [
    {
     "data": {
      "text/plain": [
       "'2.13.0'"
      ]
     },
     "execution_count": 3,
     "metadata": {},
     "output_type": "execute_result"
    }
   ],
   "source": [
    "import tensorflow as tf\n",
    "tf.__version__"
   ]
  },
  {
   "cell_type": "code",
   "execution_count": 4,
   "metadata": {
    "ExecuteTime": {
     "end_time": "2024-02-13T06:40:03.414920Z",
     "start_time": "2024-02-13T06:40:03.410244Z"
    },
    "colab": {
     "base_uri": "https://localhost:8080/"
    },
    "executionInfo": {
     "elapsed": 4,
     "status": "ok",
     "timestamp": 1706065766582,
     "user": {
      "displayName": "BW Jung",
      "userId": "12269303807273248289"
     },
     "user_tz": -480
    },
    "id": "6hXUqNeFXBPR",
    "outputId": "6203c723-1797-4e98-d50a-b3ab16a286c6"
   },
   "outputs": [
    {
     "name": "stdout",
     "output_type": "stream",
     "text": [
      "[Errno 2] No such file or directory: '/content/drive/MyDrive/Datasets/MIPI_tetra/train'\n",
      "/Users/bw/Code/lightning/src\n"
     ]
    }
   ],
   "source": [
    "%cd /content/drive/MyDrive/Datasets/MIPI_tetra/train"
   ]
  },
  {
   "cell_type": "code",
   "execution_count": 5,
   "metadata": {
    "ExecuteTime": {
     "end_time": "2024-02-13T06:40:04.888475Z",
     "start_time": "2024-02-13T06:40:04.883103Z"
    },
    "executionInfo": {
     "elapsed": 249,
     "status": "ok",
     "timestamp": 1706065767082,
     "user": {
      "displayName": "BW Jung",
      "userId": "12269303807273248289"
     },
     "user_tz": -480
    },
    "id": "pEKvfpqWXCK5"
   },
   "outputs": [],
   "source": [
    "gt_files = glob.glob(\"gt/*.png\")\n",
    "input_files = glob.glob(\"input/*.npy\")\n",
    "gt_files.sort()\n",
    "input_files.sort()"
   ]
  },
  {
   "cell_type": "code",
   "execution_count": 6,
   "metadata": {
    "ExecuteTime": {
     "end_time": "2024-02-13T06:40:08.540425Z",
     "start_time": "2024-02-13T06:40:08.536453Z"
    },
    "colab": {
     "base_uri": "https://localhost:8080/"
    },
    "executionInfo": {
     "elapsed": 4,
     "status": "ok",
     "timestamp": 1706065768436,
     "user": {
      "displayName": "BW Jung",
      "userId": "12269303807273248289"
     },
     "user_tz": -480
    },
    "id": "pqjK9aoFXc5m",
    "outputId": "76d971ee-702e-4d1d-8d24-593bd33e5798"
   },
   "outputs": [
    {
     "name": "stdout",
     "output_type": "stream",
     "text": [
      "0 0\n"
     ]
    }
   ],
   "source": [
    "print(len(gt_files), len(input_files))"
   ]
  },
  {
   "cell_type": "code",
   "execution_count": 9,
   "metadata": {
    "ExecuteTime": {
     "end_time": "2024-02-13T06:41:00.494449Z",
     "start_time": "2024-02-13T06:41:00.350949Z"
    },
    "id": "5JMi84vGE21Y"
   },
   "outputs": [],
   "source": [
    "!mkdir mit_pairs"
   ]
  },
  {
   "cell_type": "code",
   "execution_count": 10,
   "metadata": {
    "ExecuteTime": {
     "end_time": "2024-02-13T06:41:03.329726Z",
     "start_time": "2024-02-13T06:41:03.186749Z"
    },
    "colab": {
     "base_uri": "https://localhost:8080/"
    },
    "executionInfo": {
     "elapsed": 423,
     "status": "ok",
     "timestamp": 1706059588020,
     "user": {
      "displayName": "BW Jung",
      "userId": "12269303807273248289"
     },
     "user_tz": -480
    },
    "id": "uu7PQuj9E0So",
    "outputId": "11a0f439-3cbc-44fe-db76-c3b6a6c3ad0e"
   },
   "outputs": [
    {
     "name": "stdout",
     "output_type": "stream",
     "text": [
      "total 74416\r\n",
      "drwxr-xr-x@ 34 bw  staff     1088  2 13 15:41 \u001b[1m\u001b[36m.\u001b[m\u001b[m/\r\n",
      "drwxr-xr-x@ 12 bw  staff      384  2  4 00:26 \u001b[1m\u001b[36m..\u001b[m\u001b[m/\r\n",
      "-rw-r--r--@  1 bw  staff     6148  2  4 00:24 .DS_Store\r\n",
      "drwxr-xr-x@  9 bw  staff      288  2 13 15:38 \u001b[1m\u001b[36m.ipynb_checkpoints\u001b[m\u001b[m/\r\n",
      "drwxr-xr-x@  4 bw  staff      128  2  6 00:29 \u001b[1m\u001b[36m__pycache__\u001b[m\u001b[m/\r\n",
      "-rw-r--r--@  1 bw  staff     6080  1 30 17:08 bp_correction.py\r\n",
      "-rw-r--r--@  1 bw  staff     2760  1 30 23:08 cure_input.py\r\n",
      "-rw-r--r--@  1 bw  staff     9264  2 13 00:40 inference.py\r\n",
      "-rw-r--r--@  1 bw  staff    18653  2  4 00:25 inference_gogo.py\r\n",
      "-rw-r--r--@  1 bw  staff  9064309  1 26 22:34 inference_notebook.ipynb\r\n",
      "-rw-r--r--@  1 bw  staff     8438  2  7 00:52 inference_single.py\r\n",
      "drwxr-xr-x@  2 bw  staff       64  2 13 15:41 \u001b[1m\u001b[36mmit_pairs\u001b[m\u001b[m/\r\n",
      "-rw-r--r--@  1 bw  staff   357582  2  5 02:56 model.png\r\n",
      "drwxr-xr-x@  4 bw  staff      128  2  5 02:31 \u001b[1m\u001b[36mmodel_dir\u001b[m\u001b[m/\r\n",
      "-rw-r--r--@  1 bw  staff    10076  1 29 00:17 mydataset.py\r\n",
      "-rw-r--r--@  1 bw  staff     4782  2  6  2023 myloss.py\r\n",
      "-rw-r--r--@  1 bw  staff     2650  1 27 16:46 mymodel.py\r\n",
      "-rw-r--r--@  1 bw  staff    21423  2  4 00:26 mymodel_tf.py\r\n",
      "-rw-r--r--@  1 bw  staff     1108  2  1 22:17 mypad.py\r\n",
      "-rw-r--r--@  1 bw  staff    12090  1 29 00:05 mytrain.py\r\n",
      "-rw-r--r--@  1 bw  staff  9182578  2  4 01:05 mytrain_delta_tf_notebook.ipynb\r\n",
      "-rw-r--r--@  1 bw  staff  9182986  2  5 02:59 mytrain_single_tf_notebook.ipynb\r\n",
      "-rw-r--r--@  1 bw  staff     8898  2  5 02:42 mytrain_tf.py\r\n",
      "-rw-r--r--@  1 bw  staff  9230822  1 28 20:01 mytrain_tf_notebook.ipynb\r\n",
      "-rw-r--r--@  1 bw  staff    44077  1 28 15:46 mytrain_torch_notebook.ipynb\r\n",
      "-rw-r--r--@  1 bw  staff     3718  2  6  2023 myutils.py\r\n",
      "-rw-r--r--@  1 bw  staff    31604  2  6 00:29 myutils_tf.py\r\n",
      "-rw-r--r--@  1 bw  staff      206  2 13 00:50 myzip.py\r\n",
      "-rw-r--r--@  1 bw  staff    43723  1 27 16:46 networks.py\r\n",
      "-rw-r--r--@  1 bw  staff   664827  2 13 15:27 preprocess_hybridenvs.ipynb\r\n",
      "-rw-r--r--@  1 bw  staff    29124  2 11 02:28 process_bin.ipynb\r\n",
      "-rw-r--r--@  1 bw  staff      134  1 25 22:45 readme.txt\r\n",
      "-rw-r--r--@  1 bw  staff    74170  2 13 15:26 tfrecord_maker.ipynb\r\n",
      "-rw-r--r--@  1 bw  staff    20069  2 13 15:40 tfrecord_maker_MIT_pair.ipynb\r\n"
     ]
    }
   ],
   "source": [
    "%ls -la"
   ]
  },
  {
   "cell_type": "code",
   "execution_count": 12,
   "metadata": {
    "ExecuteTime": {
     "end_time": "2024-02-13T06:45:17.075729Z",
     "start_time": "2024-02-13T06:45:17.070317Z"
    }
   },
   "outputs": [
    {
     "data": {
      "text/plain": [
       "'/Users/bw/Code/lightning/src'"
      ]
     },
     "execution_count": 12,
     "metadata": {},
     "output_type": "execute_result"
    }
   ],
   "source": [
    "cwd = os.getcwd()\n",
    "cwd"
   ]
  },
  {
   "cell_type": "markdown",
   "metadata": {},
   "source": [
    "# MIT dataset loading"
   ]
  },
  {
   "cell_type": "code",
   "execution_count": 13,
   "metadata": {
    "ExecuteTime": {
     "end_time": "2024-02-13T06:52:50.499594Z",
     "start_time": "2024-02-13T06:52:50.495525Z"
    },
    "id": "IvQtpiBKL4gO"
   },
   "outputs": [],
   "source": [
    "train_path = '/Users/bw/Dataset/MIT/images/train'"
   ]
  },
  {
   "cell_type": "code",
   "execution_count": 14,
   "metadata": {
    "ExecuteTime": {
     "end_time": "2024-02-13T06:52:55.440289Z",
     "start_time": "2024-02-13T06:52:55.434440Z"
    },
    "colab": {
     "base_uri": "https://localhost:8080/",
     "height": 36
    },
    "executionInfo": {
     "elapsed": 7,
     "status": "ok",
     "timestamp": 1706065795118,
     "user": {
      "displayName": "BW Jung",
      "userId": "12269303807273248289"
     },
     "user_tz": -480
    },
    "id": "H02Wy2pIcgYl",
    "outputId": "612e0df7-5334-4eaf-e9b2-2ce074010d5d"
   },
   "outputs": [
    {
     "data": {
      "text/plain": [
       "'/Users/bw/Code/lightning/src'"
      ]
     },
     "execution_count": 14,
     "metadata": {},
     "output_type": "execute_result"
    }
   ],
   "source": [
    "%pwd"
   ]
  },
  {
   "cell_type": "code",
   "execution_count": 16,
   "metadata": {
    "ExecuteTime": {
     "end_time": "2024-02-13T06:54:13.044490Z",
     "start_time": "2024-02-13T06:54:12.169877Z"
    },
    "executionInfo": {
     "elapsed": 571921,
     "status": "ok",
     "timestamp": 1706067274254,
     "user": {
      "displayName": "BW Jung",
      "userId": "12269303807273248289"
     },
     "user_tz": -480
    },
    "id": "6068yV2ycymM"
   },
   "outputs": [
    {
     "name": "stdout",
     "output_type": "stream",
     "text": [
      "260000\n"
     ]
    }
   ],
   "source": [
    "fnames = glob.glob(os.path.join(train_path, '**/*.png'), recursive=True)\n",
    "print(len(fnames))"
   ]
  },
  {
   "cell_type": "code",
   "execution_count": 18,
   "metadata": {
    "ExecuteTime": {
     "end_time": "2024-02-13T06:55:45.495958Z",
     "start_time": "2024-02-13T06:55:45.490025Z"
    },
    "id": "Pkql_9V5L4Te",
    "scrolled": true
   },
   "outputs": [
    {
     "data": {
      "text/plain": [
       "['/Users/bw/Dataset/MIT/images/train/moire/001/018292.png',\n",
       " '/Users/bw/Dataset/MIT/images/train/moire/001/010816.png',\n",
       " '/Users/bw/Dataset/MIT/images/train/moire/001/012967.png',\n",
       " '/Users/bw/Dataset/MIT/images/train/moire/001/019832.png',\n",
       " '/Users/bw/Dataset/MIT/images/train/moire/001/019826.png',\n",
       " '/Users/bw/Dataset/MIT/images/train/moire/001/012973.png',\n",
       " '/Users/bw/Dataset/MIT/images/train/moire/001/018286.png',\n",
       " '/Users/bw/Dataset/MIT/images/train/moire/001/010802.png',\n",
       " '/Users/bw/Dataset/MIT/images/train/moire/001/019198.png',\n",
       " '/Users/bw/Dataset/MIT/images/train/moire/001/015952.png']"
      ]
     },
     "execution_count": 18,
     "metadata": {},
     "output_type": "execute_result"
    }
   ],
   "source": [
    "fnames[:10]"
   ]
  },
  {
   "cell_type": "markdown",
   "metadata": {
    "id": "76TrBQnI4W4c"
   },
   "source": [
    "# shuffle patch, order is in \"order\" array"
   ]
  },
  {
   "cell_type": "code",
   "execution_count": 23,
   "metadata": {
    "ExecuteTime": {
     "end_time": "2024-02-13T07:13:13.099036Z",
     "start_time": "2024-02-13T07:13:13.011677Z"
    },
    "id": "qy-8s7Qw1wWr"
   },
   "outputs": [
    {
     "name": "stdout",
     "output_type": "stream",
     "text": [
      "260000\n",
      "[ 33838 122271 147313 ... 108583 157494 104166]\n"
     ]
    },
    {
     "data": {
      "text/plain": [
       "['/Users/bw/Dataset/MIT/images/train/hdrvdp/221/2210734.png',\n",
       " '/Users/bw/Dataset/MIT/images/train/hdrvdp/241/2413414.png',\n",
       " '/Users/bw/Dataset/MIT/images/train/hdrvdp/231/2316496.png',\n",
       " '/Users/bw/Dataset/MIT/images/train/hdrvdp/171/1713981.png',\n",
       " '/Users/bw/Dataset/MIT/images/train/hdrvdp/151/1512385.png',\n",
       " '/Users/bw/Dataset/MIT/images/train/hdrvdp/101/1011870.png',\n",
       " '/Users/bw/Dataset/MIT/images/train/hdrvdp/121/1215741.png',\n",
       " '/Users/bw/Dataset/MIT/images/train/hdrvdp/071/710854.png',\n",
       " '/Users/bw/Dataset/MIT/images/train/hdrvdp/181/1813478.png',\n",
       " '/Users/bw/Dataset/MIT/images/train/hdrvdp/211/2115856.png']"
      ]
     },
     "execution_count": 23,
     "metadata": {},
     "output_type": "execute_result"
    }
   ],
   "source": [
    " \n",
    "\n",
    "flen = len(fnames)\n",
    "print(flen)\n",
    "\n",
    "\n",
    "order = np.arange(flen)\n",
    "np.random.shuffle(order)\n",
    "print(order)\n",
    "\n",
    "\n",
    "\n",
    "pnames_gt = [ fnames[x] for x in order]\n",
    "pnames_gt[:10]"
   ]
  },
  {
   "cell_type": "code",
   "execution_count": 42,
   "metadata": {
    "ExecuteTime": {
     "end_time": "2024-02-13T07:17:50.469223Z",
     "start_time": "2024-02-13T07:17:50.463135Z"
    }
   },
   "outputs": [
    {
     "data": {
      "text/plain": [
       "array([3, 1, 3, 1, 3, 2, 0, 2, 0, 3, 0, 0, 2, 3, 3, 2, 2, 0, 3, 3, 0, 3,\n",
       "       1, 1, 0, 2, 3, 2, 1, 3, 2, 3, 1, 3, 1, 0, 1, 2, 3, 3, 1, 2, 1, 0,\n",
       "       3, 0, 0, 2, 1, 2, 0, 3, 2, 2, 3, 1, 3, 1, 3, 3, 2, 2, 0, 1, 0, 3,\n",
       "       2, 1, 0, 0, 3, 3, 1, 3, 3, 0, 2, 0, 0, 1, 1, 2, 1, 1, 2, 0, 1, 0,\n",
       "       2, 2, 0, 3, 0, 1, 1, 0, 3, 0, 3, 2])"
      ]
     },
     "execution_count": 42,
     "metadata": {},
     "output_type": "execute_result"
    }
   ],
   "source": [
    "np.random.randint(0, 4, 100)"
   ]
  },
  {
   "cell_type": "code",
   "execution_count": 43,
   "metadata": {
    "ExecuteTime": {
     "end_time": "2024-02-13T07:21:47.251614Z",
     "start_time": "2024-02-13T07:21:47.244750Z"
    }
   },
   "outputs": [
    {
     "data": {
      "text/plain": [
       "0.6602451519600707"
      ]
     },
     "execution_count": 43,
     "metadata": {},
     "output_type": "execute_result"
    }
   ],
   "source": [
    "np.random.normal()"
   ]
  },
  {
   "cell_type": "code",
   "execution_count": 71,
   "metadata": {
    "ExecuteTime": {
     "end_time": "2024-02-13T07:56:58.277922Z",
     "start_time": "2024-02-13T07:56:58.262089Z"
    }
   },
   "outputs": [],
   "source": [
    "crop_size = 128\n",
    "cfa_pattern = 2\n",
    "\n",
    "idx_R = np.tile(\n",
    "        np.concatenate((np.concatenate((np.ones((cfa_pattern, cfa_pattern)), np.zeros((cfa_pattern, cfa_pattern))), axis=1),\n",
    "                               np.concatenate((np.zeros((cfa_pattern, cfa_pattern)), np.zeros((cfa_pattern, cfa_pattern))), axis=1)), axis=0),\n",
    "          (crop_size // 2 // cfa_pattern, crop_size // 2 // cfa_pattern))\n",
    "\n",
    "idx_B = np.tile(\n",
    "        np.concatenate((np.concatenate((np.zeros((cfa_pattern, cfa_pattern)), np.zeros((cfa_pattern, cfa_pattern))), axis=1),\n",
    "                               np.concatenate((np.zeros((cfa_pattern, cfa_pattern)), np.ones((cfa_pattern, cfa_pattern))), axis=1)), axis=0),\n",
    "          (crop_size // 2 // cfa_pattern, crop_size // 2 // cfa_pattern))\n",
    "\n",
    "idx_G = np.tile(\n",
    "        np.concatenate((np.concatenate((np.zeros((cfa_pattern, cfa_pattern)), np.ones((cfa_pattern, cfa_pattern))), axis=1),\n",
    "                               np.concatenate((np.ones((cfa_pattern, cfa_pattern)), np.zeros((cfa_pattern, cfa_pattern))), axis=1)), axis=0),\n",
    "          (crop_size // 2 // cfa_pattern, crop_size // 2 // cfa_pattern))\n",
    "\n",
    "idx_RGB = np.concatenate((idx_R[..., np.newaxis],\n",
    "                          idx_G[..., np.newaxis],\n",
    "                          idx_B[..., np.newaxis]), axis=-1)\n"
   ]
  },
  {
   "cell_type": "code",
   "execution_count": 78,
   "metadata": {
    "ExecuteTime": {
     "end_time": "2024-02-13T08:13:40.606307Z",
     "start_time": "2024-02-13T08:13:40.601146Z"
    }
   },
   "outputs": [],
   "source": [
    "def make_input_from_gt(gt):\n",
    "    \n",
    "    gt_3ch = gt * idx_RGB\n",
    "    gt_1ch = np.sum(gt_3ch, axis=-1)\n",
    "    \n",
    "    inp = gt_1ch*4 + np.random.randint(0,4) # max: 255 -> 1023\n",
    "    \n",
    "    # insert bp's\n",
    "    bp_pos = np.random.normal(size=inp.shape) > 2.33\n",
    "#     print(bp_pos)\n",
    "    inp[bp_pos] = 1023\n",
    "    \n",
    "    return inp.astype('uint16')\n",
    "    \n",
    "    \n",
    "    \n",
    "    "
   ]
  },
  {
   "cell_type": "code",
   "execution_count": 91,
   "metadata": {
    "ExecuteTime": {
     "end_time": "2024-02-13T08:25:59.186280Z",
     "start_time": "2024-02-13T08:25:59.175923Z"
    },
    "id": "biuoF0dMX1jc"
   },
   "outputs": [],
   "source": [
    "def write_tfrecords(file_list_gt, idx_split, dataset_name, output_path):\n",
    "\n",
    "    ext = file_list_gt[0].split('.')[-1]\n",
    "\n",
    "    tfrecords_name = '%s_%03d_intp.tfrecords' % (dataset_name, idx_split)\n",
    "    tfrecords_name = os.path.join(output_path, tfrecords_name)\n",
    "\n",
    "    if os.path.isfile(tfrecords_name):\n",
    "        print('OHNO -->. tfrecord (%s) exists' % tfrecords_name)\n",
    "        #return\n",
    "\n",
    "    print('tfrecord not exists')\n",
    "    print('--->', tfrecords_name)\n",
    "\n",
    "    writer = tf.io.TFRecordWriter(tfrecords_name)\n",
    "\n",
    "    for index, file_name_gt in enumerate(tqdm.tqdm(file_list_gt)):\n",
    "#         print('%d / %d' % (index+1, len(file_list)))\n",
    "\n",
    "\n",
    "\n",
    "        image_gt = Image.open(file_name_gt)\n",
    "\n",
    "\n",
    "        image_arr_gt = np.array(image_gt).astype(np.uint8)\n",
    "        # lets make input image\n",
    "        image_arr_in = make_input_from_gt(image_arr_gt)\n",
    "\n",
    "        image_byte_gt = image_arr_gt.tobytes()\n",
    "        image_byte_in = image_arr_in.tobytes()\n",
    "\n",
    "        example = tf.train.Example(\n",
    "                features=tf.train.Features(feature={\n",
    "                    'gt': tf.train.Feature(\n",
    "                            bytes_list=tf.train.BytesList(value=[image_byte_gt])\n",
    "                    ),\n",
    "                    'in': tf.train.Feature(\n",
    "                            bytes_list=tf.train.BytesList(value=[image_byte_in])\n",
    "                    )\n",
    "                })\n",
    "        )\n",
    "\n",
    "\n",
    "\n",
    "        writer.write(example.SerializeToString())\n",
    "    writer.close()"
   ]
  },
  {
   "cell_type": "code",
   "execution_count": 92,
   "metadata": {
    "ExecuteTime": {
     "end_time": "2024-02-13T08:25:59.658374Z",
     "start_time": "2024-02-13T08:25:59.651925Z"
    },
    "id": "JDOD22imaV8E"
   },
   "outputs": [],
   "source": [
    "def make_tfrecords(flists, num_splits, dataset_name, output_path='.'):\n",
    "\n",
    "    flist_gt = flists\n",
    "\n",
    "    assert len(flist_gt) > 0, f'no file is found'\n",
    "  \n",
    "\n",
    "    total_len = len(flist_gt)\n",
    "    split_len = total_len // num_splits\n",
    "\n",
    "    print(total_len, split_len)\n",
    "    start_idx = np.array(list(range(num_splits)) )* split_len\n",
    "    finish_idx= (np.array((list(range(num_splits)) )) + 1) * split_len\n",
    "\n",
    "    print(start_idx)\n",
    "    print(finish_idx)\n",
    "    finish_idx[-1] = total_len\n",
    "\n",
    "    # exit()\n",
    "    # print(start_idx)\n",
    "    # print(finish_idx)\n",
    "\n",
    "    for idx_split in range(num_splits):\n",
    "        print(f'... {idx_split+1} / {num_splits}')\n",
    "        idx_s = start_idx[idx_split]\n",
    "        idx_f = finish_idx[idx_split]\n",
    "        write_tfrecords(flist_gt[idx_s:idx_f], idx_split, dataset_name, output_path)\n",
    "\n",
    "    print('done make_tfrecords')"
   ]
  },
  {
   "cell_type": "code",
   "execution_count": 93,
   "metadata": {
    "ExecuteTime": {
     "end_time": "2024-02-13T08:26:00.499430Z",
     "start_time": "2024-02-13T08:26:00.496639Z"
    }
   },
   "outputs": [],
   "source": [
    "output_path = '/Users/bw/Dataset/MIT/tfrecords_pairs_test'"
   ]
  },
  {
   "cell_type": "code",
   "execution_count": 94,
   "metadata": {
    "ExecuteTime": {
     "end_time": "2024-02-13T08:26:54.252931Z",
     "start_time": "2024-02-13T08:26:01.210371Z"
    },
    "id": "bKK3NbfoaV5N"
   },
   "outputs": [
    {
     "name": "stdout",
     "output_type": "stream",
     "text": [
      "260000 26000\n",
      "[     0  26000  52000  78000 104000 130000 156000 182000 208000 234000]\n",
      "[ 26000  52000  78000 104000 130000 156000 182000 208000 234000 260000]\n",
      "... 1 / 10\n",
      "OHNO -->. tfrecord (/Users/bw/Dataset/MIT/tfrecords_pairs_test/mit_tetra_train_pairs_000_intp.tfrecords) exists\n",
      "tfrecord not exists\n",
      "---> /Users/bw/Dataset/MIT/tfrecords_pairs_test/mit_tetra_train_pairs_000_intp.tfrecords\n"
     ]
    },
    {
     "name": "stderr",
     "output_type": "stream",
     "text": [
      "100%|██████████████████████████████████████████████████████████████████████████████████████████████████████████████████████████████████████| 26000/26000 [00:51<00:00, 508.54it/s]\n"
     ]
    },
    {
     "name": "stdout",
     "output_type": "stream",
     "text": [
      "... 2 / 10\n",
      "OHNO -->. tfrecord (/Users/bw/Dataset/MIT/tfrecords_pairs_test/mit_tetra_train_pairs_001_intp.tfrecords) exists\n",
      "tfrecord not exists\n",
      "---> /Users/bw/Dataset/MIT/tfrecords_pairs_test/mit_tetra_train_pairs_001_intp.tfrecords\n"
     ]
    },
    {
     "name": "stderr",
     "output_type": "stream",
     "text": [
      "  3%|████▋                                                                                                                                   | 906/26000 [00:01<00:50, 497.98it/s]\n"
     ]
    },
    {
     "ename": "KeyboardInterrupt",
     "evalue": "",
     "output_type": "error",
     "traceback": [
      "\u001b[0;31m---------------------------------------------------------------------------\u001b[0m",
      "\u001b[0;31mAttributeError\u001b[0m                            Traceback (most recent call last)",
      "File \u001b[0;32m/opt/homebrew/Caskroom/miniforge/base/envs/ML/lib/python3.9/site-packages/PIL/ImageFile.py:182\u001b[0m, in \u001b[0;36mImageFile.load\u001b[0;34m(self)\u001b[0m\n\u001b[1;32m    181\u001b[0m \u001b[38;5;28;01mtry\u001b[39;00m:\n\u001b[0;32m--> 182\u001b[0m     seek \u001b[38;5;241m=\u001b[39m \u001b[38;5;28;43mself\u001b[39;49m\u001b[38;5;241;43m.\u001b[39;49m\u001b[43mload_seek\u001b[49m\n\u001b[1;32m    183\u001b[0m     use_mmap \u001b[38;5;241m=\u001b[39m \u001b[38;5;28;01mFalse\u001b[39;00m\n",
      "\u001b[0;31mAttributeError\u001b[0m: 'PngImageFile' object has no attribute 'load_seek'",
      "\nDuring handling of the above exception, another exception occurred:\n",
      "\u001b[0;31mKeyboardInterrupt\u001b[0m                         Traceback (most recent call last)",
      "Cell \u001b[0;32mIn[94], line 3\u001b[0m\n\u001b[1;32m      1\u001b[0m \u001b[38;5;66;03m# make tfrecords\u001b[39;00m\n\u001b[1;32m      2\u001b[0m num_of_splits \u001b[38;5;241m=\u001b[39m \u001b[38;5;241m10\u001b[39m\n\u001b[0;32m----> 3\u001b[0m \u001b[43mmake_tfrecords\u001b[49m\u001b[43m(\u001b[49m\u001b[43mflists\u001b[49m\u001b[38;5;241;43m=\u001b[39;49m\u001b[43mpnames_gt\u001b[49m\u001b[43m,\u001b[49m\u001b[43m \u001b[49m\n\u001b[1;32m      4\u001b[0m \u001b[43m               \u001b[49m\u001b[43mnum_splits\u001b[49m\u001b[38;5;241;43m=\u001b[39;49m\u001b[43mnum_of_splits\u001b[49m\u001b[43m,\u001b[49m\u001b[43m \u001b[49m\n\u001b[1;32m      5\u001b[0m \u001b[43m               \u001b[49m\u001b[43mdataset_name\u001b[49m\u001b[38;5;241;43m=\u001b[39;49m\u001b[38;5;124;43m'\u001b[39;49m\u001b[38;5;124;43mmit_tetra_train_pairs\u001b[39;49m\u001b[38;5;124;43m'\u001b[39;49m\u001b[43m,\u001b[49m\u001b[43m \u001b[49m\n\u001b[1;32m      6\u001b[0m \u001b[43m               \u001b[49m\u001b[43moutput_path\u001b[49m\u001b[38;5;241;43m=\u001b[39;49m\u001b[43moutput_path\u001b[49m\u001b[43m)\u001b[49m\n",
      "Cell \u001b[0;32mIn[92], line 27\u001b[0m, in \u001b[0;36mmake_tfrecords\u001b[0;34m(flists, num_splits, dataset_name, output_path)\u001b[0m\n\u001b[1;32m     25\u001b[0m     idx_s \u001b[38;5;241m=\u001b[39m start_idx[idx_split]\n\u001b[1;32m     26\u001b[0m     idx_f \u001b[38;5;241m=\u001b[39m finish_idx[idx_split]\n\u001b[0;32m---> 27\u001b[0m     \u001b[43mwrite_tfrecords\u001b[49m\u001b[43m(\u001b[49m\u001b[43mflist_gt\u001b[49m\u001b[43m[\u001b[49m\u001b[43midx_s\u001b[49m\u001b[43m:\u001b[49m\u001b[43midx_f\u001b[49m\u001b[43m]\u001b[49m\u001b[43m,\u001b[49m\u001b[43m \u001b[49m\u001b[43midx_split\u001b[49m\u001b[43m,\u001b[49m\u001b[43m \u001b[49m\u001b[43mdataset_name\u001b[49m\u001b[43m,\u001b[49m\u001b[43m \u001b[49m\u001b[43moutput_path\u001b[49m\u001b[43m)\u001b[49m\n\u001b[1;32m     29\u001b[0m \u001b[38;5;28mprint\u001b[39m(\u001b[38;5;124m'\u001b[39m\u001b[38;5;124mdone make_tfrecords\u001b[39m\u001b[38;5;124m'\u001b[39m)\n",
      "Cell \u001b[0;32mIn[91], line 25\u001b[0m, in \u001b[0;36mwrite_tfrecords\u001b[0;34m(file_list_gt, idx_split, dataset_name, output_path)\u001b[0m\n\u001b[1;32m     17\u001b[0m     \u001b[38;5;28;01mfor\u001b[39;00m index, file_name_gt \u001b[38;5;129;01min\u001b[39;00m \u001b[38;5;28menumerate\u001b[39m(tqdm\u001b[38;5;241m.\u001b[39mtqdm(file_list_gt)):\n\u001b[1;32m     18\u001b[0m \u001b[38;5;66;03m#         print('%d / %d' % (index+1, len(file_list)))\u001b[39;00m\n\u001b[1;32m     22\u001b[0m         image_gt \u001b[38;5;241m=\u001b[39m Image\u001b[38;5;241m.\u001b[39mopen(file_name_gt)\n\u001b[0;32m---> 25\u001b[0m         image_arr_gt \u001b[38;5;241m=\u001b[39m \u001b[43mnp\u001b[49m\u001b[38;5;241;43m.\u001b[39;49m\u001b[43marray\u001b[49m\u001b[43m(\u001b[49m\u001b[43mimage_gt\u001b[49m\u001b[43m)\u001b[49m\u001b[38;5;241m.\u001b[39mastype(np\u001b[38;5;241m.\u001b[39muint8)\n\u001b[1;32m     26\u001b[0m         \u001b[38;5;66;03m# lets make input image\u001b[39;00m\n\u001b[1;32m     27\u001b[0m         image_arr_in \u001b[38;5;241m=\u001b[39m make_input_from_gt(image_arr_gt)\n",
      "File \u001b[0;32m/opt/homebrew/Caskroom/miniforge/base/envs/ML/lib/python3.9/site-packages/PIL/Image.py:673\u001b[0m, in \u001b[0;36mImage.__array_interface__\u001b[0;34m(self)\u001b[0m\n\u001b[1;32m    671\u001b[0m         new[\u001b[38;5;124m\"\u001b[39m\u001b[38;5;124mdata\u001b[39m\u001b[38;5;124m\"\u001b[39m] \u001b[38;5;241m=\u001b[39m \u001b[38;5;28mself\u001b[39m\u001b[38;5;241m.\u001b[39mtobytes(\u001b[38;5;124m\"\u001b[39m\u001b[38;5;124mraw\u001b[39m\u001b[38;5;124m\"\u001b[39m, \u001b[38;5;124m\"\u001b[39m\u001b[38;5;124mL\u001b[39m\u001b[38;5;124m\"\u001b[39m)\n\u001b[1;32m    672\u001b[0m     \u001b[38;5;28;01melse\u001b[39;00m:\n\u001b[0;32m--> 673\u001b[0m         new[\u001b[38;5;124m\"\u001b[39m\u001b[38;5;124mdata\u001b[39m\u001b[38;5;124m\"\u001b[39m] \u001b[38;5;241m=\u001b[39m \u001b[38;5;28;43mself\u001b[39;49m\u001b[38;5;241;43m.\u001b[39;49m\u001b[43mtobytes\u001b[49m\u001b[43m(\u001b[49m\u001b[43m)\u001b[49m\n\u001b[1;32m    674\u001b[0m \u001b[38;5;28;01mexcept\u001b[39;00m \u001b[38;5;167;01mException\u001b[39;00m \u001b[38;5;28;01mas\u001b[39;00m e:\n\u001b[1;32m    675\u001b[0m     \u001b[38;5;28;01mif\u001b[39;00m \u001b[38;5;129;01mnot\u001b[39;00m \u001b[38;5;28misinstance\u001b[39m(e, (\u001b[38;5;167;01mMemoryError\u001b[39;00m, \u001b[38;5;167;01mRecursionError\u001b[39;00m)):\n",
      "File \u001b[0;32m/opt/homebrew/Caskroom/miniforge/base/envs/ML/lib/python3.9/site-packages/PIL/Image.py:732\u001b[0m, in \u001b[0;36mImage.tobytes\u001b[0;34m(self, encoder_name, *args)\u001b[0m\n\u001b[1;32m    729\u001b[0m \u001b[38;5;28;01mif\u001b[39;00m encoder_name \u001b[38;5;241m==\u001b[39m \u001b[38;5;124m\"\u001b[39m\u001b[38;5;124mraw\u001b[39m\u001b[38;5;124m\"\u001b[39m \u001b[38;5;129;01mand\u001b[39;00m args \u001b[38;5;241m==\u001b[39m ():\n\u001b[1;32m    730\u001b[0m     args \u001b[38;5;241m=\u001b[39m \u001b[38;5;28mself\u001b[39m\u001b[38;5;241m.\u001b[39mmode\n\u001b[0;32m--> 732\u001b[0m \u001b[38;5;28;43mself\u001b[39;49m\u001b[38;5;241;43m.\u001b[39;49m\u001b[43mload\u001b[49m\u001b[43m(\u001b[49m\u001b[43m)\u001b[49m\n\u001b[1;32m    734\u001b[0m \u001b[38;5;28;01mif\u001b[39;00m \u001b[38;5;28mself\u001b[39m\u001b[38;5;241m.\u001b[39mwidth \u001b[38;5;241m==\u001b[39m \u001b[38;5;241m0\u001b[39m \u001b[38;5;129;01mor\u001b[39;00m \u001b[38;5;28mself\u001b[39m\u001b[38;5;241m.\u001b[39mheight \u001b[38;5;241m==\u001b[39m \u001b[38;5;241m0\u001b[39m:\n\u001b[1;32m    735\u001b[0m     \u001b[38;5;28;01mreturn\u001b[39;00m \u001b[38;5;124mb\u001b[39m\u001b[38;5;124m\"\u001b[39m\u001b[38;5;124m\"\u001b[39m\n",
      "File \u001b[0;32m/opt/homebrew/Caskroom/miniforge/base/envs/ML/lib/python3.9/site-packages/PIL/ImageFile.py:182\u001b[0m, in \u001b[0;36mImageFile.load\u001b[0;34m(self)\u001b[0m\n\u001b[1;32m    179\u001b[0m     read \u001b[38;5;241m=\u001b[39m \u001b[38;5;28mself\u001b[39m\u001b[38;5;241m.\u001b[39mfp\u001b[38;5;241m.\u001b[39mread\n\u001b[1;32m    181\u001b[0m \u001b[38;5;28;01mtry\u001b[39;00m:\n\u001b[0;32m--> 182\u001b[0m     seek \u001b[38;5;241m=\u001b[39m \u001b[38;5;28;43mself\u001b[39;49m\u001b[38;5;241;43m.\u001b[39;49m\u001b[43mload_seek\u001b[49m\n\u001b[1;32m    183\u001b[0m     use_mmap \u001b[38;5;241m=\u001b[39m \u001b[38;5;28;01mFalse\u001b[39;00m\n\u001b[1;32m    184\u001b[0m \u001b[38;5;28;01mexcept\u001b[39;00m \u001b[38;5;167;01mAttributeError\u001b[39;00m:\n",
      "\u001b[0;31mKeyboardInterrupt\u001b[0m: "
     ]
    }
   ],
   "source": [
    "# make tfrecords\n",
    "num_of_splits = 10\n",
    "make_tfrecords(flists=pnames_gt, \n",
    "               num_splits=num_of_splits, \n",
    "               dataset_name='mit_tetra_train_pairs', \n",
    "               output_path=output_path)"
   ]
  },
  {
   "cell_type": "code",
   "execution_count": null,
   "metadata": {
    "colab": {
     "base_uri": "https://localhost:8080/"
    },
    "executionInfo": {
     "elapsed": 4,
     "status": "ok",
     "timestamp": 1706015934261,
     "user": {
      "displayName": "BW Jung",
      "userId": "12269303807273248289"
     },
     "user_tz": -480
    },
    "id": "u06fpOTcaVzd",
    "outputId": "46e32b98-ab96-4905-8f35-9fb0bdcbd6c7"
   },
   "outputs": [],
   "source": [
    "2480/128, 1920/128"
   ]
  },
  {
   "cell_type": "code",
   "execution_count": null,
   "metadata": {
    "colab": {
     "base_uri": "https://localhost:8080/"
    },
    "executionInfo": {
     "elapsed": 261,
     "status": "ok",
     "timestamp": 1706015947248,
     "user": {
      "displayName": "BW Jung",
      "userId": "12269303807273248289"
     },
     "user_tz": -480
    },
    "id": "ozDm_R2saVxI",
    "outputId": "ba7bcfa8-2d86-408c-c38d-7aa563ac6664"
   },
   "outputs": [],
   "source": [
    "20*20"
   ]
  },
  {
   "cell_type": "code",
   "execution_count": null,
   "metadata": {
    "id": "UrdY2hkIaVuA"
   },
   "outputs": [],
   "source": []
  },
  {
   "cell_type": "code",
   "execution_count": null,
   "metadata": {
    "id": "3RZ97DfjaVrI"
   },
   "outputs": [],
   "source": []
  }
 ],
 "metadata": {
  "colab": {
   "authorship_tag": "ABX9TyOLKuWDUTnk7g4AYQSwttap",
   "mount_file_id": "1omqURYQwja1PObQcfJMiX6gGr2DpEiCg",
   "provenance": []
  },
  "kernelspec": {
   "display_name": "Python 3 (ipykernel)",
   "language": "python",
   "name": "python3"
  },
  "language_info": {
   "codemirror_mode": {
    "name": "ipython",
    "version": 3
   },
   "file_extension": ".py",
   "mimetype": "text/x-python",
   "name": "python",
   "nbconvert_exporter": "python",
   "pygments_lexer": "ipython3",
   "version": "3.9.16"
  },
  "varInspector": {
   "cols": {
    "lenName": 16,
    "lenType": 16,
    "lenVar": 40
   },
   "kernels_config": {
    "python": {
     "delete_cmd_postfix": "",
     "delete_cmd_prefix": "del ",
     "library": "var_list.py",
     "varRefreshCmd": "print(var_dic_list())"
    },
    "r": {
     "delete_cmd_postfix": ") ",
     "delete_cmd_prefix": "rm(",
     "library": "var_list.r",
     "varRefreshCmd": "cat(var_dic_list()) "
    }
   },
   "types_to_exclude": [
    "module",
    "function",
    "builtin_function_or_method",
    "instance",
    "_Feature"
   ],
   "window_display": false
  }
 },
 "nbformat": 4,
 "nbformat_minor": 1
}
