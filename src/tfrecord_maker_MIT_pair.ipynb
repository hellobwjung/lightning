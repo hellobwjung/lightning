{
 "cells": [
  {
   "cell_type": "code",
   "execution_count": 1,
   "metadata": {
    "ExecuteTime": {
     "end_time": "2024-02-13T12:58:26.718445Z",
     "start_time": "2024-02-13T12:58:26.707208Z"
    },
    "executionInfo": {
     "elapsed": 399,
     "status": "ok",
     "timestamp": 1706065764056,
     "user": {
      "displayName": "BW Jung",
      "userId": "12269303807273248289"
     },
     "user_tz": -480
    },
    "id": "aluHe_gOW29K"
   },
   "outputs": [],
   "source": [
    "import os\n",
    "import glob\n",
    "import random\n",
    "import tqdm"
   ]
  },
  {
   "cell_type": "code",
   "execution_count": 2,
   "metadata": {
    "ExecuteTime": {
     "end_time": "2024-02-13T12:58:27.684522Z",
     "start_time": "2024-02-13T12:58:27.474318Z"
    },
    "executionInfo": {
     "elapsed": 3,
     "status": "ok",
     "timestamp": 1706065764057,
     "user": {
      "displayName": "BW Jung",
      "userId": "12269303807273248289"
     },
     "user_tz": -480
    },
    "id": "1JxaTa-HXHPq"
   },
   "outputs": [],
   "source": [
    "import numpy as np\n",
    "import matplotlib.pyplot as plt\n",
    "import PIL.Image as Image"
   ]
  },
  {
   "cell_type": "code",
   "execution_count": 3,
   "metadata": {
    "ExecuteTime": {
     "end_time": "2024-02-13T12:58:29.723754Z",
     "start_time": "2024-02-13T12:58:28.005320Z"
    },
    "colab": {
     "base_uri": "https://localhost:8080/",
     "height": 36
    },
    "executionInfo": {
     "elapsed": 406,
     "status": "ok",
     "timestamp": 1706065764752,
     "user": {
      "displayName": "BW Jung",
      "userId": "12269303807273248289"
     },
     "user_tz": -480
    },
    "id": "cwovgrgbXJ7y",
    "outputId": "9461d7b8-fb6e-4e3d-a7e7-fb5397196f5e"
   },
   "outputs": [
    {
     "data": {
      "text/plain": [
       "'2.13.0'"
      ]
     },
     "execution_count": 3,
     "metadata": {},
     "output_type": "execute_result"
    }
   ],
   "source": [
    "import tensorflow as tf\n",
    "tf.__version__"
   ]
  },
  {
   "cell_type": "code",
   "execution_count": 4,
   "metadata": {
    "ExecuteTime": {
     "end_time": "2024-02-13T12:58:29.741362Z",
     "start_time": "2024-02-13T12:58:29.738775Z"
    },
    "colab": {
     "base_uri": "https://localhost:8080/"
    },
    "executionInfo": {
     "elapsed": 4,
     "status": "ok",
     "timestamp": 1706065766582,
     "user": {
      "displayName": "BW Jung",
      "userId": "12269303807273248289"
     },
     "user_tz": -480
    },
    "id": "6hXUqNeFXBPR",
    "outputId": "6203c723-1797-4e98-d50a-b3ab16a286c6"
   },
   "outputs": [
    {
     "name": "stdout",
     "output_type": "stream",
     "text": [
      "[Errno 2] No such file or directory: '/content/drive/MyDrive/Datasets/MIPI_tetra/train'\n",
      "/Users/bw/Code/lightning/src\n"
     ]
    }
   ],
   "source": [
    "%cd /content/drive/MyDrive/Datasets/MIPI_tetra/train"
   ]
  },
  {
   "cell_type": "code",
   "execution_count": 5,
   "metadata": {
    "ExecuteTime": {
     "end_time": "2024-02-13T12:58:29.884764Z",
     "start_time": "2024-02-13T12:58:29.762724Z"
    },
    "colab": {
     "base_uri": "https://localhost:8080/"
    },
    "executionInfo": {
     "elapsed": 423,
     "status": "ok",
     "timestamp": 1706059588020,
     "user": {
      "displayName": "BW Jung",
      "userId": "12269303807273248289"
     },
     "user_tz": -480
    },
    "id": "uu7PQuj9E0So",
    "outputId": "11a0f439-3cbc-44fe-db76-c3b6a6c3ad0e"
   },
   "outputs": [
    {
     "name": "stdout",
     "output_type": "stream",
     "text": [
      "total 92376\r\n",
      "drwxr-xr-x@ 35 bw  staff     1120  2 13 21:56 \u001b[1m\u001b[36m.\u001b[m\u001b[m/\r\n",
      "drwxr-xr-x@ 12 bw  staff      384  2  4 00:26 \u001b[1m\u001b[36m..\u001b[m\u001b[m/\r\n",
      "-rw-r--r--@  1 bw  staff     6148  2 13 15:49 .DS_Store\r\n",
      "drwxr-xr-x@ 10 bw  staff      320  2 13 18:25 \u001b[1m\u001b[36m.ipynb_checkpoints\u001b[m\u001b[m/\r\n",
      "drwxr-xr-x@  4 bw  staff      128  2  6 00:29 \u001b[1m\u001b[36m__pycache__\u001b[m\u001b[m/\r\n",
      "-rw-r--r--@  1 bw  staff     6080  1 30 17:08 bp_correction.py\r\n",
      "-rw-r--r--@  1 bw  staff     2760  1 30 23:08 cure_input.py\r\n",
      "-rw-r--r--@  1 bw  staff     9264  2 13 00:40 inference.py\r\n",
      "-rw-r--r--@  1 bw  staff    18653  2  4 00:25 inference_gogo.py\r\n",
      "-rw-r--r--@  1 bw  staff  9064309  1 26 22:34 inference_notebook.ipynb\r\n",
      "-rw-r--r--@  1 bw  staff     8438  2  7 00:52 inference_single.py\r\n",
      "drwxr-xr-x@  2 bw  staff       64  2 13 15:41 \u001b[1m\u001b[36mmit_pairs\u001b[m\u001b[m/\r\n",
      "-rw-r--r--@  1 bw  staff   357582  2  5 02:56 model.png\r\n",
      "drwxr-xr-x@  4 bw  staff      128  2  5 02:31 \u001b[1m\u001b[36mmodel_dir\u001b[m\u001b[m/\r\n",
      "-rw-r--r--@  1 bw  staff    10076  1 29 00:17 mydataset.py\r\n",
      "-rw-r--r--@  1 bw  staff     4782  2  6  2023 myloss.py\r\n",
      "-rw-r--r--@  1 bw  staff     2650  1 27 16:46 mymodel.py\r\n",
      "-rw-r--r--@  1 bw  staff    21423  2  4 00:26 mymodel_tf.py\r\n",
      "-rw-r--r--@  1 bw  staff     1108  2  1 22:17 mypad.py\r\n",
      "-rw-r--r--@  1 bw  staff    12090  1 29 00:05 mytrain.py\r\n",
      "-rw-r--r--@  1 bw  staff  9182578  2  4 01:05 mytrain_delta_tf_notebook.ipynb\r\n",
      "-rw-r--r--@  1 bw  staff  9182986  2  5 02:59 mytrain_single_tf_notebook.ipynb\r\n",
      "-rw-r--r--@  1 bw  staff     8898  2  5 02:42 mytrain_tf.py\r\n",
      "-rw-r--r--@  1 bw  staff  9230961  2 13 21:22 mytrain_tf_notebook.ipynb\r\n",
      "-rw-r--r--@  1 bw  staff  9182516  2 13 21:35 mytrain_tf_notebook_div2k_mit.ipynb\r\n",
      "-rw-r--r--@  1 bw  staff    44077  1 28 15:46 mytrain_torch_notebook.ipynb\r\n",
      "-rw-r--r--@  1 bw  staff     3718  2  6  2023 myutils.py\r\n",
      "-rw-r--r--@  1 bw  staff    31604  2  6 00:29 myutils_tf.py\r\n",
      "-rw-r--r--@  1 bw  staff      206  2 13 00:50 myzip.py\r\n",
      "-rw-r--r--@  1 bw  staff    43723  1 27 16:46 networks.py\r\n",
      "-rw-r--r--@  1 bw  staff   664827  2 13 15:27 preprocess_hybridenvs.ipynb\r\n",
      "-rw-r--r--@  1 bw  staff    29124  2 11 02:28 process_bin.ipynb\r\n",
      "-rw-r--r--@  1 bw  staff      134  1 25 22:45 readme.txt\r\n",
      "-rw-r--r--@  1 bw  staff    74170  2 13 15:26 tfrecord_maker.ipynb\r\n",
      "-rw-r--r--@  1 bw  staff    32136  2 13 21:56 tfrecord_maker_MIT_pair.ipynb\r\n"
     ]
    }
   ],
   "source": [
    "%ls -la"
   ]
  },
  {
   "cell_type": "code",
   "execution_count": 6,
   "metadata": {
    "ExecuteTime": {
     "end_time": "2024-02-13T12:58:29.912854Z",
     "start_time": "2024-02-13T12:58:29.910095Z"
    }
   },
   "outputs": [
    {
     "data": {
      "text/plain": [
       "'/Users/bw/Code/lightning/src'"
      ]
     },
     "execution_count": 6,
     "metadata": {},
     "output_type": "execute_result"
    }
   ],
   "source": [
    "cwd = os.getcwd()\n",
    "cwd"
   ]
  },
  {
   "cell_type": "markdown",
   "metadata": {},
   "source": [
    "# MIT dataset loading"
   ]
  },
  {
   "cell_type": "code",
   "execution_count": 22,
   "metadata": {
    "ExecuteTime": {
     "end_time": "2024-02-13T13:05:12.103323Z",
     "start_time": "2024-02-13T13:05:12.098188Z"
    },
    "id": "IvQtpiBKL4gO"
   },
   "outputs": [],
   "source": [
    "paths = ['/Users/bw/Dataset/MIT/images/train']\n",
    "paths = ['/Users/bw/Dataset/MIT/images/val',\n",
    "        '/Users/bw/Dataset/MIT/images/test' ]\n",
    "paths = ['/Users/bw/Dataset/MIT/images/viz10']"
   ]
  },
  {
   "cell_type": "code",
   "execution_count": 23,
   "metadata": {
    "ExecuteTime": {
     "end_time": "2024-02-13T13:05:13.074113Z",
     "start_time": "2024-02-13T13:05:13.068653Z"
    },
    "colab": {
     "base_uri": "https://localhost:8080/",
     "height": 36
    },
    "executionInfo": {
     "elapsed": 7,
     "status": "ok",
     "timestamp": 1706065795118,
     "user": {
      "displayName": "BW Jung",
      "userId": "12269303807273248289"
     },
     "user_tz": -480
    },
    "id": "H02Wy2pIcgYl",
    "outputId": "612e0df7-5334-4eaf-e9b2-2ce074010d5d"
   },
   "outputs": [
    {
     "data": {
      "text/plain": [
       "'/Users/bw/Code/lightning/src'"
      ]
     },
     "execution_count": 23,
     "metadata": {},
     "output_type": "execute_result"
    }
   ],
   "source": [
    "%pwd"
   ]
  },
  {
   "cell_type": "code",
   "execution_count": 24,
   "metadata": {
    "ExecuteTime": {
     "end_time": "2024-02-13T13:05:13.622904Z",
     "start_time": "2024-02-13T13:05:13.617439Z"
    },
    "executionInfo": {
     "elapsed": 571921,
     "status": "ok",
     "timestamp": 1706067274254,
     "user": {
      "displayName": "BW Jung",
      "userId": "12269303807273248289"
     },
     "user_tz": -480
    },
    "id": "6068yV2ycymM"
   },
   "outputs": [
    {
     "name": "stdout",
     "output_type": "stream",
     "text": [
      "/Users/bw/Dataset/MIT/images/viz10\n",
      "10\n"
     ]
    }
   ],
   "source": [
    "fnames = []\n",
    "\n",
    "for path in paths:\n",
    "    print(path)\n",
    "    fnames += glob.glob(os.path.join(path, '**/*.png'), recursive=True)\n",
    "print(len(fnames))"
   ]
  },
  {
   "cell_type": "code",
   "execution_count": 25,
   "metadata": {
    "ExecuteTime": {
     "end_time": "2024-02-13T13:05:14.396540Z",
     "start_time": "2024-02-13T13:05:14.391966Z"
    },
    "id": "Pkql_9V5L4Te",
    "scrolled": true
   },
   "outputs": [
    {
     "data": {
      "text/plain": [
       "['/Users/bw/Dataset/MIT/images/viz10/000008.png',\n",
       " '/Users/bw/Dataset/MIT/images/viz10/000009.png',\n",
       " '/Users/bw/Dataset/MIT/images/viz10/000007.png',\n",
       " '/Users/bw/Dataset/MIT/images/viz10/000006.png',\n",
       " '/Users/bw/Dataset/MIT/images/viz10/000004.png',\n",
       " '/Users/bw/Dataset/MIT/images/viz10/000010.png',\n",
       " '/Users/bw/Dataset/MIT/images/viz10/000005.png',\n",
       " '/Users/bw/Dataset/MIT/images/viz10/000001.png',\n",
       " '/Users/bw/Dataset/MIT/images/viz10/000002.png',\n",
       " '/Users/bw/Dataset/MIT/images/viz10/000003.png']"
      ]
     },
     "execution_count": 25,
     "metadata": {},
     "output_type": "execute_result"
    }
   ],
   "source": [
    "fnames[:10]"
   ]
  },
  {
   "cell_type": "markdown",
   "metadata": {
    "id": "76TrBQnI4W4c"
   },
   "source": [
    "# shuffle patch, order is in \"order\" array"
   ]
  },
  {
   "cell_type": "code",
   "execution_count": 35,
   "metadata": {
    "ExecuteTime": {
     "end_time": "2024-02-13T13:06:45.185468Z",
     "start_time": "2024-02-13T13:06:45.178833Z"
    },
    "id": "qy-8s7Qw1wWr"
   },
   "outputs": [
    {
     "name": "stdout",
     "output_type": "stream",
     "text": [
      "10\n",
      "[0 1 2 3 4 5 6 7 8 9]\n"
     ]
    },
    {
     "data": {
      "text/plain": [
       "['/Users/bw/Dataset/MIT/images/viz10/000001.png',\n",
       " '/Users/bw/Dataset/MIT/images/viz10/000002.png',\n",
       " '/Users/bw/Dataset/MIT/images/viz10/000003.png',\n",
       " '/Users/bw/Dataset/MIT/images/viz10/000004.png',\n",
       " '/Users/bw/Dataset/MIT/images/viz10/000005.png',\n",
       " '/Users/bw/Dataset/MIT/images/viz10/000006.png',\n",
       " '/Users/bw/Dataset/MIT/images/viz10/000007.png',\n",
       " '/Users/bw/Dataset/MIT/images/viz10/000008.png',\n",
       " '/Users/bw/Dataset/MIT/images/viz10/000009.png',\n",
       " '/Users/bw/Dataset/MIT/images/viz10/000010.png']"
      ]
     },
     "execution_count": 35,
     "metadata": {},
     "output_type": "execute_result"
    }
   ],
   "source": [
    " \n",
    "# fnames.sort()\n",
    "flen = len(fnames)\n",
    "\n",
    "print(flen)\n",
    "\n",
    "\n",
    "order = np.arange(flen)\n",
    "# np.random.shuffle(order)\n",
    "\n",
    "print(order)\n",
    "\n",
    "\n",
    "\n",
    "pnames_gt = [ fnames[x] for x in order]\n",
    "pnames_gt[:10]"
   ]
  },
  {
   "cell_type": "code",
   "execution_count": 36,
   "metadata": {
    "ExecuteTime": {
     "end_time": "2024-02-13T13:06:51.392905Z",
     "start_time": "2024-02-13T13:06:51.383925Z"
    }
   },
   "outputs": [
    {
     "data": {
      "text/plain": [
       "array([0, 0, 3, 0, 3, 1, 1, 3, 1, 2, 2, 3, 0, 3, 1, 1, 0, 3, 0, 1, 2, 2,\n",
       "       2, 2, 1, 3, 3, 2, 1, 3, 2, 2, 0, 1, 0, 2, 2, 0, 2, 1, 0, 0, 1, 0,\n",
       "       2, 3, 0, 0, 2, 2, 3, 3, 2, 1, 0, 0, 0, 0, 3, 0, 1, 1, 0, 0, 3, 1,\n",
       "       0, 2, 2, 2, 1, 3, 2, 3, 2, 1, 2, 2, 3, 3, 2, 2, 3, 2, 0, 2, 1, 3,\n",
       "       2, 1, 1, 1, 2, 2, 3, 3, 2, 3, 0, 2])"
      ]
     },
     "execution_count": 36,
     "metadata": {},
     "output_type": "execute_result"
    }
   ],
   "source": [
    "np.random.randint(0, 4, 100)"
   ]
  },
  {
   "cell_type": "code",
   "execution_count": 37,
   "metadata": {
    "ExecuteTime": {
     "end_time": "2024-02-13T13:06:55.316218Z",
     "start_time": "2024-02-13T13:06:55.311839Z"
    }
   },
   "outputs": [
    {
     "data": {
      "text/plain": [
       "1.4010682567320862"
      ]
     },
     "execution_count": 37,
     "metadata": {},
     "output_type": "execute_result"
    }
   ],
   "source": [
    "np.random.normal()"
   ]
  },
  {
   "cell_type": "code",
   "execution_count": 38,
   "metadata": {
    "ExecuteTime": {
     "end_time": "2024-02-13T13:06:55.792817Z",
     "start_time": "2024-02-13T13:06:55.778436Z"
    }
   },
   "outputs": [],
   "source": [
    "crop_size = 128\n",
    "cfa_pattern = 2\n",
    "\n",
    "idx_R = np.tile(\n",
    "        np.concatenate((np.concatenate((np.ones((cfa_pattern, cfa_pattern)), np.zeros((cfa_pattern, cfa_pattern))), axis=1),\n",
    "                               np.concatenate((np.zeros((cfa_pattern, cfa_pattern)), np.zeros((cfa_pattern, cfa_pattern))), axis=1)), axis=0),\n",
    "          (crop_size // 2 // cfa_pattern, crop_size // 2 // cfa_pattern))\n",
    "\n",
    "idx_B = np.tile(\n",
    "        np.concatenate((np.concatenate((np.zeros((cfa_pattern, cfa_pattern)), np.zeros((cfa_pattern, cfa_pattern))), axis=1),\n",
    "                               np.concatenate((np.zeros((cfa_pattern, cfa_pattern)), np.ones((cfa_pattern, cfa_pattern))), axis=1)), axis=0),\n",
    "          (crop_size // 2 // cfa_pattern, crop_size // 2 // cfa_pattern))\n",
    "\n",
    "idx_G = np.tile(\n",
    "        np.concatenate((np.concatenate((np.zeros((cfa_pattern, cfa_pattern)), np.ones((cfa_pattern, cfa_pattern))), axis=1),\n",
    "                               np.concatenate((np.ones((cfa_pattern, cfa_pattern)), np.zeros((cfa_pattern, cfa_pattern))), axis=1)), axis=0),\n",
    "          (crop_size // 2 // cfa_pattern, crop_size // 2 // cfa_pattern))\n",
    "\n",
    "idx_RGB = np.concatenate((idx_R[..., np.newaxis],\n",
    "                          idx_G[..., np.newaxis],\n",
    "                          idx_B[..., np.newaxis]), axis=-1)\n"
   ]
  },
  {
   "cell_type": "code",
   "execution_count": 39,
   "metadata": {
    "ExecuteTime": {
     "end_time": "2024-02-13T13:07:05.623723Z",
     "start_time": "2024-02-13T13:07:05.618436Z"
    }
   },
   "outputs": [],
   "source": [
    "def make_input_from_gt(gt):\n",
    "    \n",
    "    gt_3ch = gt * idx_RGB\n",
    "    gt_1ch = np.sum(gt_3ch, axis=-1)\n",
    "    \n",
    "    inp = gt_1ch*4 + np.random.randint(0,4) # max: 255 -> 1023\n",
    "    \n",
    "    # insert bp's\n",
    "    bp_pos = np.random.normal(size=inp.shape) > 2.33\n",
    "#     print(bp_pos)\n",
    "    inp[bp_pos] = 1023\n",
    "    \n",
    "    return inp.astype('uint16')\n",
    "    \n",
    "    \n",
    "    \n",
    "    "
   ]
  },
  {
   "cell_type": "code",
   "execution_count": 40,
   "metadata": {
    "ExecuteTime": {
     "end_time": "2024-02-13T13:07:07.168650Z",
     "start_time": "2024-02-13T13:07:07.159455Z"
    },
    "id": "biuoF0dMX1jc"
   },
   "outputs": [],
   "source": [
    "def write_tfrecords(file_list_gt, idx_split, dataset_name, output_path):\n",
    "\n",
    "    ext = file_list_gt[0].split('.')[-1]\n",
    "\n",
    "    tfrecords_name = '%s_%03d_intp.tfrecords' % (dataset_name, idx_split)\n",
    "    tfrecords_name = os.path.join(output_path, tfrecords_name)\n",
    "\n",
    "    if os.path.isfile(tfrecords_name):\n",
    "        print('OHNO -->. tfrecord (%s) exists' % tfrecords_name)\n",
    "        #return\n",
    "\n",
    "    print('tfrecord not exists')\n",
    "    print('--->', tfrecords_name)\n",
    "\n",
    "    writer = tf.io.TFRecordWriter(tfrecords_name)\n",
    "\n",
    "    for index, file_name_gt in enumerate(tqdm.tqdm(file_list_gt)):\n",
    "#         print('%d / %d' % (index+1, len(file_list)))\n",
    "\n",
    "\n",
    "\n",
    "        image_gt = Image.open(file_name_gt)\n",
    "\n",
    "\n",
    "        image_arr_gt = np.array(image_gt).astype(np.uint8)\n",
    "        # lets make input image\n",
    "        image_arr_in = make_input_from_gt(image_arr_gt)\n",
    "\n",
    "        image_byte_gt = image_arr_gt.tobytes()\n",
    "        image_byte_in = image_arr_in.tobytes()\n",
    "\n",
    "        example = tf.train.Example(\n",
    "                features=tf.train.Features(feature={\n",
    "                    'gt': tf.train.Feature(\n",
    "                            bytes_list=tf.train.BytesList(value=[image_byte_gt])\n",
    "                    ),\n",
    "                    'in': tf.train.Feature(\n",
    "                            bytes_list=tf.train.BytesList(value=[image_byte_in])\n",
    "                    )\n",
    "                })\n",
    "        )\n",
    "\n",
    "\n",
    "\n",
    "        writer.write(example.SerializeToString())\n",
    "    writer.close()"
   ]
  },
  {
   "cell_type": "code",
   "execution_count": 41,
   "metadata": {
    "ExecuteTime": {
     "end_time": "2024-02-13T13:07:08.634834Z",
     "start_time": "2024-02-13T13:07:08.628466Z"
    },
    "id": "JDOD22imaV8E"
   },
   "outputs": [],
   "source": [
    "def make_tfrecords(flists, num_splits, dataset_name, output_path='.'):\n",
    "\n",
    "    flist_gt = flists\n",
    "\n",
    "    assert len(flist_gt) > 0, f'no file is found'\n",
    "  \n",
    "\n",
    "    total_len = len(flist_gt)\n",
    "    split_len = total_len // num_splits\n",
    "\n",
    "    print(total_len, split_len)\n",
    "    start_idx = np.array(list(range(num_splits)) )* split_len\n",
    "    finish_idx= (np.array((list(range(num_splits)) )) + 1) * split_len\n",
    "\n",
    "    print(start_idx)\n",
    "    print(finish_idx)\n",
    "    finish_idx[-1] = total_len\n",
    "\n",
    "    # exit()\n",
    "    # print(start_idx)\n",
    "    # print(finish_idx)\n",
    "\n",
    "    for idx_split in range(num_splits):\n",
    "        print(f'... {idx_split+1} / {num_splits}')\n",
    "        idx_s = start_idx[idx_split]\n",
    "        idx_f = finish_idx[idx_split]\n",
    "        write_tfrecords(flist_gt[idx_s:idx_f], idx_split, dataset_name, output_path)\n",
    "\n",
    "    print('done make_tfrecords')"
   ]
  },
  {
   "cell_type": "code",
   "execution_count": 42,
   "metadata": {
    "ExecuteTime": {
     "end_time": "2024-02-13T13:07:11.097584Z",
     "start_time": "2024-02-13T13:07:11.094467Z"
    }
   },
   "outputs": [],
   "source": [
    "output_path = '/Users/bw/Dataset/MIT/tfrecords_pairs'"
   ]
  },
  {
   "cell_type": "code",
   "execution_count": 44,
   "metadata": {
    "ExecuteTime": {
     "end_time": "2024-02-13T13:07:23.998106Z",
     "start_time": "2024-02-13T13:07:23.957624Z"
    },
    "id": "bKK3NbfoaV5N"
   },
   "outputs": [
    {
     "name": "stdout",
     "output_type": "stream",
     "text": [
      "10 10\n",
      "[0]\n",
      "[10]\n",
      "... 1 / 1\n",
      "OHNO -->. tfrecord (/Users/bw/Dataset/MIT/tfrecords_pairs/mit_tetra_viz10_pairs_000_intp.tfrecords) exists\n",
      "tfrecord not exists\n",
      "---> /Users/bw/Dataset/MIT/tfrecords_pairs/mit_tetra_viz10_pairs_000_intp.tfrecords\n"
     ]
    },
    {
     "name": "stderr",
     "output_type": "stream",
     "text": [
      "100%|████████████████████████████████████████████████████████████████████████████████████████████████████████████████████████████████████████████| 10/10 [00:00<00:00, 295.07it/s]"
     ]
    },
    {
     "name": "stdout",
     "output_type": "stream",
     "text": [
      "done make_tfrecords\n"
     ]
    },
    {
     "name": "stderr",
     "output_type": "stream",
     "text": [
      "\n"
     ]
    }
   ],
   "source": [
    "# make tfrecords\n",
    "num_of_splits = 1\n",
    "make_tfrecords(flists=pnames_gt, \n",
    "               num_splits=num_of_splits, \n",
    "               dataset_name='mit_tetra_viz10_pairs', \n",
    "               output_path=output_path)"
   ]
  },
  {
   "cell_type": "code",
   "execution_count": null,
   "metadata": {
    "colab": {
     "base_uri": "https://localhost:8080/"
    },
    "executionInfo": {
     "elapsed": 4,
     "status": "ok",
     "timestamp": 1706015934261,
     "user": {
      "displayName": "BW Jung",
      "userId": "12269303807273248289"
     },
     "user_tz": -480
    },
    "id": "u06fpOTcaVzd",
    "outputId": "46e32b98-ab96-4905-8f35-9fb0bdcbd6c7"
   },
   "outputs": [],
   "source": [
    "2480/128, 1920/128"
   ]
  },
  {
   "cell_type": "code",
   "execution_count": null,
   "metadata": {
    "colab": {
     "base_uri": "https://localhost:8080/"
    },
    "executionInfo": {
     "elapsed": 261,
     "status": "ok",
     "timestamp": 1706015947248,
     "user": {
      "displayName": "BW Jung",
      "userId": "12269303807273248289"
     },
     "user_tz": -480
    },
    "id": "ozDm_R2saVxI",
    "outputId": "ba7bcfa8-2d86-408c-c38d-7aa563ac6664"
   },
   "outputs": [],
   "source": [
    "20*20"
   ]
  },
  {
   "cell_type": "code",
   "execution_count": null,
   "metadata": {
    "id": "UrdY2hkIaVuA"
   },
   "outputs": [],
   "source": []
  },
  {
   "cell_type": "code",
   "execution_count": null,
   "metadata": {
    "id": "3RZ97DfjaVrI"
   },
   "outputs": [],
   "source": []
  }
 ],
 "metadata": {
  "colab": {
   "authorship_tag": "ABX9TyOLKuWDUTnk7g4AYQSwttap",
   "mount_file_id": "1omqURYQwja1PObQcfJMiX6gGr2DpEiCg",
   "provenance": []
  },
  "kernelspec": {
   "display_name": "Python 3 (ipykernel)",
   "language": "python",
   "name": "python3"
  },
  "language_info": {
   "codemirror_mode": {
    "name": "ipython",
    "version": 3
   },
   "file_extension": ".py",
   "mimetype": "text/x-python",
   "name": "python",
   "nbconvert_exporter": "python",
   "pygments_lexer": "ipython3",
   "version": "3.9.16"
  },
  "varInspector": {
   "cols": {
    "lenName": 16,
    "lenType": 16,
    "lenVar": 40
   },
   "kernels_config": {
    "python": {
     "delete_cmd_postfix": "",
     "delete_cmd_prefix": "del ",
     "library": "var_list.py",
     "varRefreshCmd": "print(var_dic_list())"
    },
    "r": {
     "delete_cmd_postfix": ") ",
     "delete_cmd_prefix": "rm(",
     "library": "var_list.r",
     "varRefreshCmd": "cat(var_dic_list()) "
    }
   },
   "types_to_exclude": [
    "module",
    "function",
    "builtin_function_or_method",
    "instance",
    "_Feature"
   ],
   "window_display": false
  }
 },
 "nbformat": 4,
 "nbformat_minor": 1
}
